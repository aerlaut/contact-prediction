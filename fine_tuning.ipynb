{
 "cells": [
  {
   "cell_type": "markdown",
   "id": "71ddb0ac-b84d-4215-bdb2-3c52447f8fdf",
   "metadata": {},
   "source": [
    "# Clean up fine-tuning steps"
   ]
  },
  {
   "cell_type": "code",
   "execution_count": 1,
   "id": "723b2cd5-a0ba-4f9d-9970-5c8558b76e99",
   "metadata": {
    "tags": []
   },
   "outputs": [],
   "source": [
    "# standard lib\n",
    "from pathlib import Path\n",
    "from typing import List, Tuple, Optional, Dict, NamedTuple, Union, Callable\n",
    "\n",
    "# parsers, for pdb, fasta, etc...\n",
    "from Bio import SeqIO\n",
    "import biotite.sequence as bseq\n",
    "import biotite.structure as bs\n",
    "from biotite.structure.io.pdbx import PDBxFile, get_sequence, get_structure\n",
    "from biotite.database import rcsb\n",
    "\n",
    "# scientific libs\n",
    "import numpy as np\n",
    "import pandas as pd\n",
    "from scipy.spatial.distance import squareform, pdist, cdist\n",
    "\n",
    "# DL libs\n",
    "import torch\n",
    "import torchvision\n",
    "import esm\n",
    "\n",
    "from torch.utils.data import DataLoader\n",
    "import torch.optim as optim\n",
    "\n",
    "# graph libs\n",
    "import matplotlib as mpl\n",
    "import matplotlib.pyplot as plt\n",
    "import seaborn as sns"
   ]
  },
  {
   "cell_type": "code",
   "execution_count": 2,
   "id": "671f4f9b-d7e5-40be-b519-cee9187f6ee0",
   "metadata": {
    "tags": []
   },
   "outputs": [],
   "source": [
    "# standard lib\n",
    "import os\n",
    "from pathlib import Path\n",
    "import tqdm as tqdm \n",
    "\n",
    "# scientific libs\n",
    "import numpy as np\n",
    "\n",
    "# DL libs\n",
    "import torch\n",
    "import torchvision\n",
    "from torch.utils.data import DataLoader\n",
    "import torch.optim as optim\n",
    "import torch.nn as nn\n",
    "import esm\n",
    "from esm.data import ESMStructuralSplitDataset\n",
    "\n",
    "# graph libs\n",
    "import matplotlib.pyplot as plt"
   ]
  },
  {
   "cell_type": "code",
   "execution_count": 3,
   "id": "cd845ce6-2f8c-43fe-83d0-c86212b9a6a3",
   "metadata": {
    "tags": []
   },
   "outputs": [],
   "source": [
    "model, alphabet = esm.pretrained.esm2_t6_8M_UR50D()\n",
    "\n",
    "for param in model.parameters():\n",
    "    param.requires_grad = False"
   ]
  },
  {
   "cell_type": "code",
   "execution_count": 4,
   "id": "6aea150c-c4cc-41e1-b15c-1fe48378ed78",
   "metadata": {
    "tags": []
   },
   "outputs": [
    {
     "name": "stdout",
     "output_type": "stream",
     "text": [
      "Parameter name: embed_tokens.weight, Size: torch.Size([33, 320])\n",
      "Parameter name: layers.0.self_attn.k_proj.weight, Size: torch.Size([320, 320])\n",
      "Parameter name: layers.0.self_attn.k_proj.bias, Size: torch.Size([320])\n",
      "Parameter name: layers.0.self_attn.v_proj.weight, Size: torch.Size([320, 320])\n",
      "Parameter name: layers.0.self_attn.v_proj.bias, Size: torch.Size([320])\n",
      "Parameter name: layers.0.self_attn.q_proj.weight, Size: torch.Size([320, 320])\n",
      "Parameter name: layers.0.self_attn.q_proj.bias, Size: torch.Size([320])\n",
      "Parameter name: layers.0.self_attn.out_proj.weight, Size: torch.Size([320, 320])\n",
      "Parameter name: layers.0.self_attn.out_proj.bias, Size: torch.Size([320])\n",
      "Parameter name: layers.0.self_attn_layer_norm.weight, Size: torch.Size([320])\n",
      "Parameter name: layers.0.self_attn_layer_norm.bias, Size: torch.Size([320])\n",
      "Parameter name: layers.0.fc1.weight, Size: torch.Size([1280, 320])\n",
      "Parameter name: layers.0.fc1.bias, Size: torch.Size([1280])\n",
      "Parameter name: layers.0.fc2.weight, Size: torch.Size([320, 1280])\n",
      "Parameter name: layers.0.fc2.bias, Size: torch.Size([320])\n",
      "Parameter name: layers.0.final_layer_norm.weight, Size: torch.Size([320])\n",
      "Parameter name: layers.0.final_layer_norm.bias, Size: torch.Size([320])\n",
      "Parameter name: layers.1.self_attn.k_proj.weight, Size: torch.Size([320, 320])\n",
      "Parameter name: layers.1.self_attn.k_proj.bias, Size: torch.Size([320])\n",
      "Parameter name: layers.1.self_attn.v_proj.weight, Size: torch.Size([320, 320])\n",
      "Parameter name: layers.1.self_attn.v_proj.bias, Size: torch.Size([320])\n",
      "Parameter name: layers.1.self_attn.q_proj.weight, Size: torch.Size([320, 320])\n",
      "Parameter name: layers.1.self_attn.q_proj.bias, Size: torch.Size([320])\n",
      "Parameter name: layers.1.self_attn.out_proj.weight, Size: torch.Size([320, 320])\n",
      "Parameter name: layers.1.self_attn.out_proj.bias, Size: torch.Size([320])\n",
      "Parameter name: layers.1.self_attn_layer_norm.weight, Size: torch.Size([320])\n",
      "Parameter name: layers.1.self_attn_layer_norm.bias, Size: torch.Size([320])\n",
      "Parameter name: layers.1.fc1.weight, Size: torch.Size([1280, 320])\n",
      "Parameter name: layers.1.fc1.bias, Size: torch.Size([1280])\n",
      "Parameter name: layers.1.fc2.weight, Size: torch.Size([320, 1280])\n",
      "Parameter name: layers.1.fc2.bias, Size: torch.Size([320])\n",
      "Parameter name: layers.1.final_layer_norm.weight, Size: torch.Size([320])\n",
      "Parameter name: layers.1.final_layer_norm.bias, Size: torch.Size([320])\n",
      "Parameter name: layers.2.self_attn.k_proj.weight, Size: torch.Size([320, 320])\n",
      "Parameter name: layers.2.self_attn.k_proj.bias, Size: torch.Size([320])\n",
      "Parameter name: layers.2.self_attn.v_proj.weight, Size: torch.Size([320, 320])\n",
      "Parameter name: layers.2.self_attn.v_proj.bias, Size: torch.Size([320])\n",
      "Parameter name: layers.2.self_attn.q_proj.weight, Size: torch.Size([320, 320])\n",
      "Parameter name: layers.2.self_attn.q_proj.bias, Size: torch.Size([320])\n",
      "Parameter name: layers.2.self_attn.out_proj.weight, Size: torch.Size([320, 320])\n",
      "Parameter name: layers.2.self_attn.out_proj.bias, Size: torch.Size([320])\n",
      "Parameter name: layers.2.self_attn_layer_norm.weight, Size: torch.Size([320])\n",
      "Parameter name: layers.2.self_attn_layer_norm.bias, Size: torch.Size([320])\n",
      "Parameter name: layers.2.fc1.weight, Size: torch.Size([1280, 320])\n",
      "Parameter name: layers.2.fc1.bias, Size: torch.Size([1280])\n",
      "Parameter name: layers.2.fc2.weight, Size: torch.Size([320, 1280])\n",
      "Parameter name: layers.2.fc2.bias, Size: torch.Size([320])\n",
      "Parameter name: layers.2.final_layer_norm.weight, Size: torch.Size([320])\n",
      "Parameter name: layers.2.final_layer_norm.bias, Size: torch.Size([320])\n",
      "Parameter name: layers.3.self_attn.k_proj.weight, Size: torch.Size([320, 320])\n",
      "Parameter name: layers.3.self_attn.k_proj.bias, Size: torch.Size([320])\n",
      "Parameter name: layers.3.self_attn.v_proj.weight, Size: torch.Size([320, 320])\n",
      "Parameter name: layers.3.self_attn.v_proj.bias, Size: torch.Size([320])\n",
      "Parameter name: layers.3.self_attn.q_proj.weight, Size: torch.Size([320, 320])\n",
      "Parameter name: layers.3.self_attn.q_proj.bias, Size: torch.Size([320])\n",
      "Parameter name: layers.3.self_attn.out_proj.weight, Size: torch.Size([320, 320])\n",
      "Parameter name: layers.3.self_attn.out_proj.bias, Size: torch.Size([320])\n",
      "Parameter name: layers.3.self_attn_layer_norm.weight, Size: torch.Size([320])\n",
      "Parameter name: layers.3.self_attn_layer_norm.bias, Size: torch.Size([320])\n",
      "Parameter name: layers.3.fc1.weight, Size: torch.Size([1280, 320])\n",
      "Parameter name: layers.3.fc1.bias, Size: torch.Size([1280])\n",
      "Parameter name: layers.3.fc2.weight, Size: torch.Size([320, 1280])\n",
      "Parameter name: layers.3.fc2.bias, Size: torch.Size([320])\n",
      "Parameter name: layers.3.final_layer_norm.weight, Size: torch.Size([320])\n",
      "Parameter name: layers.3.final_layer_norm.bias, Size: torch.Size([320])\n",
      "Parameter name: layers.4.self_attn.k_proj.weight, Size: torch.Size([320, 320])\n",
      "Parameter name: layers.4.self_attn.k_proj.bias, Size: torch.Size([320])\n",
      "Parameter name: layers.4.self_attn.v_proj.weight, Size: torch.Size([320, 320])\n",
      "Parameter name: layers.4.self_attn.v_proj.bias, Size: torch.Size([320])\n",
      "Parameter name: layers.4.self_attn.q_proj.weight, Size: torch.Size([320, 320])\n",
      "Parameter name: layers.4.self_attn.q_proj.bias, Size: torch.Size([320])\n",
      "Parameter name: layers.4.self_attn.out_proj.weight, Size: torch.Size([320, 320])\n",
      "Parameter name: layers.4.self_attn.out_proj.bias, Size: torch.Size([320])\n",
      "Parameter name: layers.4.self_attn_layer_norm.weight, Size: torch.Size([320])\n",
      "Parameter name: layers.4.self_attn_layer_norm.bias, Size: torch.Size([320])\n",
      "Parameter name: layers.4.fc1.weight, Size: torch.Size([1280, 320])\n",
      "Parameter name: layers.4.fc1.bias, Size: torch.Size([1280])\n",
      "Parameter name: layers.4.fc2.weight, Size: torch.Size([320, 1280])\n",
      "Parameter name: layers.4.fc2.bias, Size: torch.Size([320])\n",
      "Parameter name: layers.4.final_layer_norm.weight, Size: torch.Size([320])\n",
      "Parameter name: layers.4.final_layer_norm.bias, Size: torch.Size([320])\n",
      "Parameter name: layers.5.self_attn.k_proj.weight, Size: torch.Size([320, 320])\n",
      "Parameter name: layers.5.self_attn.k_proj.bias, Size: torch.Size([320])\n",
      "Parameter name: layers.5.self_attn.v_proj.weight, Size: torch.Size([320, 320])\n",
      "Parameter name: layers.5.self_attn.v_proj.bias, Size: torch.Size([320])\n",
      "Parameter name: layers.5.self_attn.q_proj.weight, Size: torch.Size([320, 320])\n",
      "Parameter name: layers.5.self_attn.q_proj.bias, Size: torch.Size([320])\n",
      "Parameter name: layers.5.self_attn.out_proj.weight, Size: torch.Size([320, 320])\n",
      "Parameter name: layers.5.self_attn.out_proj.bias, Size: torch.Size([320])\n",
      "Parameter name: layers.5.self_attn_layer_norm.weight, Size: torch.Size([320])\n",
      "Parameter name: layers.5.self_attn_layer_norm.bias, Size: torch.Size([320])\n",
      "Parameter name: layers.5.fc1.weight, Size: torch.Size([1280, 320])\n",
      "Parameter name: layers.5.fc1.bias, Size: torch.Size([1280])\n",
      "Parameter name: layers.5.fc2.weight, Size: torch.Size([320, 1280])\n",
      "Parameter name: layers.5.fc2.bias, Size: torch.Size([320])\n",
      "Parameter name: layers.5.final_layer_norm.weight, Size: torch.Size([320])\n",
      "Parameter name: layers.5.final_layer_norm.bias, Size: torch.Size([320])\n",
      "Parameter name: contact_head.regression.weight, Size: torch.Size([1, 120])\n",
      "Parameter name: contact_head.regression.bias, Size: torch.Size([1])\n",
      "Parameter name: emb_layer_norm_after.weight, Size: torch.Size([320])\n",
      "Parameter name: emb_layer_norm_after.bias, Size: torch.Size([320])\n",
      "Parameter name: lm_head.bias, Size: torch.Size([33])\n",
      "Parameter name: lm_head.dense.weight, Size: torch.Size([320, 320])\n",
      "Parameter name: lm_head.dense.bias, Size: torch.Size([320])\n",
      "Parameter name: lm_head.layer_norm.weight, Size: torch.Size([320])\n",
      "Parameter name: lm_head.layer_norm.bias, Size: torch.Size([320])\n"
     ]
    }
   ],
   "source": [
    "for name, param in model.named_parameters():\n",
    "    print(f\"Parameter name: {name}, Size: {param.size()}\")"
   ]
  },
  {
   "cell_type": "code",
   "execution_count": 4,
   "id": "a00016e2-261a-4170-b417-a41f362ff521",
   "metadata": {
    "tags": []
   },
   "outputs": [],
   "source": [
    "# # Download structural holdout datasets\n",
    "# for split_level in ['family', 'superfamily', 'fold']:\n",
    "#     for cv_partition in ['0', '1', '2', '3', '4']:\n",
    "#         esm_structural_train = ESMStructuralSplitDataset(\n",
    "#             split_level=split_level, \n",
    "#             cv_partition=cv_partition, \n",
    "#             split='train', \n",
    "#             root_path = os.path.expanduser('~/.cache/torch/data/esm'),\n",
    "#             download=True\n",
    "#         )\n",
    "#         esm_structural_valid = ESMStructuralSplitDataset(\n",
    "#             split_level=split_level, \n",
    "#             cv_partition=cv_partition, \n",
    "#             split='valid', \n",
    "#             root_path = os.path.expanduser('~/.cache/torch/data/esm'),\n",
    "#             download=True\n",
    "#         )"
   ]
  },
  {
   "cell_type": "code",
   "execution_count": 5,
   "id": "5c01c5fe-f6e1-47ed-bd99-0768fba4aa8c",
   "metadata": {
    "tags": []
   },
   "outputs": [],
   "source": [
    "train_dataset = ESMStructuralSplitDataset(\n",
    "    split_level='superfamily', \n",
    "    cv_partition='4', \n",
    "    split='train', \n",
    "    root_path = os.path.expanduser('~/.cache/torch/data/esm'),\n",
    ")\n",
    "\n",
    "valid_dataset = ESMStructuralSplitDataset(\n",
    "    split_level='superfamily', \n",
    "    cv_partition='4', \n",
    "    split='valid', \n",
    "    root_path = os.path.expanduser('~/.cache/torch/data/esm'),\n",
    ")"
   ]
  },
  {
   "cell_type": "code",
   "execution_count": 5,
   "id": "7d2d4ea7-6424-477c-b060-03ac60417c43",
   "metadata": {
    "tags": []
   },
   "outputs": [],
   "source": [
    "# Freeze all parameters of the pretrained model\n",
    "    \n",
    "# Last layer output fatures decided from ESM-2's layers, emb_layer_norm_after?\n",
    "# Modify last layer for our regression task\n",
    "\n",
    "#model.final_layer = nn.Linear(in_features=320, out_features=1)\n",
    "\n",
    "# model.final_layer = nn.Sequential(\n",
    "#     nn.Linear(in_features=320, out_features=1),\n",
    "#     nn.Sigmoid()\n",
    "# )\n",
    "\n",
    "# new_names = ['regression', 'activation']\n",
    "# for i, (name, module) in enumerate(model.final_layer.named_children()):\n",
    "#     module_name = new_names[i]\n",
    "#     setattr(model.final_layer, module_name, module)\n",
    "#     delattr(model.final_layer, name)\n",
    "\n",
    "# for param in model.final_layer.parameters():\n",
    "#     param.requires_grad = True\n",
    "\n",
    "# nn.Sequential(\n",
    "#     nn.Linear(320, 640),\n",
    "#     nn.ReLU(),\n",
    "#     nn.Linear(640, 320),\n",
    "#     nn.ReLU(),\n",
    "#     nn.Linear(320, 1))\n",
    "\n",
    "#model.contact_head.regression.weight.requires_grad = True\n",
    "#model.contact_head.regression.bias.requires_grad = True\n",
    "#model.lm_head.bias.requires_grad = True\n",
    "\n",
    "# Or freeze all the layers 11 steps from last?\n",
    "\n",
    "# # Modify only the last layer for regression task. Maybe I should add a new layer ontop of the model instead \n",
    "# \n",
    "\n",
    "# # Set requires_grad=True only for the regression layer parameters to be trained\n",
    "\n",
    "# for param in model.lm_head.parameters():\n",
    "#     param.requires_grad = True"
   ]
  },
  {
   "cell_type": "code",
   "execution_count": 6,
   "id": "9e3754e0-33ae-4b1f-8dec-0f7eb122d037",
   "metadata": {
    "tags": []
   },
   "outputs": [],
   "source": [
    "# Prepare data, optimizer, and objective/loss function\n",
    "batch_converter = alphabet.get_batch_converter()\n",
    "\n",
    "contact_threshold = 15"
   ]
  },
  {
   "cell_type": "code",
   "execution_count": 7,
   "id": "98129556-f80f-40e0-8ab1-03f2b106fbda",
   "metadata": {
    "tags": []
   },
   "outputs": [
    {
     "name": "stdout",
     "output_type": "stream",
     "text": [
      "Data point 433, MEKSIITQKIIAKAFKDLMQSNAYHQISVSDIMQTAKIRRQTFYNYFQNQEELLSWIFENDFAELINDNSD\n"
     ]
    }
   ],
   "source": [
    "rand_example = np.random.randint(len(valid_dataset))\n",
    "rand_target = valid_dataset[rand_example]\n",
    "\n",
    "print(f\"Data point {rand_example}, {rand_target['seq']}\")"
   ]
  },
  {
   "cell_type": "code",
   "execution_count": 8,
   "id": "b73503b5-fb08-46e3-9317-61b15ca048d7",
   "metadata": {
    "tags": []
   },
   "outputs": [
    {
     "name": "stdout",
     "output_type": "stream",
     "text": [
      "tensor([[[6.1973e-17, 5.7741e-17, 2.4050e-06,  ..., 1.4139e-02,\n",
      "          1.2235e-02, 8.7268e-03],\n",
      "         [5.7741e-17, 1.9227e-02, 2.8078e-16,  ..., 1.6364e-02,\n",
      "          1.5613e-02, 9.9549e-03],\n",
      "         [2.4050e-06, 2.8078e-16, 2.4602e-03,  ..., 1.5384e-02,\n",
      "          1.3392e-02, 8.4438e-03],\n",
      "         ...,\n",
      "         [1.4139e-02, 1.6364e-02, 1.5384e-02,  ..., 1.0782e-02,\n",
      "          1.8171e-16, 5.8774e-07],\n",
      "         [1.2235e-02, 1.5613e-02, 1.3392e-02,  ..., 1.8171e-16,\n",
      "          2.1104e-02, 1.1959e-16],\n",
      "         [8.7268e-03, 9.9549e-03, 8.4438e-03,  ..., 5.8774e-07,\n",
      "          1.1959e-16, 3.3050e-02]]])\n"
     ]
    }
   ],
   "source": [
    "batch_labels, batch_strs, batch_tokens = batch_converter([(rand_example, rand_target[\"seq\"])])\n",
    "rand_target_c = rand_target['dist'] < contact_threshold\n",
    "\n",
    "outputs = model(batch_tokens, return_contacts=True)\n",
    "\n",
    "print(outputs['contacts'])"
   ]
  },
  {
   "cell_type": "code",
   "execution_count": 9,
   "id": "7fb5024e-60de-4c29-a0d9-ec83adfdbdbe",
   "metadata": {
    "tags": []
   },
   "outputs": [
    {
     "data": {
      "image/png": "[encoded data removed]",
      "text/plain": [
       "<Figure size 800x300 with 4 Axes>"
      ]
     },
     "metadata": {},
     "output_type": "display_data"
    }
   ],
   "source": [
    "N = len(batch_strs[0])\n",
    "fig, ax = plt.subplots(1, 2, figsize=(8, 3))\n",
    "im = ax[0].imshow(outputs['contacts'][0].detach().numpy() > 0.5)\n",
    "fig.colorbar(im)\n",
    "ax[0].set_title(\"Predicted\")\n",
    "im = ax[1].imshow(rand_target['dist'] < contact_threshold)\n",
    "fig.colorbar(im)\n",
    "ax[1].set_title(\"Real\")\n",
    "plt.show()"
   ]
  },
  {
   "cell_type": "code",
   "execution_count": 10,
   "id": "b833064c-626b-4a3c-8ff6-52f4108dfa77",
   "metadata": {
    "tags": []
   },
   "outputs": [
    {
     "name": "stdout",
     "output_type": "stream",
     "text": [
      "Parameter containing:\n",
      "tensor([[  0.0000,   0.0000,   0.0000,   0.0000,   0.0000,   0.0000,   0.0000,\n",
      "           0.0000,   0.0000,   2.2631,   0.0000,   0.0000,   0.0000,   0.0000,\n",
      "           0.0000,   0.0000,   0.0000,   0.0000,   0.0000,   0.0000,   1.5337,\n",
      "          -3.6662,   0.0000,   0.0000,  -1.2137,   0.0000,   0.0000, -29.0679,\n",
      "           0.7652,  -0.5132,   0.0000,   0.0000,   0.0000,   0.0000,  -0.4638,\n",
      "           0.0000,  10.4998,   0.0000,   2.8318,   0.0000,   0.0000,  -4.2886,\n",
      "           0.0000,   0.0000,   0.0000,   0.0000,   1.7150,   1.6285,  -9.3485,\n",
      "           0.5058,   0.0000,   1.1955,   0.0000,   0.0000,   0.0000,   6.6861,\n",
      "           0.0000,   0.0000,   0.0000,   0.0000,   0.0000,   0.0000,   0.0000,\n",
      "           0.0000,   0.0000,   1.2101,   0.0000,   0.0000,  -0.6021,   0.0000,\n",
      "           0.0000,   0.0000,   0.0000,   0.0000,   0.0000,  -2.1991,   1.8059,\n",
      "           0.0000,   0.0000,  -0.1786,  -0.5292,   0.0000,  -0.0886,   1.4010,\n",
      "          -0.3872,   0.0000,  -0.7718,   0.0000,   0.0000,  -1.9749,   0.6716,\n",
      "           3.5275,   0.2071,   0.0000,  -0.9849,   0.0000,   0.0000,   0.0000,\n",
      "           0.0000,   0.0000,  -3.0509,   0.0000,  -5.6675,   1.8766,  21.2041,\n",
      "          -2.6159,   0.0000,  -0.0496,   1.3258,   0.0000,   9.9069,   3.6591,\n",
      "          -1.8319,   0.0000,  -2.2961,   3.8811,   0.0000,   0.7924,   0.0000,\n",
      "           0.0000]])\n",
      "Parameter containing:\n",
      "tensor([-4.7676])\n",
      "Parameter containing:\n",
      "tensor([0.4873, 0.4705, 0.5039, 0.4568, 0.4438, 0.4895, 0.4670, 0.4827, 0.4878,\n",
      "        0.4583, 0.4543, 0.4690, 0.4292, 0.5098, 0.4290, 0.4980, 0.4475, 0.4185,\n",
      "        0.4609, 0.4421, 0.4526, 0.4321, 0.4539, 0.4424, 0.4941, 0.5103, 0.4978,\n",
      "        0.4407, 0.4817, 0.4009, 0.5166, 0.4524, 0.4546, 0.5601, 0.5239, 0.5366,\n",
      "        0.4700, 0.4807, 0.4824, 0.4004, 0.4937, 0.4163, 0.4673, 0.4839, 0.4399,\n",
      "        0.4700, 0.4026, 0.5171, 0.4453, 0.4038, 0.4192, 0.4521, 0.5107, 0.4934,\n",
      "        0.5083, 0.5137, 0.4468, 0.4468, 0.4043, 0.4407, 0.4287, 0.4668, 0.3306,\n",
      "        0.4487, 0.4590, 0.4734, 0.4211, 0.4531, 0.4136, 0.4412, 0.5361, 0.4788,\n",
      "        0.4658, 0.4517, 0.4836, 0.4360, 0.4924, 0.4470, 0.4475, 0.5303, 0.5254,\n",
      "        0.4739, 0.4958, 0.4663, 0.4700, 0.5215, 0.4639, 0.4976, 0.4709, 0.4905,\n",
      "        0.4392, 0.4922, 0.3770, 0.4736, 0.4644, 0.4214, 0.4387, 0.4858, 0.4910,\n",
      "        0.4590, 0.4695, 0.4443, 0.4202, 0.4302, 0.4609, 0.4583, 0.5210, 0.4602,\n",
      "        0.4753, 0.4736, 0.4373, 0.4978, 0.5029, 0.4697, 0.4856, 0.4993, 0.4358,\n",
      "        0.4421, 0.4602, 0.4121, 0.4507, 0.4468, 0.4478, 0.4426, 0.4941, 0.4106,\n",
      "        0.4900, 0.4529, 0.5073, 0.4622, 0.4585, 0.5010, 0.4646, 0.4441, 0.4229,\n",
      "        0.5078, 0.4883, 0.4380, 0.4744, 0.3923, 0.5112, 0.4736, 0.4644, 0.4729,\n",
      "        0.4287, 0.4526, 0.4287, 0.4548, 0.4727, 0.4688, 0.3955, 0.4736, 0.4690,\n",
      "        0.5112, 0.4331, 0.4641, 0.4653, 0.4485, 0.4146, 0.4849, 0.4612, 0.4761,\n",
      "        0.4763, 0.4575, 0.4500, 0.4561, 0.4346, 0.4507, 0.4888, 0.4360, 0.5107,\n",
      "        0.4900, 0.4558, 0.4839, 0.4512, 0.5049, 0.4717, 0.4478, 0.4592, 0.4915,\n",
      "        0.4668, 0.4321, 0.4937, 0.4495, 0.4688, 0.4954, 0.4822, 0.4788, 0.4771,\n",
      "        0.5322, 0.5220, 0.4836, 0.3608, 0.4460, 0.5000, 0.5137, 0.4268, 0.4885,\n",
      "        0.4402, 0.4290, 0.4456, 0.4646, 0.4558, 0.4851, 0.4390, 0.4307, 0.4817,\n",
      "        0.4961, 0.4229, 0.5186, 0.4912, 0.4387, 0.4609, 0.4399, 0.4504, 0.4360,\n",
      "        0.4678, 0.4756, 0.4749, 0.4438, 0.4978, 0.5181, 0.4211, 0.4189, 0.4021,\n",
      "        0.4473, 0.4326, 0.4849, 0.4604, 0.4399, 0.4812, 0.5000, 0.5044, 0.4983,\n",
      "        0.4592, 0.4553, 0.4866, 0.4973, 0.4424, 0.4397, 0.4695, 0.5225, 0.4675,\n",
      "        0.5327, 0.4634, 0.5137, 0.4590, 0.4768, 0.4788, 0.4658, 0.4670, 0.4583,\n",
      "        0.5122, 0.5298, 0.4766, 0.5073, 0.4644, 0.4976, 0.4966, 0.4551, 0.4634,\n",
      "        0.4968, 0.4448, 0.4622, 0.4287, 0.4631, 0.4353, 0.3433, 0.4460, 0.4653,\n",
      "        0.4448, 0.4954, 0.5308, 0.4246, 0.4543, 0.4497, 0.4639, 0.5361, 0.4285,\n",
      "        0.4377, 0.4910, 0.4319, 0.4453, 0.4036, 0.5146, 0.4924, 0.4639, 0.4656,\n",
      "        0.5088, 0.5327, 0.4553, 0.4646, 0.4441, 0.4248, 0.5244, 0.4385, 0.4524,\n",
      "        0.4585, 0.5591, 0.4807, 0.4604, 0.4875, 0.5010, 0.4541, 0.4524, 0.4644,\n",
      "        0.4114, 0.4851, 0.4558, 0.4958, 0.4758, 0.4807, 0.5283, 0.4221, 0.4395,\n",
      "        0.4854, 0.4636, 0.5576, 0.4812, 0.4541])\n",
      "Parameter containing:\n",
      "tensor([-1.9257e-02, -8.9417e-02,  1.6068e-02, -4.2534e-03,  4.5166e-02,\n",
      "        -7.7209e-02, -5.4321e-02, -3.6591e-02, -1.2213e-01,  4.7028e-02,\n",
      "         2.6825e-02, -3.5736e-02,  4.4067e-02, -1.0590e-02,  2.1866e-02,\n",
      "        -2.4063e-02, -6.9458e-02, -5.9605e-04, -2.8885e-02, -8.7524e-02,\n",
      "         1.2026e-03, -1.1742e-02,  2.9999e-02,  1.6678e-02,  1.8906e-02,\n",
      "        -7.4585e-02, -8.3374e-02, -5.1300e-02, -3.8239e-02, -5.4588e-03,\n",
      "         2.3148e-02,  3.0533e-02, -2.5528e-02, -6.1646e-02, -8.6487e-02,\n",
      "        -6.7688e-02, -3.3020e-02,  9.1370e-02, -1.5051e-01, -5.6274e-02,\n",
      "         3.4561e-03, -5.3955e-02,  5.4718e-02, -8.6060e-02, -4.6478e-02,\n",
      "        -1.1230e-01, -6.3049e-02, -5.1880e-03, -2.6062e-02, -4.4037e-02,\n",
      "        -1.0307e-02,  1.1124e-02, -6.0974e-02,  2.0645e-02, -6.9031e-02,\n",
      "        -1.3710e-02,  1.3931e-02, -5.0690e-02,  9.7885e-03, -4.4861e-02,\n",
      "        -2.7161e-03, -1.4961e-02, -4.1321e-02, -4.3213e-02,  5.4871e-02,\n",
      "         8.9493e-03,  6.4993e-04, -7.1411e-02, -3.7445e-02, -5.7831e-02,\n",
      "        -3.0106e-02, -2.0874e-02,  5.5656e-03,  3.5034e-02,  4.6356e-02,\n",
      "        -1.0291e-01, -3.6507e-03, -3.4515e-02,  6.4240e-03, -4.6778e-04,\n",
      "         1.4641e-02, -2.4147e-03,  7.0374e-02,  7.0801e-02,  4.3518e-02,\n",
      "        -2.7985e-02, -6.9336e-02,  6.5186e-02, -4.7241e-02,  3.7140e-02,\n",
      "         8.1940e-03, -3.3417e-02,  1.5121e-02, -8.0872e-02, -8.4106e-02,\n",
      "         5.3558e-02, -4.5654e-02, -4.7974e-02, -4.4128e-02,  8.2397e-02,\n",
      "        -9.5291e-03, -5.4352e-02, -9.3994e-02,  1.7151e-02,  1.3763e-02,\n",
      "        -3.9032e-02, -3.7018e-02, -6.8176e-02, -7.9117e-03, -6.6147e-03,\n",
      "        -3.7720e-02,  1.6693e-02,  4.2206e-02, -7.2998e-02,  1.0323e-02,\n",
      "         3.4695e-03, -6.7749e-02,  4.2236e-02, -4.7363e-02, -5.1239e-02,\n",
      "        -2.7939e-02,  5.2094e-02, -1.5039e-01, -5.1575e-02, -1.2604e-02,\n",
      "        -2.0721e-02, -6.8359e-02, -5.8929e-02, -2.0020e-02,  1.0735e-02,\n",
      "        -8.9111e-02,  3.8055e-02,  5.4138e-02, -3.8788e-02,  6.1310e-02,\n",
      "         4.8981e-02, -7.6050e-02,  1.5625e-02, -5.7953e-02,  7.2594e-03,\n",
      "         3.2562e-02, -9.6436e-02, -1.0834e-01,  2.1240e-02, -7.9285e-02,\n",
      "        -5.4230e-02, -6.0822e-02,  8.0933e-02, -9.4452e-03, -3.7994e-02,\n",
      "        -8.2275e-02, -3.5217e-02, -7.8674e-02, -1.2024e-01,  2.8168e-02,\n",
      "        -3.3264e-02, -4.4006e-02,  2.1572e-03, -3.6438e-02, -5.1422e-02,\n",
      "        -1.2846e-03, -1.1452e-02,  5.2612e-02, -3.9948e-02,  1.6693e-02,\n",
      "        -1.7776e-02, -2.4811e-02,  1.6177e-04,  1.2865e-03, -2.6379e-03,\n",
      "         4.9095e-03,  2.9312e-02,  6.3049e-02, -3.7193e-03, -7.7209e-02,\n",
      "         2.9327e-02, -8.3008e-03, -1.4270e-01,  4.1351e-02,  4.7394e-02,\n",
      "        -4.8737e-02,  3.2532e-02, -2.8706e-03, -6.2656e-04,  1.4572e-02,\n",
      "         1.3672e-02,  3.7479e-04,  6.9092e-02, -1.5747e-02,  3.3356e-02,\n",
      "        -2.7969e-02,  3.7842e-02, -1.0880e-02,  1.2650e-02,  1.1761e-01,\n",
      "        -1.1005e-01, -5.2368e-02, -3.6583e-03, -1.0229e-01, -3.8666e-02,\n",
      "         5.2124e-02, -4.9683e-02,  1.1436e-02, -6.1111e-03, -2.1790e-02,\n",
      "        -7.1106e-02,  1.4007e-05,  1.2138e-02, -3.5706e-02, -1.3229e-02,\n",
      "         6.8481e-02, -4.1504e-02,  2.8839e-02,  1.0658e-02, -4.7943e-02,\n",
      "        -1.1444e-01, -1.2527e-02, -3.1372e-02, -7.2388e-02, -8.6365e-02,\n",
      "        -6.3538e-02, -4.2908e-02,  1.9669e-02,  4.7882e-02,  1.8967e-02,\n",
      "        -4.4006e-02, -5.8212e-03, -3.1021e-02, -1.7563e-02, -6.5369e-02,\n",
      "         2.7435e-02, -3.1891e-02, -1.2939e-02,  1.2817e-02,  4.8157e-02,\n",
      "         1.0028e-01, -8.9722e-02, -1.2585e-01, -4.4289e-03, -1.2924e-02,\n",
      "        -3.8483e-02,  5.2429e-02, -2.4780e-02,  4.7546e-02, -1.8994e-01,\n",
      "        -5.3741e-02,  4.2915e-03,  7.4425e-03,  9.4910e-03,  5.7465e-02,\n",
      "        -6.8909e-02,  2.8885e-02,  1.2054e-02, -1.4740e-02,  1.4877e-03,\n",
      "        -6.9336e-02, -1.4214e-02, -7.4707e-02,  8.8348e-03, -6.7566e-02,\n",
      "        -4.2023e-02, -4.1229e-02,  5.9326e-02, -2.1774e-02, -3.5614e-02,\n",
      "        -3.5583e-02, -1.5419e-02, -7.0190e-02, -4.9042e-02,  3.9398e-02,\n",
      "         4.7722e-03, -3.4576e-02,  7.9651e-02,  2.1591e-02,  8.3130e-02,\n",
      "        -6.5857e-02, -2.1194e-02, -2.2621e-03,  2.7618e-02,  1.6296e-02,\n",
      "         4.8615e-02,  2.8458e-02, -1.3535e-02, -2.0966e-02, -1.0400e-01,\n",
      "        -1.6296e-02, -6.1523e-02,  4.0283e-02,  1.8723e-02, -2.0874e-02,\n",
      "         1.0809e-01, -7.2205e-02, -6.9237e-04,  3.8574e-02, -3.5191e-03,\n",
      "        -8.0795e-03,  3.2837e-02, -2.2751e-02, -1.0178e-02, -1.0938e-01,\n",
      "        -4.8248e-02,  4.6997e-03,  4.7668e-02,  2.1637e-02, -4.6143e-02,\n",
      "        -3.4302e-02, -3.6987e-02,  3.7872e-02,  2.6962e-02, -2.7969e-02,\n",
      "         5.1498e-03, -7.8003e-02, -3.8940e-02,  5.7800e-02, -3.3875e-02,\n",
      "        -3.0670e-02, -5.3009e-02,  5.1971e-02, -3.9093e-02, -2.0126e-02])\n",
      "Parameter containing:\n",
      "tensor([[-0.1954, -0.2751, -0.1494,  ...,  0.1274, -0.1043, -0.0647],\n",
      "        [-0.2225, -0.9604, -0.0598,  ..., -0.2300, -0.0948,  0.3914],\n",
      "        [ 0.0731, -0.3081, -0.1170,  ..., -0.2206, -0.3433, -0.0015],\n",
      "        ...,\n",
      "        [ 0.0453, -0.0554, -0.0102,  ...,  0.0438, -0.0365, -0.1022],\n",
      "        [ 0.0534, -0.0443, -0.0183,  ...,  0.0427, -0.0536, -0.0892],\n",
      "        [-0.2281, -0.9619, -0.0608,  ..., -0.2356, -0.0932,  0.3992]])\n",
      "Parameter containing:\n",
      "tensor([-6.1758e+00, -3.9492e+00, -5.3320e+00, -3.9492e+00,  1.1438e-01,\n",
      "         8.3862e-02,  9.5062e-03,  4.5319e-02,  9.6130e-02,  1.7609e-02,\n",
      "         3.3966e-02, -6.3400e-03, -1.0391e-02, -1.9531e-02, -3.4119e-02,\n",
      "        -6.3553e-03, -2.4551e-02,  2.3117e-02,  1.0323e-02, -2.9411e-03,\n",
      "        -1.5234e-01, -5.7922e-02, -1.6162e-01, -2.1997e-01, -5.7715e-01,\n",
      "        -1.0820e+01, -1.1250e+01, -1.1797e+01, -1.5000e+01, -1.5320e+01,\n",
      "        -1.5336e+01, -1.5336e+01, -3.9492e+00])\n"
     ]
    }
   ],
   "source": [
    "print(model.contact_head.regression.weight)\n",
    "print(model.contact_head.regression.bias)\n",
    "print(model.emb_layer_norm_after.weight)\n",
    "print(model.emb_layer_norm_after.bias)\n",
    "print(model.lm_head.weight)\n",
    "print(model.lm_head.bias)"
   ]
  },
  {
   "cell_type": "markdown",
   "id": "e6b2c25c-1817-4732-9e51-d5d2aa54b386",
   "metadata": {},
   "source": [
    "# Train fine-tuned layer and test "
   ]
  },
  {
   "cell_type": "code",
   "execution_count": 11,
   "id": "8936f377-dc89-4a6c-9dcb-db8b7b1d2d4e",
   "metadata": {},
   "outputs": [
    {
     "name": "stdout",
     "output_type": "stream",
     "text": [
      "embed_tokens.weight\n",
      "contact_head.regression.weight\n",
      "contact_head.regression.bias\n",
      "emb_layer_norm_after.weight\n",
      "emb_layer_norm_after.bias\n",
      "lm_head.bias\n",
      "lm_head.dense.weight\n",
      "lm_head.dense.bias\n",
      "lm_head.layer_norm.weight\n",
      "lm_head.layer_norm.bias\n"
     ]
    }
   ],
   "source": [
    "# TESTING TRAINING\n",
    "\n",
    "#model.contact_head.regression = nn.Linear(in_features=120, out_features=1)\n",
    "\n",
    "# Set to update gradients during training\n",
    "\n",
    "for param in model.contact_head.regression.parameters():\n",
    "    param.requires_grad = True\n",
    "    \n",
    "for param in model.emb_layer_norm_after.parameters():\n",
    "    param.requires_grad = True\n",
    "\n",
    "for param in model.lm_head.parameters():\n",
    "    param.requires_grad = True\n",
    "\n",
    "for name, param in model.named_parameters():\n",
    "    if param.requires_grad:\n",
    "        print(name)"
   ]
  },
  {
   "cell_type": "code",
   "execution_count": 17,
   "id": "4fcadaa1-a3ac-4ad9-b093-f2beb7c2bcd1",
   "metadata": {
    "tags": []
   },
   "outputs": [
    {
     "name": "stderr",
     "output_type": "stream",
     "text": [
      "  0%|          | 1/200 [00:30<1:41:47, 30.69s/it]"
     ]
    },
    {
     "name": "stdout",
     "output_type": "stream",
     "text": [
      "Average Loss: 0.0875\n"
     ]
    },
    {
     "name": "stderr",
     "output_type": "stream",
     "text": [
      "  1%|          | 2/200 [01:02<1:44:16, 31.60s/it]"
     ]
    },
    {
     "name": "stdout",
     "output_type": "stream",
     "text": [
      "Average Loss: 0.0872\n"
     ]
    },
    {
     "name": "stderr",
     "output_type": "stream",
     "text": [
      "  2%|▏         | 3/200 [01:34<1:44:24, 31.80s/it]"
     ]
    },
    {
     "name": "stdout",
     "output_type": "stream",
     "text": [
      "Average Loss: 0.0870\n"
     ]
    },
    {
     "name": "stderr",
     "output_type": "stream",
     "text": [
      "  2%|▏         | 4/200 [02:06<1:43:38, 31.73s/it]"
     ]
    },
    {
     "name": "stdout",
     "output_type": "stream",
     "text": [
      "Average Loss: 0.0869\n"
     ]
    },
    {
     "name": "stderr",
     "output_type": "stream",
     "text": [
      "  2%|▎         | 5/200 [02:38<1:43:08, 31.73s/it]"
     ]
    },
    {
     "name": "stdout",
     "output_type": "stream",
     "text": [
      "Average Loss: 0.0866\n"
     ]
    },
    {
     "name": "stderr",
     "output_type": "stream",
     "text": [
      "  3%|▎         | 6/200 [03:09<1:42:21, 31.66s/it]"
     ]
    },
    {
     "name": "stdout",
     "output_type": "stream",
     "text": [
      "Average Loss: 0.0865\n"
     ]
    },
    {
     "name": "stderr",
     "output_type": "stream",
     "text": [
      "  4%|▎         | 7/200 [03:41<1:41:48, 31.65s/it]"
     ]
    },
    {
     "name": "stdout",
     "output_type": "stream",
     "text": [
      "Average Loss: 0.0863\n"
     ]
    },
    {
     "name": "stderr",
     "output_type": "stream",
     "text": [
      "  4%|▍         | 8/200 [04:13<1:41:38, 31.76s/it]"
     ]
    },
    {
     "name": "stdout",
     "output_type": "stream",
     "text": [
      "Average Loss: 0.0862\n"
     ]
    },
    {
     "name": "stderr",
     "output_type": "stream",
     "text": [
      "  4%|▍         | 9/200 [04:46<1:41:58, 32.03s/it]"
     ]
    },
    {
     "name": "stdout",
     "output_type": "stream",
     "text": [
      "Average Loss: 0.0861\n"
     ]
    },
    {
     "name": "stderr",
     "output_type": "stream",
     "text": [
      "  5%|▌         | 10/200 [05:17<1:40:59, 31.89s/it]"
     ]
    },
    {
     "name": "stdout",
     "output_type": "stream",
     "text": [
      "Average Loss: 0.0859\n"
     ]
    },
    {
     "name": "stderr",
     "output_type": "stream",
     "text": [
      "  6%|▌         | 11/200 [05:49<1:40:16, 31.83s/it]"
     ]
    },
    {
     "name": "stdout",
     "output_type": "stream",
     "text": [
      "Average Loss: 0.0858\n"
     ]
    },
    {
     "name": "stderr",
     "output_type": "stream",
     "text": [
      "  6%|▌         | 12/200 [06:20<1:39:29, 31.75s/it]"
     ]
    },
    {
     "name": "stdout",
     "output_type": "stream",
     "text": [
      "Average Loss: 0.0856\n"
     ]
    },
    {
     "name": "stderr",
     "output_type": "stream",
     "text": [
      "  6%|▋         | 13/200 [06:52<1:39:04, 31.79s/it]"
     ]
    },
    {
     "name": "stdout",
     "output_type": "stream",
     "text": [
      "Average Loss: 0.0855\n"
     ]
    },
    {
     "name": "stderr",
     "output_type": "stream",
     "text": [
      "  7%|▋         | 14/200 [07:24<1:38:27, 31.76s/it]"
     ]
    },
    {
     "name": "stdout",
     "output_type": "stream",
     "text": [
      "Average Loss: 0.0855\n"
     ]
    },
    {
     "name": "stderr",
     "output_type": "stream",
     "text": [
      "  8%|▊         | 15/200 [07:56<1:37:51, 31.74s/it]"
     ]
    },
    {
     "name": "stdout",
     "output_type": "stream",
     "text": [
      "Average Loss: 0.0853\n"
     ]
    },
    {
     "name": "stderr",
     "output_type": "stream",
     "text": [
      "  8%|▊         | 16/200 [08:27<1:37:01, 31.64s/it]"
     ]
    },
    {
     "name": "stdout",
     "output_type": "stream",
     "text": [
      "Average Loss: 0.0851\n"
     ]
    },
    {
     "name": "stderr",
     "output_type": "stream",
     "text": [
      "  8%|▊         | 17/200 [08:58<1:36:16, 31.56s/it]"
     ]
    },
    {
     "name": "stdout",
     "output_type": "stream",
     "text": [
      "Average Loss: 0.0850\n"
     ]
    },
    {
     "name": "stderr",
     "output_type": "stream",
     "text": [
      "  9%|▉         | 18/200 [09:30<1:35:32, 31.50s/it]"
     ]
    },
    {
     "name": "stdout",
     "output_type": "stream",
     "text": [
      "Average Loss: 0.0849\n"
     ]
    },
    {
     "name": "stderr",
     "output_type": "stream",
     "text": [
      " 10%|▉         | 19/200 [10:01<1:35:06, 31.53s/it]"
     ]
    },
    {
     "name": "stdout",
     "output_type": "stream",
     "text": [
      "Average Loss: 0.0848\n"
     ]
    },
    {
     "name": "stderr",
     "output_type": "stream",
     "text": [
      " 10%|█         | 20/200 [10:33<1:34:28, 31.49s/it]"
     ]
    },
    {
     "name": "stdout",
     "output_type": "stream",
     "text": [
      "Average Loss: 0.0847\n"
     ]
    },
    {
     "name": "stderr",
     "output_type": "stream",
     "text": [
      " 10%|█         | 21/200 [11:04<1:34:02, 31.52s/it]"
     ]
    },
    {
     "name": "stdout",
     "output_type": "stream",
     "text": [
      "Average Loss: 0.0847\n"
     ]
    },
    {
     "name": "stderr",
     "output_type": "stream",
     "text": [
      " 11%|█         | 22/200 [11:36<1:33:18, 31.45s/it]"
     ]
    },
    {
     "name": "stdout",
     "output_type": "stream",
     "text": [
      "Average Loss: 0.0844\n"
     ]
    },
    {
     "name": "stderr",
     "output_type": "stream",
     "text": [
      " 12%|█▏        | 23/200 [12:07<1:32:56, 31.51s/it]"
     ]
    },
    {
     "name": "stdout",
     "output_type": "stream",
     "text": [
      "Average Loss: 0.0844\n"
     ]
    },
    {
     "name": "stderr",
     "output_type": "stream",
     "text": [
      " 12%|█▏        | 24/200 [12:39<1:32:25, 31.51s/it]"
     ]
    },
    {
     "name": "stdout",
     "output_type": "stream",
     "text": [
      "Average Loss: 0.0843\n"
     ]
    },
    {
     "name": "stderr",
     "output_type": "stream",
     "text": [
      " 12%|█▎        | 25/200 [13:10<1:31:57, 31.53s/it]"
     ]
    },
    {
     "name": "stdout",
     "output_type": "stream",
     "text": [
      "Average Loss: 0.0842\n"
     ]
    },
    {
     "name": "stderr",
     "output_type": "stream",
     "text": [
      " 13%|█▎        | 26/200 [13:42<1:31:26, 31.53s/it]"
     ]
    },
    {
     "name": "stdout",
     "output_type": "stream",
     "text": [
      "Average Loss: 0.0841\n"
     ]
    },
    {
     "name": "stderr",
     "output_type": "stream",
     "text": [
      " 14%|█▎        | 27/200 [14:14<1:30:54, 31.53s/it]"
     ]
    },
    {
     "name": "stdout",
     "output_type": "stream",
     "text": [
      "Average Loss: 0.0840\n"
     ]
    },
    {
     "name": "stderr",
     "output_type": "stream",
     "text": [
      " 14%|█▍        | 28/200 [14:45<1:30:21, 31.52s/it]"
     ]
    },
    {
     "name": "stdout",
     "output_type": "stream",
     "text": [
      "Average Loss: 0.0839\n"
     ]
    },
    {
     "name": "stderr",
     "output_type": "stream",
     "text": [
      " 14%|█▍        | 29/200 [15:16<1:29:47, 31.50s/it]"
     ]
    },
    {
     "name": "stdout",
     "output_type": "stream",
     "text": [
      "Average Loss: 0.0838\n"
     ]
    },
    {
     "name": "stderr",
     "output_type": "stream",
     "text": [
      " 15%|█▌        | 30/200 [15:48<1:29:13, 31.49s/it]"
     ]
    },
    {
     "name": "stdout",
     "output_type": "stream",
     "text": [
      "Average Loss: 0.0837\n"
     ]
    },
    {
     "name": "stderr",
     "output_type": "stream",
     "text": [
      " 16%|█▌        | 31/200 [16:19<1:28:43, 31.50s/it]"
     ]
    },
    {
     "name": "stdout",
     "output_type": "stream",
     "text": [
      "Average Loss: 0.0836\n"
     ]
    },
    {
     "name": "stderr",
     "output_type": "stream",
     "text": [
      " 16%|█▌        | 32/200 [16:51<1:28:12, 31.51s/it]"
     ]
    },
    {
     "name": "stdout",
     "output_type": "stream",
     "text": [
      "Average Loss: 0.0835\n"
     ]
    },
    {
     "name": "stderr",
     "output_type": "stream",
     "text": [
      " 16%|█▋        | 33/200 [17:22<1:27:42, 31.51s/it]"
     ]
    },
    {
     "name": "stdout",
     "output_type": "stream",
     "text": [
      "Average Loss: 0.0835\n"
     ]
    },
    {
     "name": "stderr",
     "output_type": "stream",
     "text": [
      " 17%|█▋        | 34/200 [17:54<1:27:14, 31.53s/it]"
     ]
    },
    {
     "name": "stdout",
     "output_type": "stream",
     "text": [
      "Average Loss: 0.0834\n"
     ]
    },
    {
     "name": "stderr",
     "output_type": "stream",
     "text": [
      " 18%|█▊        | 35/200 [18:26<1:26:40, 31.52s/it]"
     ]
    },
    {
     "name": "stdout",
     "output_type": "stream",
     "text": [
      "Average Loss: 0.0833\n"
     ]
    },
    {
     "name": "stderr",
     "output_type": "stream",
     "text": [
      " 18%|█▊        | 36/200 [18:57<1:26:08, 31.51s/it]"
     ]
    },
    {
     "name": "stdout",
     "output_type": "stream",
     "text": [
      "Average Loss: 0.0832\n"
     ]
    },
    {
     "name": "stderr",
     "output_type": "stream",
     "text": [
      " 18%|█▊        | 37/200 [19:29<1:25:58, 31.65s/it]"
     ]
    },
    {
     "name": "stdout",
     "output_type": "stream",
     "text": [
      "Average Loss: 0.0831\n"
     ]
    },
    {
     "name": "stderr",
     "output_type": "stream",
     "text": [
      " 19%|█▉        | 38/200 [20:01<1:26:02, 31.87s/it]"
     ]
    },
    {
     "name": "stdout",
     "output_type": "stream",
     "text": [
      "Average Loss: 0.0830\n"
     ]
    },
    {
     "name": "stderr",
     "output_type": "stream",
     "text": [
      " 20%|█▉        | 39/200 [20:33<1:25:05, 31.71s/it]"
     ]
    },
    {
     "name": "stdout",
     "output_type": "stream",
     "text": [
      "Average Loss: 0.0829\n"
     ]
    },
    {
     "name": "stderr",
     "output_type": "stream",
     "text": [
      " 20%|██        | 40/200 [21:04<1:24:27, 31.67s/it]"
     ]
    },
    {
     "name": "stdout",
     "output_type": "stream",
     "text": [
      "Average Loss: 0.0829\n"
     ]
    },
    {
     "name": "stderr",
     "output_type": "stream",
     "text": [
      " 20%|██        | 41/200 [21:36<1:23:39, 31.57s/it]"
     ]
    },
    {
     "name": "stdout",
     "output_type": "stream",
     "text": [
      "Average Loss: 0.0828\n"
     ]
    },
    {
     "name": "stderr",
     "output_type": "stream",
     "text": [
      " 21%|██        | 42/200 [22:09<1:24:53, 32.23s/it]"
     ]
    },
    {
     "name": "stdout",
     "output_type": "stream",
     "text": [
      "Average Loss: 0.0827\n"
     ]
    },
    {
     "name": "stderr",
     "output_type": "stream",
     "text": [
      " 22%|██▏       | 43/200 [22:41<1:23:57, 32.09s/it]"
     ]
    },
    {
     "name": "stdout",
     "output_type": "stream",
     "text": [
      "Average Loss: 0.0827\n"
     ]
    },
    {
     "name": "stderr",
     "output_type": "stream",
     "text": [
      " 22%|██▏       | 44/200 [23:13<1:22:50, 31.86s/it]"
     ]
    },
    {
     "name": "stdout",
     "output_type": "stream",
     "text": [
      "Average Loss: 0.0826\n"
     ]
    },
    {
     "name": "stderr",
     "output_type": "stream",
     "text": [
      " 22%|██▎       | 45/200 [23:44<1:22:01, 31.75s/it]"
     ]
    },
    {
     "name": "stdout",
     "output_type": "stream",
     "text": [
      "Average Loss: 0.0825\n"
     ]
    },
    {
     "name": "stderr",
     "output_type": "stream",
     "text": [
      " 23%|██▎       | 46/200 [24:16<1:21:27, 31.73s/it]"
     ]
    },
    {
     "name": "stdout",
     "output_type": "stream",
     "text": [
      "Average Loss: 0.0825\n"
     ]
    },
    {
     "name": "stderr",
     "output_type": "stream",
     "text": [
      " 24%|██▎       | 47/200 [24:47<1:20:48, 31.69s/it]"
     ]
    },
    {
     "name": "stdout",
     "output_type": "stream",
     "text": [
      "Average Loss: 0.0824\n"
     ]
    },
    {
     "name": "stderr",
     "output_type": "stream",
     "text": [
      " 24%|██▍       | 48/200 [25:19<1:20:04, 31.61s/it]"
     ]
    },
    {
     "name": "stdout",
     "output_type": "stream",
     "text": [
      "Average Loss: 0.0824\n"
     ]
    },
    {
     "name": "stderr",
     "output_type": "stream",
     "text": [
      " 24%|██▍       | 49/200 [25:50<1:19:34, 31.62s/it]"
     ]
    },
    {
     "name": "stdout",
     "output_type": "stream",
     "text": [
      "Average Loss: 0.0823\n"
     ]
    },
    {
     "name": "stderr",
     "output_type": "stream",
     "text": [
      " 25%|██▌       | 50/200 [26:22<1:19:05, 31.64s/it]"
     ]
    },
    {
     "name": "stdout",
     "output_type": "stream",
     "text": [
      "Average Loss: 0.0822\n"
     ]
    },
    {
     "name": "stderr",
     "output_type": "stream",
     "text": [
      " 26%|██▌       | 51/200 [26:53<1:18:23, 31.57s/it]"
     ]
    },
    {
     "name": "stdout",
     "output_type": "stream",
     "text": [
      "Average Loss: 0.0821\n"
     ]
    },
    {
     "name": "stderr",
     "output_type": "stream",
     "text": [
      " 26%|██▌       | 52/200 [27:25<1:18:00, 31.63s/it]"
     ]
    },
    {
     "name": "stdout",
     "output_type": "stream",
     "text": [
      "Average Loss: 0.0821\n"
     ]
    },
    {
     "name": "stderr",
     "output_type": "stream",
     "text": [
      " 26%|██▋       | 53/200 [27:58<1:18:20, 31.98s/it]"
     ]
    },
    {
     "name": "stdout",
     "output_type": "stream",
     "text": [
      "Average Loss: 0.0820\n"
     ]
    },
    {
     "name": "stderr",
     "output_type": "stream",
     "text": [
      " 27%|██▋       | 54/200 [28:29<1:17:14, 31.74s/it]"
     ]
    },
    {
     "name": "stdout",
     "output_type": "stream",
     "text": [
      "Average Loss: 0.0820\n"
     ]
    },
    {
     "name": "stderr",
     "output_type": "stream",
     "text": [
      " 28%|██▊       | 55/200 [29:01<1:16:35, 31.70s/it]"
     ]
    },
    {
     "name": "stdout",
     "output_type": "stream",
     "text": [
      "Average Loss: 0.0819\n"
     ]
    },
    {
     "name": "stderr",
     "output_type": "stream",
     "text": [
      " 28%|██▊       | 56/200 [29:33<1:16:05, 31.71s/it]"
     ]
    },
    {
     "name": "stdout",
     "output_type": "stream",
     "text": [
      "Average Loss: 0.0818\n"
     ]
    },
    {
     "name": "stderr",
     "output_type": "stream",
     "text": [
      " 28%|██▊       | 57/200 [30:04<1:15:15, 31.58s/it]"
     ]
    },
    {
     "name": "stdout",
     "output_type": "stream",
     "text": [
      "Average Loss: 0.0817\n"
     ]
    },
    {
     "name": "stderr",
     "output_type": "stream",
     "text": [
      " 29%|██▉       | 58/200 [30:35<1:14:38, 31.54s/it]"
     ]
    },
    {
     "name": "stdout",
     "output_type": "stream",
     "text": [
      "Average Loss: 0.0817\n"
     ]
    },
    {
     "name": "stderr",
     "output_type": "stream",
     "text": [
      " 30%|██▉       | 59/200 [31:07<1:14:02, 31.50s/it]"
     ]
    },
    {
     "name": "stdout",
     "output_type": "stream",
     "text": [
      "Average Loss: 0.0816\n"
     ]
    },
    {
     "name": "stderr",
     "output_type": "stream",
     "text": [
      " 30%|███       | 60/200 [31:38<1:13:32, 31.52s/it]"
     ]
    },
    {
     "name": "stdout",
     "output_type": "stream",
     "text": [
      "Average Loss: 0.0816\n"
     ]
    },
    {
     "name": "stderr",
     "output_type": "stream",
     "text": [
      " 30%|███       | 61/200 [32:10<1:13:07, 31.57s/it]"
     ]
    },
    {
     "name": "stdout",
     "output_type": "stream",
     "text": [
      "Average Loss: 0.0815\n"
     ]
    },
    {
     "name": "stderr",
     "output_type": "stream",
     "text": [
      " 31%|███       | 62/200 [32:42<1:12:52, 31.69s/it]"
     ]
    },
    {
     "name": "stdout",
     "output_type": "stream",
     "text": [
      "Average Loss: 0.0814\n"
     ]
    },
    {
     "name": "stderr",
     "output_type": "stream",
     "text": [
      " 32%|███▏      | 63/200 [33:13<1:12:09, 31.60s/it]"
     ]
    },
    {
     "name": "stdout",
     "output_type": "stream",
     "text": [
      "Average Loss: 0.0814\n"
     ]
    },
    {
     "name": "stderr",
     "output_type": "stream",
     "text": [
      " 32%|███▏      | 64/200 [33:45<1:11:34, 31.58s/it]"
     ]
    },
    {
     "name": "stdout",
     "output_type": "stream",
     "text": [
      "Average Loss: 0.0813\n"
     ]
    },
    {
     "name": "stderr",
     "output_type": "stream",
     "text": [
      " 32%|███▎      | 65/200 [34:16<1:11:05, 31.59s/it]"
     ]
    },
    {
     "name": "stdout",
     "output_type": "stream",
     "text": [
      "Average Loss: 0.0813\n"
     ]
    },
    {
     "name": "stderr",
     "output_type": "stream",
     "text": [
      " 33%|███▎      | 66/200 [34:48<1:10:30, 31.57s/it]"
     ]
    },
    {
     "name": "stdout",
     "output_type": "stream",
     "text": [
      "Average Loss: 0.0813\n"
     ]
    },
    {
     "name": "stderr",
     "output_type": "stream",
     "text": [
      " 34%|███▎      | 67/200 [35:20<1:09:58, 31.57s/it]"
     ]
    },
    {
     "name": "stdout",
     "output_type": "stream",
     "text": [
      "Average Loss: 0.0812\n"
     ]
    },
    {
     "name": "stderr",
     "output_type": "stream",
     "text": [
      " 34%|███▍      | 68/200 [35:51<1:09:27, 31.58s/it]"
     ]
    },
    {
     "name": "stdout",
     "output_type": "stream",
     "text": [
      "Average Loss: 0.0811\n"
     ]
    },
    {
     "name": "stderr",
     "output_type": "stream",
     "text": [
      " 34%|███▍      | 69/200 [36:23<1:08:55, 31.57s/it]"
     ]
    },
    {
     "name": "stdout",
     "output_type": "stream",
     "text": [
      "Average Loss: 0.0810\n"
     ]
    },
    {
     "name": "stderr",
     "output_type": "stream",
     "text": [
      " 35%|███▌      | 70/200 [36:54<1:08:25, 31.58s/it]"
     ]
    },
    {
     "name": "stdout",
     "output_type": "stream",
     "text": [
      "Average Loss: 0.0809\n"
     ]
    },
    {
     "name": "stderr",
     "output_type": "stream",
     "text": [
      " 36%|███▌      | 71/200 [37:26<1:07:57, 31.61s/it]"
     ]
    },
    {
     "name": "stdout",
     "output_type": "stream",
     "text": [
      "Average Loss: 0.0809\n"
     ]
    },
    {
     "name": "stderr",
     "output_type": "stream",
     "text": [
      " 36%|███▌      | 72/200 [37:57<1:07:23, 31.59s/it]"
     ]
    },
    {
     "name": "stdout",
     "output_type": "stream",
     "text": [
      "Average Loss: 0.0809\n"
     ]
    },
    {
     "name": "stderr",
     "output_type": "stream",
     "text": [
      " 36%|███▋      | 73/200 [38:29<1:06:49, 31.57s/it]"
     ]
    },
    {
     "name": "stdout",
     "output_type": "stream",
     "text": [
      "Average Loss: 0.0809\n"
     ]
    },
    {
     "name": "stderr",
     "output_type": "stream",
     "text": [
      " 37%|███▋      | 74/200 [39:00<1:06:13, 31.54s/it]"
     ]
    },
    {
     "name": "stdout",
     "output_type": "stream",
     "text": [
      "Average Loss: 0.0808\n"
     ]
    },
    {
     "name": "stderr",
     "output_type": "stream",
     "text": [
      " 38%|███▊      | 75/200 [39:32<1:05:40, 31.52s/it]"
     ]
    },
    {
     "name": "stdout",
     "output_type": "stream",
     "text": [
      "Average Loss: 0.0806\n"
     ]
    },
    {
     "name": "stderr",
     "output_type": "stream",
     "text": [
      " 38%|███▊      | 76/200 [40:04<1:05:27, 31.67s/it]"
     ]
    },
    {
     "name": "stdout",
     "output_type": "stream",
     "text": [
      "Average Loss: 0.0806\n"
     ]
    },
    {
     "name": "stderr",
     "output_type": "stream",
     "text": [
      " 38%|███▊      | 77/200 [40:35<1:04:50, 31.63s/it]"
     ]
    },
    {
     "name": "stdout",
     "output_type": "stream",
     "text": [
      "Average Loss: 0.0807\n"
     ]
    },
    {
     "name": "stderr",
     "output_type": "stream",
     "text": [
      " 39%|███▉      | 78/200 [41:07<1:04:17, 31.62s/it]"
     ]
    },
    {
     "name": "stdout",
     "output_type": "stream",
     "text": [
      "Average Loss: 0.0807\n"
     ]
    },
    {
     "name": "stderr",
     "output_type": "stream",
     "text": [
      " 40%|███▉      | 79/200 [41:39<1:04:08, 31.80s/it]"
     ]
    },
    {
     "name": "stdout",
     "output_type": "stream",
     "text": [
      "Average Loss: 0.0805\n"
     ]
    },
    {
     "name": "stderr",
     "output_type": "stream",
     "text": [
      " 40%|████      | 80/200 [42:11<1:03:22, 31.69s/it]"
     ]
    },
    {
     "name": "stdout",
     "output_type": "stream",
     "text": [
      "Average Loss: 0.0805\n"
     ]
    },
    {
     "name": "stderr",
     "output_type": "stream",
     "text": [
      " 40%|████      | 81/200 [42:42<1:02:45, 31.64s/it]"
     ]
    },
    {
     "name": "stdout",
     "output_type": "stream",
     "text": [
      "Average Loss: 0.0805\n"
     ]
    },
    {
     "name": "stderr",
     "output_type": "stream",
     "text": [
      " 41%|████      | 82/200 [43:14<1:02:04, 31.56s/it]"
     ]
    },
    {
     "name": "stdout",
     "output_type": "stream",
     "text": [
      "Average Loss: 0.0804\n"
     ]
    },
    {
     "name": "stderr",
     "output_type": "stream",
     "text": [
      " 42%|████▏     | 83/200 [43:45<1:01:32, 31.56s/it]"
     ]
    },
    {
     "name": "stdout",
     "output_type": "stream",
     "text": [
      "Average Loss: 0.0804\n"
     ]
    },
    {
     "name": "stderr",
     "output_type": "stream",
     "text": [
      " 42%|████▏     | 84/200 [44:17<1:01:01, 31.56s/it]"
     ]
    },
    {
     "name": "stdout",
     "output_type": "stream",
     "text": [
      "Average Loss: 0.0804\n"
     ]
    },
    {
     "name": "stderr",
     "output_type": "stream",
     "text": [
      " 42%|████▎     | 85/200 [44:48<1:00:26, 31.54s/it]"
     ]
    },
    {
     "name": "stdout",
     "output_type": "stream",
     "text": [
      "Average Loss: 0.0802\n"
     ]
    },
    {
     "name": "stderr",
     "output_type": "stream",
     "text": [
      " 43%|████▎     | 86/200 [45:20<59:51, 31.50s/it]  "
     ]
    },
    {
     "name": "stdout",
     "output_type": "stream",
     "text": [
      "Average Loss: 0.0802\n"
     ]
    },
    {
     "name": "stderr",
     "output_type": "stream",
     "text": [
      " 44%|████▎     | 87/200 [45:52<59:45, 31.73s/it]"
     ]
    },
    {
     "name": "stdout",
     "output_type": "stream",
     "text": [
      "Average Loss: 0.0801\n"
     ]
    },
    {
     "name": "stderr",
     "output_type": "stream",
     "text": [
      " 44%|████▍     | 88/200 [46:24<59:10, 31.70s/it]"
     ]
    },
    {
     "name": "stdout",
     "output_type": "stream",
     "text": [
      "Average Loss: 0.0801\n"
     ]
    },
    {
     "name": "stderr",
     "output_type": "stream",
     "text": [
      " 44%|████▍     | 89/200 [46:55<58:28, 31.61s/it]"
     ]
    },
    {
     "name": "stdout",
     "output_type": "stream",
     "text": [
      "Average Loss: 0.0802\n"
     ]
    },
    {
     "name": "stderr",
     "output_type": "stream",
     "text": [
      " 45%|████▌     | 90/200 [47:27<57:55, 31.60s/it]"
     ]
    },
    {
     "name": "stdout",
     "output_type": "stream",
     "text": [
      "Average Loss: 0.0801\n"
     ]
    },
    {
     "name": "stderr",
     "output_type": "stream",
     "text": [
      " 46%|████▌     | 91/200 [47:58<57:21, 31.57s/it]"
     ]
    },
    {
     "name": "stdout",
     "output_type": "stream",
     "text": [
      "Average Loss: 0.0800\n"
     ]
    },
    {
     "name": "stderr",
     "output_type": "stream",
     "text": [
      " 46%|████▌     | 92/200 [48:30<56:46, 31.55s/it]"
     ]
    },
    {
     "name": "stdout",
     "output_type": "stream",
     "text": [
      "Average Loss: 0.0799\n"
     ]
    },
    {
     "name": "stderr",
     "output_type": "stream",
     "text": [
      " 46%|████▋     | 93/200 [49:01<56:09, 31.49s/it]"
     ]
    },
    {
     "name": "stdout",
     "output_type": "stream",
     "text": [
      "Average Loss: 0.0800\n"
     ]
    },
    {
     "name": "stderr",
     "output_type": "stream",
     "text": [
      " 47%|████▋     | 94/200 [49:32<55:29, 31.42s/it]"
     ]
    },
    {
     "name": "stdout",
     "output_type": "stream",
     "text": [
      "Average Loss: 0.0799\n"
     ]
    },
    {
     "name": "stderr",
     "output_type": "stream",
     "text": [
      " 48%|████▊     | 95/200 [50:04<55:19, 31.61s/it]"
     ]
    },
    {
     "name": "stdout",
     "output_type": "stream",
     "text": [
      "Average Loss: 0.0797\n"
     ]
    },
    {
     "name": "stderr",
     "output_type": "stream",
     "text": [
      " 48%|████▊     | 96/200 [50:36<54:54, 31.68s/it]"
     ]
    },
    {
     "name": "stdout",
     "output_type": "stream",
     "text": [
      "Average Loss: 0.0797\n"
     ]
    },
    {
     "name": "stderr",
     "output_type": "stream",
     "text": [
      " 48%|████▊     | 97/200 [51:08<54:17, 31.63s/it]"
     ]
    },
    {
     "name": "stdout",
     "output_type": "stream",
     "text": [
      "Average Loss: 0.0797\n"
     ]
    },
    {
     "name": "stderr",
     "output_type": "stream",
     "text": [
      " 49%|████▉     | 98/200 [51:39<53:40, 31.58s/it]"
     ]
    },
    {
     "name": "stdout",
     "output_type": "stream",
     "text": [
      "Average Loss: 0.0797\n"
     ]
    },
    {
     "name": "stderr",
     "output_type": "stream",
     "text": [
      " 50%|████▉     | 99/200 [52:10<53:06, 31.55s/it]"
     ]
    },
    {
     "name": "stdout",
     "output_type": "stream",
     "text": [
      "Average Loss: 0.0797\n"
     ]
    },
    {
     "name": "stderr",
     "output_type": "stream",
     "text": [
      " 50%|█████     | 100/200 [52:42<52:31, 31.51s/it]"
     ]
    },
    {
     "name": "stdout",
     "output_type": "stream",
     "text": [
      "Average Loss: 0.0796\n"
     ]
    },
    {
     "name": "stderr",
     "output_type": "stream",
     "text": [
      " 50%|█████     | 101/200 [53:13<51:54, 31.46s/it]"
     ]
    },
    {
     "name": "stdout",
     "output_type": "stream",
     "text": [
      "Average Loss: 0.0796\n"
     ]
    },
    {
     "name": "stderr",
     "output_type": "stream",
     "text": [
      " 51%|█████     | 102/200 [53:45<51:25, 31.48s/it]"
     ]
    },
    {
     "name": "stdout",
     "output_type": "stream",
     "text": [
      "Average Loss: 0.0796\n"
     ]
    },
    {
     "name": "stderr",
     "output_type": "stream",
     "text": [
      " 52%|█████▏    | 103/200 [54:16<50:51, 31.45s/it]"
     ]
    },
    {
     "name": "stdout",
     "output_type": "stream",
     "text": [
      "Average Loss: 0.0796\n"
     ]
    },
    {
     "name": "stderr",
     "output_type": "stream",
     "text": [
      " 52%|█████▏    | 104/200 [54:48<50:28, 31.55s/it]"
     ]
    },
    {
     "name": "stdout",
     "output_type": "stream",
     "text": [
      "Average Loss: 0.0796\n"
     ]
    },
    {
     "name": "stderr",
     "output_type": "stream",
     "text": [
      " 52%|█████▎    | 105/200 [55:19<49:55, 31.54s/it]"
     ]
    },
    {
     "name": "stdout",
     "output_type": "stream",
     "text": [
      "Average Loss: 0.0795\n"
     ]
    },
    {
     "name": "stderr",
     "output_type": "stream",
     "text": [
      " 53%|█████▎    | 106/200 [55:51<49:32, 31.63s/it]"
     ]
    },
    {
     "name": "stdout",
     "output_type": "stream",
     "text": [
      "Average Loss: 0.0794\n"
     ]
    },
    {
     "name": "stderr",
     "output_type": "stream",
     "text": [
      " 54%|█████▎    | 107/200 [56:23<48:59, 31.60s/it]"
     ]
    },
    {
     "name": "stdout",
     "output_type": "stream",
     "text": [
      "Average Loss: 0.0793\n"
     ]
    },
    {
     "name": "stderr",
     "output_type": "stream",
     "text": [
      " 54%|█████▍    | 108/200 [56:54<48:26, 31.60s/it]"
     ]
    },
    {
     "name": "stdout",
     "output_type": "stream",
     "text": [
      "Average Loss: 0.0793\n"
     ]
    },
    {
     "name": "stderr",
     "output_type": "stream",
     "text": [
      " 55%|█████▍    | 109/200 [57:26<47:56, 31.61s/it]"
     ]
    },
    {
     "name": "stdout",
     "output_type": "stream",
     "text": [
      "Average Loss: 0.0792\n"
     ]
    },
    {
     "name": "stderr",
     "output_type": "stream",
     "text": [
      " 55%|█████▌    | 110/200 [57:58<47:25, 31.61s/it]"
     ]
    },
    {
     "name": "stdout",
     "output_type": "stream",
     "text": [
      "Average Loss: 0.0792\n"
     ]
    },
    {
     "name": "stderr",
     "output_type": "stream",
     "text": [
      " 56%|█████▌    | 111/200 [58:29<46:50, 31.58s/it]"
     ]
    },
    {
     "name": "stdout",
     "output_type": "stream",
     "text": [
      "Average Loss: 0.0792\n"
     ]
    },
    {
     "name": "stderr",
     "output_type": "stream",
     "text": [
      " 56%|█████▌    | 112/200 [59:01<46:17, 31.57s/it]"
     ]
    },
    {
     "name": "stdout",
     "output_type": "stream",
     "text": [
      "Average Loss: 0.0792\n"
     ]
    },
    {
     "name": "stderr",
     "output_type": "stream",
     "text": [
      " 56%|█████▋    | 113/200 [59:32<45:43, 31.54s/it]"
     ]
    },
    {
     "name": "stdout",
     "output_type": "stream",
     "text": [
      "Average Loss: 0.0791\n"
     ]
    },
    {
     "name": "stderr",
     "output_type": "stream",
     "text": [
      " 57%|█████▋    | 114/200 [1:00:04<45:18, 31.61s/it]"
     ]
    },
    {
     "name": "stdout",
     "output_type": "stream",
     "text": [
      "Average Loss: 0.0791\n"
     ]
    },
    {
     "name": "stderr",
     "output_type": "stream",
     "text": [
      " 57%|█████▊    | 115/200 [1:00:35<44:42, 31.56s/it]"
     ]
    },
    {
     "name": "stdout",
     "output_type": "stream",
     "text": [
      "Average Loss: 0.0792\n"
     ]
    },
    {
     "name": "stderr",
     "output_type": "stream",
     "text": [
      " 58%|█████▊    | 116/200 [1:01:07<44:12, 31.57s/it]"
     ]
    },
    {
     "name": "stdout",
     "output_type": "stream",
     "text": [
      "Average Loss: 0.0790\n"
     ]
    },
    {
     "name": "stderr",
     "output_type": "stream",
     "text": [
      " 58%|█████▊    | 117/200 [1:01:39<43:40, 31.57s/it]"
     ]
    },
    {
     "name": "stdout",
     "output_type": "stream",
     "text": [
      "Average Loss: 0.0791\n"
     ]
    },
    {
     "name": "stderr",
     "output_type": "stream",
     "text": [
      " 59%|█████▉    | 118/200 [1:02:10<43:06, 31.54s/it]"
     ]
    },
    {
     "name": "stdout",
     "output_type": "stream",
     "text": [
      "Average Loss: 0.0789\n"
     ]
    },
    {
     "name": "stderr",
     "output_type": "stream",
     "text": [
      " 60%|█████▉    | 119/200 [1:02:42<42:33, 31.53s/it]"
     ]
    },
    {
     "name": "stdout",
     "output_type": "stream",
     "text": [
      "Average Loss: 0.0789\n"
     ]
    },
    {
     "name": "stderr",
     "output_type": "stream",
     "text": [
      " 60%|██████    | 120/200 [1:03:13<41:59, 31.49s/it]"
     ]
    },
    {
     "name": "stdout",
     "output_type": "stream",
     "text": [
      "Average Loss: 0.0788\n"
     ]
    },
    {
     "name": "stderr",
     "output_type": "stream",
     "text": [
      " 60%|██████    | 121/200 [1:03:44<41:27, 31.49s/it]"
     ]
    },
    {
     "name": "stdout",
     "output_type": "stream",
     "text": [
      "Average Loss: 0.0788\n"
     ]
    },
    {
     "name": "stderr",
     "output_type": "stream",
     "text": [
      " 61%|██████    | 122/200 [1:04:16<40:59, 31.53s/it]"
     ]
    },
    {
     "name": "stdout",
     "output_type": "stream",
     "text": [
      "Average Loss: 0.0788\n"
     ]
    },
    {
     "name": "stderr",
     "output_type": "stream",
     "text": [
      " 62%|██████▏   | 123/200 [1:04:47<40:23, 31.48s/it]"
     ]
    },
    {
     "name": "stdout",
     "output_type": "stream",
     "text": [
      "Average Loss: 0.0788\n"
     ]
    },
    {
     "name": "stderr",
     "output_type": "stream",
     "text": [
      " 62%|██████▏   | 124/200 [1:05:19<39:58, 31.56s/it]"
     ]
    },
    {
     "name": "stdout",
     "output_type": "stream",
     "text": [
      "Average Loss: 0.0789\n"
     ]
    },
    {
     "name": "stderr",
     "output_type": "stream",
     "text": [
      " 62%|██████▎   | 125/200 [1:05:51<39:24, 31.53s/it]"
     ]
    },
    {
     "name": "stdout",
     "output_type": "stream",
     "text": [
      "Average Loss: 0.0788\n"
     ]
    },
    {
     "name": "stderr",
     "output_type": "stream",
     "text": [
      " 63%|██████▎   | 126/200 [1:06:22<38:55, 31.56s/it]"
     ]
    },
    {
     "name": "stdout",
     "output_type": "stream",
     "text": [
      "Average Loss: 0.0787\n"
     ]
    },
    {
     "name": "stderr",
     "output_type": "stream",
     "text": [
      " 64%|██████▎   | 127/200 [1:06:55<38:40, 31.79s/it]"
     ]
    },
    {
     "name": "stdout",
     "output_type": "stream",
     "text": [
      "Average Loss: 0.0787\n"
     ]
    },
    {
     "name": "stderr",
     "output_type": "stream",
     "text": [
      " 64%|██████▍   | 128/200 [1:07:27<38:15, 31.88s/it]"
     ]
    },
    {
     "name": "stdout",
     "output_type": "stream",
     "text": [
      "Average Loss: 0.0786\n"
     ]
    },
    {
     "name": "stderr",
     "output_type": "stream",
     "text": [
      " 64%|██████▍   | 129/200 [1:07:58<37:34, 31.76s/it]"
     ]
    },
    {
     "name": "stdout",
     "output_type": "stream",
     "text": [
      "Average Loss: 0.0786\n"
     ]
    },
    {
     "name": "stderr",
     "output_type": "stream",
     "text": [
      " 65%|██████▌   | 130/200 [1:08:30<36:55, 31.65s/it]"
     ]
    },
    {
     "name": "stdout",
     "output_type": "stream",
     "text": [
      "Average Loss: 0.0785\n"
     ]
    },
    {
     "name": "stderr",
     "output_type": "stream",
     "text": [
      " 66%|██████▌   | 131/200 [1:09:01<36:19, 31.59s/it]"
     ]
    },
    {
     "name": "stdout",
     "output_type": "stream",
     "text": [
      "Average Loss: 0.0787\n"
     ]
    },
    {
     "name": "stderr",
     "output_type": "stream",
     "text": [
      " 66%|██████▌   | 132/200 [1:09:32<35:43, 31.52s/it]"
     ]
    },
    {
     "name": "stdout",
     "output_type": "stream",
     "text": [
      "Average Loss: 0.0786\n"
     ]
    },
    {
     "name": "stderr",
     "output_type": "stream",
     "text": [
      " 66%|██████▋   | 133/200 [1:10:04<35:15, 31.57s/it]"
     ]
    },
    {
     "name": "stdout",
     "output_type": "stream",
     "text": [
      "Average Loss: 0.0785\n"
     ]
    },
    {
     "name": "stderr",
     "output_type": "stream",
     "text": [
      " 67%|██████▋   | 134/200 [1:10:35<34:40, 31.53s/it]"
     ]
    },
    {
     "name": "stdout",
     "output_type": "stream",
     "text": [
      "Average Loss: 0.0784\n"
     ]
    },
    {
     "name": "stderr",
     "output_type": "stream",
     "text": [
      " 68%|██████▊   | 135/200 [1:11:07<34:09, 31.54s/it]"
     ]
    },
    {
     "name": "stdout",
     "output_type": "stream",
     "text": [
      "Average Loss: 0.0784\n"
     ]
    },
    {
     "name": "stderr",
     "output_type": "stream",
     "text": [
      " 68%|██████▊   | 136/200 [1:11:39<33:40, 31.57s/it]"
     ]
    },
    {
     "name": "stdout",
     "output_type": "stream",
     "text": [
      "Average Loss: 0.0786\n"
     ]
    },
    {
     "name": "stderr",
     "output_type": "stream",
     "text": [
      " 68%|██████▊   | 137/200 [1:12:10<33:06, 31.53s/it]"
     ]
    },
    {
     "name": "stdout",
     "output_type": "stream",
     "text": [
      "Average Loss: 0.0785\n"
     ]
    },
    {
     "name": "stderr",
     "output_type": "stream",
     "text": [
      " 69%|██████▉   | 138/200 [1:12:42<32:39, 31.61s/it]"
     ]
    },
    {
     "name": "stdout",
     "output_type": "stream",
     "text": [
      "Average Loss: 0.0783\n"
     ]
    },
    {
     "name": "stderr",
     "output_type": "stream",
     "text": [
      " 70%|██████▉   | 139/200 [1:13:13<32:03, 31.54s/it]"
     ]
    },
    {
     "name": "stdout",
     "output_type": "stream",
     "text": [
      "Average Loss: 0.0782\n"
     ]
    },
    {
     "name": "stderr",
     "output_type": "stream",
     "text": [
      " 70%|███████   | 140/200 [1:13:45<31:31, 31.53s/it]"
     ]
    },
    {
     "name": "stdout",
     "output_type": "stream",
     "text": [
      "Average Loss: 0.0782\n"
     ]
    },
    {
     "name": "stderr",
     "output_type": "stream",
     "text": [
      " 70%|███████   | 141/200 [1:14:16<31:01, 31.55s/it]"
     ]
    },
    {
     "name": "stdout",
     "output_type": "stream",
     "text": [
      "Average Loss: 0.0782\n"
     ]
    },
    {
     "name": "stderr",
     "output_type": "stream",
     "text": [
      " 71%|███████   | 142/200 [1:14:48<30:34, 31.63s/it]"
     ]
    },
    {
     "name": "stdout",
     "output_type": "stream",
     "text": [
      "Average Loss: 0.0782\n"
     ]
    },
    {
     "name": "stderr",
     "output_type": "stream",
     "text": [
      " 72%|███████▏  | 143/200 [1:15:20<30:01, 31.60s/it]"
     ]
    },
    {
     "name": "stdout",
     "output_type": "stream",
     "text": [
      "Average Loss: 0.0781\n"
     ]
    },
    {
     "name": "stderr",
     "output_type": "stream",
     "text": [
      " 72%|███████▏  | 144/200 [1:15:51<29:28, 31.58s/it]"
     ]
    },
    {
     "name": "stdout",
     "output_type": "stream",
     "text": [
      "Average Loss: 0.0782\n"
     ]
    },
    {
     "name": "stderr",
     "output_type": "stream",
     "text": [
      " 72%|███████▎  | 145/200 [1:16:23<28:56, 31.57s/it]"
     ]
    },
    {
     "name": "stdout",
     "output_type": "stream",
     "text": [
      "Average Loss: 0.0782\n"
     ]
    },
    {
     "name": "stderr",
     "output_type": "stream",
     "text": [
      " 73%|███████▎  | 146/200 [1:16:55<28:26, 31.60s/it]"
     ]
    },
    {
     "name": "stdout",
     "output_type": "stream",
     "text": [
      "Average Loss: 0.0781\n"
     ]
    },
    {
     "name": "stderr",
     "output_type": "stream",
     "text": [
      " 74%|███████▎  | 147/200 [1:17:26<27:52, 31.56s/it]"
     ]
    },
    {
     "name": "stdout",
     "output_type": "stream",
     "text": [
      "Average Loss: 0.0783\n"
     ]
    },
    {
     "name": "stderr",
     "output_type": "stream",
     "text": [
      " 74%|███████▍  | 148/200 [1:17:58<27:21, 31.57s/it]"
     ]
    },
    {
     "name": "stdout",
     "output_type": "stream",
     "text": [
      "Average Loss: 0.0781\n"
     ]
    },
    {
     "name": "stderr",
     "output_type": "stream",
     "text": [
      " 74%|███████▍  | 149/200 [1:18:29<26:47, 31.53s/it]"
     ]
    },
    {
     "name": "stdout",
     "output_type": "stream",
     "text": [
      "Average Loss: 0.0780\n"
     ]
    },
    {
     "name": "stderr",
     "output_type": "stream",
     "text": [
      " 75%|███████▌  | 150/200 [1:19:01<26:16, 31.53s/it]"
     ]
    },
    {
     "name": "stdout",
     "output_type": "stream",
     "text": [
      "Average Loss: 0.0781\n"
     ]
    },
    {
     "name": "stderr",
     "output_type": "stream",
     "text": [
      " 76%|███████▌  | 151/200 [1:19:32<25:42, 31.48s/it]"
     ]
    },
    {
     "name": "stdout",
     "output_type": "stream",
     "text": [
      "Average Loss: 0.0779\n"
     ]
    },
    {
     "name": "stderr",
     "output_type": "stream",
     "text": [
      " 76%|███████▌  | 152/200 [1:20:03<25:11, 31.49s/it]"
     ]
    },
    {
     "name": "stdout",
     "output_type": "stream",
     "text": [
      "Average Loss: 0.0779\n"
     ]
    },
    {
     "name": "stderr",
     "output_type": "stream",
     "text": [
      " 76%|███████▋  | 153/200 [1:20:35<24:36, 31.41s/it]"
     ]
    },
    {
     "name": "stdout",
     "output_type": "stream",
     "text": [
      "Average Loss: 0.0779\n"
     ]
    },
    {
     "name": "stderr",
     "output_type": "stream",
     "text": [
      " 77%|███████▋  | 154/200 [1:21:07<24:17, 31.70s/it]"
     ]
    },
    {
     "name": "stdout",
     "output_type": "stream",
     "text": [
      "Average Loss: 0.0779\n"
     ]
    },
    {
     "name": "stderr",
     "output_type": "stream",
     "text": [
      " 78%|███████▊  | 155/200 [1:21:39<23:44, 31.66s/it]"
     ]
    },
    {
     "name": "stdout",
     "output_type": "stream",
     "text": [
      "Average Loss: 0.0780\n"
     ]
    },
    {
     "name": "stderr",
     "output_type": "stream",
     "text": [
      " 78%|███████▊  | 156/200 [1:22:12<23:42, 32.32s/it]"
     ]
    },
    {
     "name": "stdout",
     "output_type": "stream",
     "text": [
      "Average Loss: 0.0779\n"
     ]
    },
    {
     "name": "stderr",
     "output_type": "stream",
     "text": [
      " 78%|███████▊  | 157/200 [1:22:44<23:01, 32.12s/it]"
     ]
    },
    {
     "name": "stdout",
     "output_type": "stream",
     "text": [
      "Average Loss: 0.0780\n"
     ]
    },
    {
     "name": "stderr",
     "output_type": "stream",
     "text": [
      " 79%|███████▉  | 158/200 [1:23:15<22:18, 31.88s/it]"
     ]
    },
    {
     "name": "stdout",
     "output_type": "stream",
     "text": [
      "Average Loss: 0.0779\n"
     ]
    },
    {
     "name": "stderr",
     "output_type": "stream",
     "text": [
      " 80%|███████▉  | 159/200 [1:23:47<21:42, 31.77s/it]"
     ]
    },
    {
     "name": "stdout",
     "output_type": "stream",
     "text": [
      "Average Loss: 0.0778\n"
     ]
    },
    {
     "name": "stderr",
     "output_type": "stream",
     "text": [
      " 80%|████████  | 160/200 [1:24:18<21:05, 31.65s/it]"
     ]
    },
    {
     "name": "stdout",
     "output_type": "stream",
     "text": [
      "Average Loss: 0.0777\n"
     ]
    },
    {
     "name": "stderr",
     "output_type": "stream",
     "text": [
      " 80%|████████  | 161/200 [1:24:50<20:33, 31.62s/it]"
     ]
    },
    {
     "name": "stdout",
     "output_type": "stream",
     "text": [
      "Average Loss: 0.0778\n"
     ]
    },
    {
     "name": "stderr",
     "output_type": "stream",
     "text": [
      " 81%|████████  | 162/200 [1:25:21<20:00, 31.58s/it]"
     ]
    },
    {
     "name": "stdout",
     "output_type": "stream",
     "text": [
      "Average Loss: 0.0777\n"
     ]
    },
    {
     "name": "stderr",
     "output_type": "stream",
     "text": [
      " 82%|████████▏ | 163/200 [1:25:53<19:27, 31.56s/it]"
     ]
    },
    {
     "name": "stdout",
     "output_type": "stream",
     "text": [
      "Average Loss: 0.0777\n"
     ]
    },
    {
     "name": "stderr",
     "output_type": "stream",
     "text": [
      " 82%|████████▏ | 164/200 [1:26:24<18:56, 31.56s/it]"
     ]
    },
    {
     "name": "stdout",
     "output_type": "stream",
     "text": [
      "Average Loss: 0.0777\n"
     ]
    },
    {
     "name": "stderr",
     "output_type": "stream",
     "text": [
      " 82%|████████▎ | 165/200 [1:26:56<18:21, 31.47s/it]"
     ]
    },
    {
     "name": "stdout",
     "output_type": "stream",
     "text": [
      "Average Loss: 0.0777\n"
     ]
    },
    {
     "name": "stderr",
     "output_type": "stream",
     "text": [
      " 83%|████████▎ | 166/200 [1:27:27<17:48, 31.44s/it]"
     ]
    },
    {
     "name": "stdout",
     "output_type": "stream",
     "text": [
      "Average Loss: 0.0777\n"
     ]
    },
    {
     "name": "stderr",
     "output_type": "stream",
     "text": [
      " 84%|████████▎ | 167/200 [1:27:58<17:16, 31.41s/it]"
     ]
    },
    {
     "name": "stdout",
     "output_type": "stream",
     "text": [
      "Average Loss: 0.0777\n"
     ]
    },
    {
     "name": "stderr",
     "output_type": "stream",
     "text": [
      " 84%|████████▍ | 168/200 [1:28:30<16:44, 31.38s/it]"
     ]
    },
    {
     "name": "stdout",
     "output_type": "stream",
     "text": [
      "Average Loss: 0.0775\n"
     ]
    },
    {
     "name": "stderr",
     "output_type": "stream",
     "text": [
      " 84%|████████▍ | 169/200 [1:29:01<16:09, 31.28s/it]"
     ]
    },
    {
     "name": "stdout",
     "output_type": "stream",
     "text": [
      "Average Loss: 0.0775\n"
     ]
    },
    {
     "name": "stderr",
     "output_type": "stream",
     "text": [
      " 85%|████████▌ | 170/200 [1:29:32<15:41, 31.38s/it]"
     ]
    },
    {
     "name": "stdout",
     "output_type": "stream",
     "text": [
      "Average Loss: 0.0774\n"
     ]
    },
    {
     "name": "stderr",
     "output_type": "stream",
     "text": [
      " 86%|████████▌ | 171/200 [1:30:04<15:09, 31.36s/it]"
     ]
    },
    {
     "name": "stdout",
     "output_type": "stream",
     "text": [
      "Average Loss: 0.0775\n"
     ]
    },
    {
     "name": "stderr",
     "output_type": "stream",
     "text": [
      " 86%|████████▌ | 172/200 [1:30:35<14:39, 31.40s/it]"
     ]
    },
    {
     "name": "stdout",
     "output_type": "stream",
     "text": [
      "Average Loss: 0.0775\n"
     ]
    },
    {
     "name": "stderr",
     "output_type": "stream",
     "text": [
      " 86%|████████▋ | 173/200 [1:31:07<14:08, 31.42s/it]"
     ]
    },
    {
     "name": "stdout",
     "output_type": "stream",
     "text": [
      "Average Loss: 0.0776\n"
     ]
    },
    {
     "name": "stderr",
     "output_type": "stream",
     "text": [
      " 87%|████████▋ | 174/200 [1:31:38<13:36, 31.41s/it]"
     ]
    },
    {
     "name": "stdout",
     "output_type": "stream",
     "text": [
      "Average Loss: 0.0775\n"
     ]
    },
    {
     "name": "stderr",
     "output_type": "stream",
     "text": [
      " 88%|████████▊ | 175/200 [1:32:09<13:03, 31.35s/it]"
     ]
    },
    {
     "name": "stdout",
     "output_type": "stream",
     "text": [
      "Average Loss: 0.0774\n"
     ]
    },
    {
     "name": "stderr",
     "output_type": "stream",
     "text": [
      " 88%|████████▊ | 176/200 [1:32:41<12:33, 31.39s/it]"
     ]
    },
    {
     "name": "stdout",
     "output_type": "stream",
     "text": [
      "Average Loss: 0.0775\n"
     ]
    },
    {
     "name": "stderr",
     "output_type": "stream",
     "text": [
      " 88%|████████▊ | 177/200 [1:33:12<12:00, 31.33s/it]"
     ]
    },
    {
     "name": "stdout",
     "output_type": "stream",
     "text": [
      "Average Loss: 0.0774\n"
     ]
    },
    {
     "name": "stderr",
     "output_type": "stream",
     "text": [
      " 89%|████████▉ | 178/200 [1:33:43<11:29, 31.33s/it]"
     ]
    },
    {
     "name": "stdout",
     "output_type": "stream",
     "text": [
      "Average Loss: 0.0773\n"
     ]
    },
    {
     "name": "stderr",
     "output_type": "stream",
     "text": [
      " 90%|████████▉ | 179/200 [1:34:15<10:59, 31.40s/it]"
     ]
    },
    {
     "name": "stdout",
     "output_type": "stream",
     "text": [
      "Average Loss: 0.0775\n"
     ]
    },
    {
     "name": "stderr",
     "output_type": "stream",
     "text": [
      " 90%|█████████ | 180/200 [1:34:46<10:27, 31.39s/it]"
     ]
    },
    {
     "name": "stdout",
     "output_type": "stream",
     "text": [
      "Average Loss: 0.0773\n"
     ]
    },
    {
     "name": "stderr",
     "output_type": "stream",
     "text": [
      " 90%|█████████ | 181/200 [1:35:17<09:55, 31.36s/it]"
     ]
    },
    {
     "name": "stdout",
     "output_type": "stream",
     "text": [
      "Average Loss: 0.0772\n"
     ]
    },
    {
     "name": "stderr",
     "output_type": "stream",
     "text": [
      " 91%|█████████ | 182/200 [1:35:49<09:24, 31.37s/it]"
     ]
    },
    {
     "name": "stdout",
     "output_type": "stream",
     "text": [
      "Average Loss: 0.0772\n"
     ]
    },
    {
     "name": "stderr",
     "output_type": "stream",
     "text": [
      " 92%|█████████▏| 183/200 [1:36:20<08:53, 31.38s/it]"
     ]
    },
    {
     "name": "stdout",
     "output_type": "stream",
     "text": [
      "Average Loss: 0.0773\n"
     ]
    },
    {
     "name": "stderr",
     "output_type": "stream",
     "text": [
      " 92%|█████████▏| 184/200 [1:36:52<08:22, 31.40s/it]"
     ]
    },
    {
     "name": "stdout",
     "output_type": "stream",
     "text": [
      "Average Loss: 0.0772\n"
     ]
    },
    {
     "name": "stderr",
     "output_type": "stream",
     "text": [
      " 92%|█████████▎| 185/200 [1:37:23<07:49, 31.32s/it]"
     ]
    },
    {
     "name": "stdout",
     "output_type": "stream",
     "text": [
      "Average Loss: 0.0772\n"
     ]
    },
    {
     "name": "stderr",
     "output_type": "stream",
     "text": [
      " 93%|█████████▎| 186/200 [1:37:54<07:19, 31.36s/it]"
     ]
    },
    {
     "name": "stdout",
     "output_type": "stream",
     "text": [
      "Average Loss: 0.0774\n"
     ]
    },
    {
     "name": "stderr",
     "output_type": "stream",
     "text": [
      " 94%|█████████▎| 187/200 [1:38:26<06:47, 31.33s/it]"
     ]
    },
    {
     "name": "stdout",
     "output_type": "stream",
     "text": [
      "Average Loss: 0.0772\n"
     ]
    },
    {
     "name": "stderr",
     "output_type": "stream",
     "text": [
      " 94%|█████████▍| 188/200 [1:38:57<06:15, 31.32s/it]"
     ]
    },
    {
     "name": "stdout",
     "output_type": "stream",
     "text": [
      "Average Loss: 0.0771\n"
     ]
    },
    {
     "name": "stderr",
     "output_type": "stream",
     "text": [
      " 94%|█████████▍| 189/200 [1:39:28<05:43, 31.27s/it]"
     ]
    },
    {
     "name": "stdout",
     "output_type": "stream",
     "text": [
      "Average Loss: 0.0772\n"
     ]
    },
    {
     "name": "stderr",
     "output_type": "stream",
     "text": [
      " 95%|█████████▌| 190/200 [1:40:00<05:13, 31.35s/it]"
     ]
    },
    {
     "name": "stdout",
     "output_type": "stream",
     "text": [
      "Average Loss: 0.0772\n"
     ]
    },
    {
     "name": "stderr",
     "output_type": "stream",
     "text": [
      " 96%|█████████▌| 191/200 [1:40:31<04:41, 31.31s/it]"
     ]
    },
    {
     "name": "stdout",
     "output_type": "stream",
     "text": [
      "Average Loss: 0.0770\n"
     ]
    },
    {
     "name": "stderr",
     "output_type": "stream",
     "text": [
      " 96%|█████████▌| 192/200 [1:41:02<04:10, 31.32s/it]"
     ]
    },
    {
     "name": "stdout",
     "output_type": "stream",
     "text": [
      "Average Loss: 0.0771\n"
     ]
    },
    {
     "name": "stderr",
     "output_type": "stream",
     "text": [
      " 96%|█████████▋| 193/200 [1:41:33<03:38, 31.24s/it]"
     ]
    },
    {
     "name": "stdout",
     "output_type": "stream",
     "text": [
      "Average Loss: 0.0770\n"
     ]
    },
    {
     "name": "stderr",
     "output_type": "stream",
     "text": [
      " 97%|█████████▋| 194/200 [1:42:04<03:07, 31.17s/it]"
     ]
    },
    {
     "name": "stdout",
     "output_type": "stream",
     "text": [
      "Average Loss: 0.0769\n"
     ]
    },
    {
     "name": "stderr",
     "output_type": "stream",
     "text": [
      " 98%|█████████▊| 195/200 [1:42:35<02:35, 31.15s/it]"
     ]
    },
    {
     "name": "stdout",
     "output_type": "stream",
     "text": [
      "Average Loss: 0.0769\n"
     ]
    },
    {
     "name": "stderr",
     "output_type": "stream",
     "text": [
      " 98%|█████████▊| 196/200 [1:43:06<02:04, 31.14s/it]"
     ]
    },
    {
     "name": "stdout",
     "output_type": "stream",
     "text": [
      "Average Loss: 0.0769\n"
     ]
    },
    {
     "name": "stderr",
     "output_type": "stream",
     "text": [
      " 98%|█████████▊| 197/200 [1:43:37<01:33, 31.12s/it]"
     ]
    },
    {
     "name": "stdout",
     "output_type": "stream",
     "text": [
      "Average Loss: 0.0770\n"
     ]
    },
    {
     "name": "stderr",
     "output_type": "stream",
     "text": [
      " 99%|█████████▉| 198/200 [1:44:09<01:02, 31.19s/it]"
     ]
    },
    {
     "name": "stdout",
     "output_type": "stream",
     "text": [
      "Average Loss: 0.0771\n"
     ]
    },
    {
     "name": "stderr",
     "output_type": "stream",
     "text": [
      "100%|█████████▉| 199/200 [1:44:40<00:31, 31.28s/it]"
     ]
    },
    {
     "name": "stdout",
     "output_type": "stream",
     "text": [
      "Average Loss: 0.0768\n"
     ]
    },
    {
     "name": "stderr",
     "output_type": "stream",
     "text": [
      "100%|██████████| 200/200 [1:45:12<00:00, 31.56s/it]"
     ]
    },
    {
     "name": "stdout",
     "output_type": "stream",
     "text": [
      "Average Loss: 0.0769\n"
     ]
    },
    {
     "name": "stderr",
     "output_type": "stream",
     "text": [
      "\n"
     ]
    }
   ],
   "source": [
    "from tqdm import tqdm\n",
    "\n",
    "learning_rate = 0.001\n",
    "               \n",
    "optimizer = optim.AdamW(filter(lambda p: p.requires_grad, model.parameters()), lr=learning_rate)\n",
    "\n",
    "#loss_fn = nn.BCELoss()\n",
    "#loss_fn = nn.HuberLoss()\n",
    "loss_fn = nn.SmoothL1Loss()\n",
    "#loss_fn = nn.MSELoss()\n",
    "#loss_fn = nn.MSLE()\n",
    "\n",
    "contact_threshold = 15\n",
    "\n",
    "num_epochs = 200\n",
    "\n",
    "for epoch in tqdm(range(num_epochs)):\n",
    "    model.train()       \n",
    "    total_loss = 0\n",
    "    batch_num = 0\n",
    "    \n",
    "    for b in DataLoader(range(200), batch_size=1, shuffle=True):\n",
    "        batch_labels, batch_strs, batch_tokens = batch_converter([(i, train_dataset[i][\"seq\"]) for i in b])\n",
    "        inputs = batch_tokens\n",
    "        targets = [train_dataset[i]['dist'] < contact_threshold for i in b]\n",
    "        optimizer.zero_grad()\n",
    "        outputs = model(inputs, return_contacts=True)\n",
    "        loss = loss_fn(outputs['contacts'], torch.tensor(targets, dtype=torch.float32))\n",
    "        total_loss += loss.item()\n",
    "        loss.backward()\n",
    "        optimizer.step()\n",
    "        batch_num += 1\n",
    "    \n",
    "    average_loss = total_loss / batch_num\n",
    "    print(f\"Average Loss: {average_loss:.4f}\")"
   ]
  },
  {
   "cell_type": "code",
   "execution_count": 13,
   "id": "e60ca539-9464-4793-9f14-d5ef5179c4e1",
   "metadata": {
    "tags": []
   },
   "outputs": [
    {
     "data": {
      "image/png": "[encoded data removed]",
      "text/plain": [
       "<Figure size 800x300 with 4 Axes>"
      ]
     },
     "metadata": {},
     "output_type": "display_data"
    }
   ],
   "source": [
    "batch_labels, batch_strs, batch_tokens = batch_converter([(rand_example, rand_target[\"seq\"])])\n",
    "rand_target_c = rand_target['dist'] < contact_threshold\n",
    "\n",
    "outputs = model(batch_tokens, return_contacts=True)\n",
    "\n",
    "N = len(batch_strs[0])\n",
    "fig, ax = plt.subplots(1, 2, figsize=(8, 3))\n",
    "im = ax[0].imshow(outputs['contacts'][0].detach().numpy() > 0.5)\n",
    "fig.colorbar(im)\n",
    "ax[0].set_title(\"Predicted\")\n",
    "im = ax[1].imshow(rand_target_c)\n",
    "fig.colorbar(im)\n",
    "ax[1].set_title(\"Real\")\n",
    "plt.show()"
   ]
  },
  {
   "cell_type": "code",
   "execution_count": 18,
   "id": "572b2e2e-1534-4131-813b-f1f0a210fd6a",
   "metadata": {
    "tags": []
   },
   "outputs": [
    {
     "data": {
      "image/png": "[encoded data removed]",
      "text/plain": [
       "<Figure size 800x300 with 4 Axes>"
      ]
     },
     "metadata": {},
     "output_type": "display_data"
    }
   ],
   "source": [
    "batch_labels, batch_strs, batch_tokens = batch_converter([(rand_example, rand_target[\"seq\"])])\n",
    "rand_target_c = rand_target['dist'] < contact_threshold\n",
    "\n",
    "outputs = model(batch_tokens, return_contacts=True)\n",
    "\n",
    "N = len(batch_strs[0])\n",
    "fig, ax = plt.subplots(1, 2, figsize=(8, 3))\n",
    "im = ax[0].imshow(outputs['contacts'][0].detach().numpy() > 0.5)\n",
    "fig.colorbar(im)\n",
    "ax[0].set_title(\"Predicted\")\n",
    "im = ax[1].imshow(rand_target_c)\n",
    "fig.colorbar(im)\n",
    "ax[1].set_title(\"Real\")\n",
    "plt.show()"
   ]
  },
  {
   "cell_type": "code",
   "execution_count": null,
   "id": "bdf0b8b5-796a-40f7-9f3a-52d470c937f6",
   "metadata": {},
   "outputs": [],
   "source": [
    "print(model.contact_head.regression.weight)\n",
    "print(model.contact_head.regression.bias)\n",
    "print(model.emb_layer_norm_after.weight)\n",
    "print(model.emb_layer_norm_after.bias)\n",
    "print(model.lm_head.weight)\n",
    "print(model.lm_head.bias)"
   ]
  },
  {
   "cell_type": "code",
   "execution_count": null,
   "id": "8fafe4b3-06f7-40b3-9b6e-9748e45aa589",
   "metadata": {},
   "outputs": [],
   "source": []
  },
  {
   "cell_type": "code",
   "execution_count": null,
   "id": "f6bab2e9-5988-47b5-83e6-53cc526812e7",
   "metadata": {},
   "outputs": [],
   "source": []
  },
  {
   "cell_type": "code",
   "execution_count": null,
   "id": "a49927db-508c-41ae-9b70-58d553bb4386",
   "metadata": {},
   "outputs": [],
   "source": []
  },
  {
   "cell_type": "code",
   "execution_count": null,
   "id": "06f8c4eb-8074-4cd9-a4ec-26556c07a9b2",
   "metadata": {},
   "outputs": [],
   "source": []
  },
  {
   "cell_type": "code",
   "execution_count": null,
   "id": "98d702be-ed63-43fc-8f0c-a737a460bc06",
   "metadata": {},
   "outputs": [],
   "source": []
  },
  {
   "cell_type": "code",
   "execution_count": null,
   "id": "e4c13177-5b15-4ed9-9c8f-9d29052c247d",
   "metadata": {},
   "outputs": [],
   "source": []
  },
  {
   "cell_type": "code",
   "execution_count": null,
   "id": "a980daf3-4303-4bd7-8dbb-c998d9aa0bf9",
   "metadata": {},
   "outputs": [],
   "source": []
  },
  {
   "cell_type": "markdown",
   "id": "4d4f5990-2e27-4060-84ef-e869b755413a",
   "metadata": {},
   "source": [
    "# Testing pandas DF and dataloader system for more batches"
   ]
  },
  {
   "cell_type": "code",
   "execution_count": 20,
   "id": "ae7d6e25-6eb1-4727-8ee5-83976943d26d",
   "metadata": {
    "tags": []
   },
   "outputs": [],
   "source": [
    "# from torch.utils.data import TensorDataset, DataLoader\n",
    "\n",
    "# batch_tokens_list = []\n",
    "# contact_list = []\n",
    "\n",
    "# contact_threshold = 15\n",
    "\n",
    "# # Iterate over the train_dataset\n",
    "# for i in range(300):\n",
    "#     batch_labels, batch_strs, batch_tokens = batch_converter([(i, train_dataset[i][\"seq\"])])\n",
    "#     targets = torch.tensor(train_dataset[i]['dist'] < contact_threshold)\n",
    "\n",
    "#     # Append the batch tokens and target dist to the respective lists\n",
    "#     batch_tokens_list.append(batch_tokens)\n",
    "#     contact_list.append(targets)\n",
    "\n",
    "# # Create the dataframe from the lists\n",
    "# dataset = pd.DataFrame({'inputs': batch_tokens_list, 'targets': contact_list})"
   ]
  },
  {
   "cell_type": "code",
   "execution_count": 31,
   "id": "0c7d14da-081a-48c4-b343-e66480f2446b",
   "metadata": {
    "tags": []
   },
   "outputs": [],
   "source": [
    "# from torch.utils.data import TensorDataset, DataLoader\n",
    "\n",
    "# seqs_list = []\n",
    "# contact_list = []\n",
    "\n",
    "# contact_threshold = 15\n",
    "\n",
    "# for i in range(len(train_dataset)):\n",
    "#     seqs = train_dataset[i][\"seq\"]\n",
    "#     targets = torch.tensor(train_dataset[i]['dist'] < contact_threshold)\n",
    "\n",
    "#     seqs_list.append(seqs)\n",
    "#     contact_list.append(targets)\n",
    "\n",
    "# dataset = pd.DataFrame({'seqs': seqs_list, 'targets': contact_list})"
   ]
  },
  {
   "cell_type": "code",
   "execution_count": 32,
   "id": "a6e62149-ae1c-449f-9699-a9bd5caea9ea",
   "metadata": {
    "tags": []
   },
   "outputs": [
    {
     "data": {
      "text/html": [
       "<div>\n",
       "<style scoped>\n",
       "    .dataframe tbody tr th:only-of-type {\n",
       "        vertical-align: middle;\n",
       "    }\n",
       "\n",
       "    .dataframe tbody tr th {\n",
       "        vertical-align: top;\n",
       "    }\n",
       "\n",
       "    .dataframe thead th {\n",
       "        text-align: right;\n",
       "    }\n",
       "</style>\n",
       "<table border=\"1\" class=\"dataframe\">\n",
       "  <thead>\n",
       "    <tr style=\"text-align: right;\">\n",
       "      <th></th>\n",
       "      <th>seqs</th>\n",
       "      <th>targets</th>\n",
       "    </tr>\n",
       "  </thead>\n",
       "  <tbody>\n",
       "    <tr>\n",
       "      <th>0</th>\n",
       "      <td>MKTVRQERLKSIVRILERSKEPVSGAQLAEELSVSRQVIVQDIAYL...</td>\n",
       "      <td>[[tensor(True), tensor(True), tensor(True), te...</td>\n",
       "    </tr>\n",
       "    <tr>\n",
       "      <th>1</th>\n",
       "      <td>KALTARQQEVFDLIRDHISQTGMPPTRAEIAQRLGFRSPNAAEEHL...</td>\n",
       "      <td>[[tensor(True), tensor(True), tensor(True), te...</td>\n",
       "    </tr>\n",
       "    <tr>\n",
       "      <th>2</th>\n",
       "      <td>GQRHIKIREIIMSNDIETQDELVDRLREAGFNVTQATVSRDIKEMQ...</td>\n",
       "      <td>[[tensor(True), tensor(True), tensor(True), te...</td>\n",
       "    </tr>\n",
       "    <tr>\n",
       "      <th>3</th>\n",
       "      <td>MNKGQRHIKIREIITSNEIETQDELVDMLKQDGYKVTQATVSRDIK...</td>\n",
       "      <td>[[tensor(False), tensor(False), tensor(False),...</td>\n",
       "    </tr>\n",
       "    <tr>\n",
       "      <th>4</th>\n",
       "      <td>RHIKIREIIANNDVETQDELVEQLKAAGYNVTQATVSRDIKELHLV...</td>\n",
       "      <td>[[tensor(True), tensor(True), tensor(True), te...</td>\n",
       "    </tr>\n",
       "  </tbody>\n",
       "</table>\n",
       "</div>"
      ],
      "text/plain": [
       "                                                seqs  \\\n",
       "0  MKTVRQERLKSIVRILERSKEPVSGAQLAEELSVSRQVIVQDIAYL...   \n",
       "1  KALTARQQEVFDLIRDHISQTGMPPTRAEIAQRLGFRSPNAAEEHL...   \n",
       "2  GQRHIKIREIIMSNDIETQDELVDRLREAGFNVTQATVSRDIKEMQ...   \n",
       "3  MNKGQRHIKIREIITSNEIETQDELVDMLKQDGYKVTQATVSRDIK...   \n",
       "4  RHIKIREIIANNDVETQDELVEQLKAAGYNVTQATVSRDIKELHLV...   \n",
       "\n",
       "                                             targets  \n",
       "0  [[tensor(True), tensor(True), tensor(True), te...  \n",
       "1  [[tensor(True), tensor(True), tensor(True), te...  \n",
       "2  [[tensor(True), tensor(True), tensor(True), te...  \n",
       "3  [[tensor(False), tensor(False), tensor(False),...  \n",
       "4  [[tensor(True), tensor(True), tensor(True), te...  "
      ]
     },
     "execution_count": 32,
     "metadata": {},
     "output_type": "execute_result"
    }
   ],
   "source": [
    "# dataset.head()"
   ]
  },
  {
   "cell_type": "code",
   "execution_count": null,
   "id": "d5a0e839-df19-4e50-9d84-eafe58a95c33",
   "metadata": {
    "tags": []
   },
   "outputs": [],
   "source": [
    "# batch_size = 8\n",
    "\n",
    "# dataloader = DataLoader(dataset, batch_size=batch_size, shuffle=True)\n",
    "\n",
    "# learning_rate = 0.001\n",
    "\n",
    "# optimizer = optim.AdamW(filter(lambda p: p.requires_grad, model.parameters()), lr=learning_rate)\n",
    "\n",
    "# loss_fn = nn.SmoothL1Loss()\n",
    "\n",
    "# num_epochs = 10\n",
    "\n",
    "# for epoch in range(num_epochs):\n",
    "#     model.train()\n",
    "#     total_loss = 0\n",
    "#     batch_num = 0\n",
    "\n",
    "#     for batch in dataloader:\n",
    "#         batch_labels, batch_strs, batch_tokens = batch_converter(batch['seqs'])\n",
    "#         inputs = batch_tokens\n",
    "#         optimizer.zero_grad()\n",
    "#         outputs = model(inputs, return_contacts=True)\n",
    "#         loss = loss_fn(outputs['contacts'], batch['targets'])\n",
    "#         loss.backward()\n",
    "#         optimizer.step()\n",
    "#         total_loss += loss.item()\n",
    "#         batch_num += 1\n",
    "\n",
    "#     average_loss = total_loss / batch_num\n",
    "#     print(f\"Epoch {epoch+1}/{num_epochs}, Average Loss: {average_loss:.4f}\")\n",
    "\n",
    "# Keep on getting key errors with pandas"
   ]
  },
  {
   "cell_type": "code",
   "execution_count": null,
   "id": "8f35ba66-2e29-417f-9e18-6eed23e5284d",
   "metadata": {},
   "outputs": [],
   "source": []
  },
  {
   "cell_type": "code",
   "execution_count": null,
   "id": "e6c5c401-4280-4ff4-896a-0b6d8f760597",
   "metadata": {},
   "outputs": [],
   "source": []
  },
  {
   "cell_type": "markdown",
   "id": "45bc94f7-d725-4293-b6f3-0466f9696cec",
   "metadata": {},
   "source": [
    "# Testing arena"
   ]
  },
  {
   "cell_type": "code",
   "execution_count": 25,
   "id": "22acb9c2-cc6b-4535-87bd-e6afdf9bb1bf",
   "metadata": {
    "tags": []
   },
   "outputs": [
    {
     "name": "stdout",
     "output_type": "stream",
     "text": [
      "Epoch 1/50, Average Loss: 2.2652\n",
      "Epoch 2/50, Average Loss: 2.0756\n",
      "Epoch 3/50, Average Loss: 2.0049\n",
      "Epoch 4/50, Average Loss: 1.9411\n",
      "Epoch 5/50, Average Loss: 1.9085\n",
      "Epoch 6/50, Average Loss: 1.8877\n",
      "Epoch 7/50, Average Loss: 1.8798\n",
      "Epoch 8/50, Average Loss: 1.8697\n",
      "Epoch 9/50, Average Loss: 1.8658\n",
      "Epoch 10/50, Average Loss: 1.8603\n",
      "Epoch 11/50, Average Loss: 1.8579\n",
      "Epoch 12/50, Average Loss: 1.8540\n",
      "Epoch 13/50, Average Loss: 1.8527\n",
      "Epoch 14/50, Average Loss: 1.8491\n",
      "Epoch 15/50, Average Loss: 1.8480\n",
      "Epoch 16/50, Average Loss: 1.8445\n",
      "Epoch 17/50, Average Loss: 1.8437\n",
      "Epoch 18/50, Average Loss: 1.8415\n",
      "Epoch 19/50, Average Loss: 1.8395\n",
      "Epoch 20/50, Average Loss: 1.8323\n",
      "Epoch 21/50, Average Loss: 1.8280\n",
      "Epoch 22/50, Average Loss: 1.8243\n",
      "Epoch 23/50, Average Loss: 1.8177\n",
      "Epoch 24/50, Average Loss: 1.8136\n",
      "Epoch 25/50, Average Loss: 1.8085\n",
      "Epoch 26/50, Average Loss: 1.8049\n",
      "Epoch 27/50, Average Loss: 1.7969\n",
      "Epoch 28/50, Average Loss: 1.7937\n",
      "Epoch 29/50, Average Loss: 1.7863\n",
      "Epoch 30/50, Average Loss: 1.7832\n",
      "Epoch 31/50, Average Loss: 1.7765\n",
      "Epoch 32/50, Average Loss: 1.7729\n",
      "Epoch 33/50, Average Loss: 1.7666\n",
      "Epoch 34/50, Average Loss: 1.7629\n",
      "Epoch 35/50, Average Loss: 1.7568\n",
      "Epoch 36/50, Average Loss: 1.7542\n",
      "Epoch 37/50, Average Loss: 1.7488\n",
      "Epoch 38/50, Average Loss: 1.7431\n",
      "Epoch 39/50, Average Loss: 1.7404\n",
      "Epoch 40/50, Average Loss: 1.7326\n",
      "Epoch 41/50, Average Loss: 1.7313\n",
      "Epoch 42/50, Average Loss: 1.7260\n",
      "Epoch 43/50, Average Loss: 1.7204\n",
      "Epoch 44/50, Average Loss: 1.7154\n",
      "Epoch 45/50, Average Loss: 1.7124\n",
      "Epoch 46/50, Average Loss: 1.7083\n",
      "Epoch 47/50, Average Loss: 1.7052\n",
      "Epoch 48/50, Average Loss: 1.7011\n",
      "Epoch 49/50, Average Loss: 1.6963\n",
      "Epoch 50/50, Average Loss: 1.6926\n"
     ]
    }
   ],
   "source": [
    "# for param in model.parameters():\n",
    "#     param.requires_grad = False\n",
    "\n",
    "# model.final_layer = nn.Sequential(\n",
    "#     nn.Linear(in_features=320, out_features=1),\n",
    "#     nn.Sigmoid()\n",
    "# )\n",
    "\n",
    "# for param in model.final_layer.parameters():\n",
    "#     param.requires_grad = True\n",
    "\n",
    "learning_rate = 0.001\n",
    "               \n",
    "#optimizer = optim.Adam([{'params': model.final_layer.parameters(), 'lr': learning_rate}], lr=learning_rate)\n",
    "\n",
    "optimizer = optim.AdamW(filter(lambda p: p.requires_grad, model.parameters()), lr=learning_rate)\n",
    "#optimizer = optim.Adam(model.final_layer.parameters(), lr=learning_rate)\n",
    "\n",
    "#loss_fn = nn.BCELoss()\n",
    "#loss_fn = nn.HuberLoss()\n",
    "loss_fn = nn.SmoothL1Loss()\n",
    "#loss_fn = nn.MSELoss()\n",
    "#loss_fn = nn.MSLE()\n",
    "\n",
    "contact_threshold = 15\n",
    "\n",
    "num_epochs = 25\n",
    "\n",
    "for epoch in range(num_epochs):\n",
    "    model.train()       \n",
    "    total_loss = 0\n",
    "    batch_num = 0\n",
    "    \n",
    "    for b in DataLoader(range(50), batch_size=1, shuffle=True):\n",
    "        batch_labels, batch_strs, batch_tokens = batch_converter([(i, train_dataset[i][\"seq\"]) for i in b])\n",
    "        inputs = batch_tokens\n",
    "        targets = [train_dataset[i]['dist'] < contact_threshold for i in b]\n",
    "        optimizer.zero_grad()\n",
    "        outputs = model(inputs, return_contacts=True)\n",
    "        loss = loss_fn(outputs['contacts'], torch.tensor(targets, dtype=torch.float32))\n",
    "        total_loss += loss.item()\n",
    "        loss.backward()\n",
    "        optimizer.step()\n",
    "        batch_num += 1\n",
    "    \n",
    "    average_loss = total_loss / batch_num\n",
    "    print(f\"Epoch {epoch+1}/{num_epochs}, Average Loss: {average_loss:.4f}\")"
   ]
  },
  {
   "cell_type": "code",
   "execution_count": null,
   "id": "be1049ea-ade2-4388-9106-0c9446fb5842",
   "metadata": {
    "tags": []
   },
   "outputs": [],
   "source": [
    "print(model.contact_head.regression.weight)\n",
    "print(model.contact_head.regression.bias)\n",
    "print(model.emb_layer_norm_after.weight)\n",
    "print(model.emb_layer_norm_after.bias)\n",
    "print(model.lm_head.weight)\n",
    "print(model.lm_head.bias)"
   ]
  },
  {
   "cell_type": "code",
   "execution_count": 26,
   "id": "73f6d6ac-5b2e-477f-91f4-0e8b63c67529",
   "metadata": {
    "tags": []
   },
   "outputs": [
    {
     "data": {
      "image/png": "[encoded data removed]",
      "text/plain": [
       "<Figure size 800x300 with 4 Axes>"
      ]
     },
     "metadata": {},
     "output_type": "display_data"
    }
   ],
   "source": [
    "batch_labels, batch_strs, batch_tokens = batch_converter([(rand_example, rand_target[\"seq\"])])\n",
    "rand_target_c = rand_target['dist'] < contact_threshold\n",
    "\n",
    "outputs = model(batch_tokens, return_contacts=True)\n",
    "\n",
    "N = len(batch_strs[0])\n",
    "#N = (batch_tokens != alphabet.padding_idx).sum(1)\n",
    "fig, ax = plt.subplots(1, 2, figsize=(8, 3))\n",
    "im = ax[0].imshow(outputs['contacts'][0].detach().numpy() > 0.5)\n",
    "fig.colorbar(im)\n",
    "ax[0].set_title(\"Predicted\")\n",
    "im = ax[1].imshow(rand_target_c)#rand_target['dist'] < contact_threshold)\n",
    "fig.colorbar(im)\n",
    "ax[1].set_title(\"Real\")\n",
    "plt.show()"
   ]
  },
  {
   "cell_type": "code",
   "execution_count": null,
   "id": "1aa21c5f-c22c-4bd2-98f2-e754e331568b",
   "metadata": {},
   "outputs": [],
   "source": []
  },
  {
   "cell_type": "code",
   "execution_count": null,
   "id": "07526542-fbe8-4cb4-bb83-73ca3726304e",
   "metadata": {},
   "outputs": [],
   "source": []
  },
  {
   "cell_type": "code",
   "execution_count": null,
   "id": "0fbdbb5c-70e3-4929-bd76-73639b6987d1",
   "metadata": {},
   "outputs": [],
   "source": []
  },
  {
   "cell_type": "code",
   "execution_count": null,
   "id": "6185cfad-8fcd-4ac3-8867-900d4c761c69",
   "metadata": {},
   "outputs": [],
   "source": []
  },
  {
   "cell_type": "code",
   "execution_count": null,
   "id": "1989239c-39fa-4faf-8bf8-191b4f918b64",
   "metadata": {},
   "outputs": [],
   "source": []
  },
  {
   "cell_type": "code",
   "execution_count": null,
   "id": "be75e62f-6cc0-4f20-89bd-76e5e6ca067d",
   "metadata": {},
   "outputs": [],
   "source": []
  },
  {
   "cell_type": "code",
   "execution_count": null,
   "id": "27af7749-5bea-4b5c-a961-bb03997ee038",
   "metadata": {},
   "outputs": [],
   "source": []
  },
  {
   "cell_type": "code",
   "execution_count": null,
   "id": "745c7aff-f756-45bd-903d-6ba9c5495a56",
   "metadata": {},
   "outputs": [],
   "source": []
  },
  {
   "cell_type": "code",
   "execution_count": null,
   "id": "2940c14e-c6fd-442d-ab4b-15299b133e4f",
   "metadata": {},
   "outputs": [],
   "source": []
  },
  {
   "cell_type": "code",
   "execution_count": null,
   "id": "a9788486-d454-4297-baaf-71fe20cede17",
   "metadata": {},
   "outputs": [],
   "source": []
  },
  {
   "cell_type": "code",
   "execution_count": null,
   "id": "2e2096dc-01b2-476f-8b9e-46ffe799fcba",
   "metadata": {},
   "outputs": [],
   "source": []
  },
  {
   "cell_type": "code",
   "execution_count": null,
   "id": "a78178c3-1d6d-470f-8ebb-a1d77b657256",
   "metadata": {},
   "outputs": [],
   "source": []
  },
  {
   "cell_type": "code",
   "execution_count": null,
   "id": "a3b47531-2ffa-4d59-8e52-3215af577018",
   "metadata": {},
   "outputs": [],
   "source": []
  },
  {
   "cell_type": "code",
   "execution_count": null,
   "id": "8fb90414-0803-4103-b144-791b76ad0015",
   "metadata": {},
   "outputs": [],
   "source": []
  },
  {
   "cell_type": "code",
   "execution_count": null,
   "id": "30ae14fe-80b9-4779-b27d-78d96b0c5ca5",
   "metadata": {},
   "outputs": [],
   "source": []
  },
  {
   "cell_type": "code",
   "execution_count": null,
   "id": "38d1bfe4-38f2-4534-9d25-6994ae0e2b9b",
   "metadata": {},
   "outputs": [],
   "source": []
  },
  {
   "cell_type": "code",
   "execution_count": null,
   "id": "5b502dbd-58a4-4304-bd74-c363678c17dc",
   "metadata": {},
   "outputs": [],
   "source": []
  },
  {
   "cell_type": "code",
   "execution_count": null,
   "id": "a463870f-e453-443a-9764-c83390166029",
   "metadata": {},
   "outputs": [],
   "source": []
  },
  {
   "cell_type": "code",
   "execution_count": 17,
   "id": "002fe1d9-d145-4537-8de2-21362b38f980",
   "metadata": {
    "tags": []
   },
   "outputs": [
    {
     "name": "stdout",
     "output_type": "stream",
     "text": [
      "Epoch 1/10, Average Loss: 6.1310\n",
      "Epoch 2/10, Average Loss: 5.8396\n",
      "Epoch 3/10, Average Loss: 5.6010\n",
      "Epoch 4/10, Average Loss: 5.4103\n",
      "Epoch 5/10, Average Loss: 5.2562\n",
      "Epoch 6/10, Average Loss: 5.1326\n",
      "Epoch 7/10, Average Loss: 5.0320\n",
      "Epoch 8/10, Average Loss: 4.9518\n",
      "Epoch 9/10, Average Loss: 4.8842\n",
      "Epoch 10/10, Average Loss: 4.8299\n"
     ]
    }
   ],
   "source": [
    "# # train_dataloader = DataLoader(batch_tokens, batch_size=16, shuffle=True)\n",
    "# train_dataloader = DataLoader(batch_labels[:6], batch_size=2, shuffle=True)\n",
    "\n",
    "# learning_rate = 0.001\n",
    "               \n",
    "# # Maybe try \"AdamW\" with weight decay\n",
    "# optimizer = optim.Adam(filter(lambda p: p.requires_grad, model.parameters()), lr=learning_rate)\n",
    "               \n",
    "# # Set objective function. Huber less sensitive to outliers than MSEloss, maybe try MSE or MAE as well?        \n",
    "# loss_fn = nn.SmoothL1Loss()\n",
    "\n",
    "# contact_threshold = 15\n",
    "\n",
    "# # Training loop\n",
    "# num_epochs = 10\n",
    "               \n",
    "# for epoch in range(num_epochs):\n",
    "#     model.train()\n",
    "               \n",
    "#     # Initialise loss for each epoch   \n",
    "#     total_loss = 0\n",
    "    \n",
    "# #     for b in DataLoader(range(len(train_dataset)), batch_size=1, shuffle=True):\n",
    "#     for b in DataLoader(range(50), batch_size=1, shuffle=True):\n",
    "#         batch_labels, batch_strs, batch_tokens = batch_converter([(i, train_dataset[i][\"seq\"]) for i in b])\n",
    "#         # Sequence inputs - IndexError: too many indices for tensor of dimension 2\n",
    "#         inputs = batch_tokens\n",
    "#         # contacts\n",
    "#         targets = [train_dataset[i]['dist'] < contact_threshold for i in b]\n",
    "#         # Clear gradients for each epoch\n",
    "#         optimizer.zero_grad()\n",
    "#         # Output predictions for batch \n",
    "#         outputs = model(inputs, return_contacts=True)\n",
    "#         # Calculates Huber loss between predictions and true values\n",
    "#         loss = loss_fn(outputs['contacts'], torch.tensor(targets, dtype=torch.float32))\n",
    "#         # Pool loss values from each batch\n",
    "#         total_loss += loss.item()\n",
    "#         # Backpropagation\n",
    "#         loss.backward()\n",
    "#         # Updates last layer parameters to reduce loss\n",
    "#         optimizer.step()\n",
    "    \n",
    "#     # Print loss per batch for the epoch \n",
    "#     average_loss = total_loss / len(train_dataloader)\n",
    "#     print(f\"Epoch {epoch+1}/{num_epochs}, Average Loss: {average_loss:.4f}\")"
   ]
  },
  {
   "cell_type": "code",
   "execution_count": 19,
   "id": "5ba77c2f-d9f2-4397-866d-cd0e86a46e7c",
   "metadata": {
    "tags": []
   },
   "outputs": [
    {
     "data": {
      "image/png": "[encoded data removed]",
      "text/plain": [
       "<Figure size 800x300 with 4 Axes>"
      ]
     },
     "metadata": {},
     "output_type": "display_data"
    }
   ],
   "source": [
    "# batch_labels, batch_strs, batch_tokens = batch_converter([(rand_example, rand_target[\"seq\"])])\n",
    "# rand_target_c = rand_target['dist'] < contact_threshold\n",
    "\n",
    "# outputs = model(batch_tokens, return_contacts=True)\n",
    "\n",
    "# N = len(batch_strs[0])\n",
    "# fig, ax = plt.subplots(1, 2, figsize=(8, 3))\n",
    "# im = ax[0].imshow(outputs['contacts'][0].detach().numpy() > 0.5)\n",
    "# fig.colorbar(im)\n",
    "# ax[0].set_title(\"Predicted\")\n",
    "# im = ax[1].imshow(rand_target['dist'] < contact_threshold)\n",
    "# fig.colorbar(im)\n",
    "# ax[1].set_title(\"Real\")\n",
    "# plt.show()"
   ]
  },
  {
   "cell_type": "code",
   "execution_count": null,
   "id": "2025d7b7-9a7a-4cdc-8aa5-61420e2830d5",
   "metadata": {},
   "outputs": [],
   "source": []
  },
  {
   "cell_type": "code",
   "execution_count": null,
   "id": "10320249-6839-427f-aa54-db17da7d2a74",
   "metadata": {},
   "outputs": [],
   "source": []
  },
  {
   "cell_type": "code",
   "execution_count": null,
   "id": "673b0d6d-cc85-492c-924b-52ea7066b048",
   "metadata": {},
   "outputs": [],
   "source": []
  },
  {
   "cell_type": "code",
   "execution_count": 10,
   "id": "3dbc6fa0-3185-44a7-bac4-a158997c8546",
   "metadata": {
    "tags": []
   },
   "outputs": [
    {
     "name": "stderr",
     "output_type": "stream",
     "text": [
      "C:\\Users\\neil_\\AppData\\Local\\Temp\\ipykernel_26520\\4205689614.py:25: UserWarning: Creating a tensor from a list of numpy.ndarrays is extremely slow. Please consider converting the list to a single numpy.ndarray with numpy.array() before converting to a tensor. (Triggered internally at C:\\cb\\pytorch_1000000000000\\work\\torch\\csrc\\utils\\tensor_new.cpp:248.)\n",
      "  loss = loss_fn(outputs['contacts'], torch.tensor(targets, dtype=torch.float32))\n"
     ]
    },
    {
     "name": "stdout",
     "output_type": "stream",
     "text": [
      "Epoch 1/20, Average Loss: 0.1107\n",
      "Epoch 2/20, Average Loss: 0.0929\n",
      "Epoch 3/20, Average Loss: 0.0859\n",
      "Epoch 4/20, Average Loss: 0.0828\n",
      "Epoch 5/20, Average Loss: 0.0813\n",
      "Epoch 6/20, Average Loss: 0.0805\n",
      "Epoch 7/20, Average Loss: 0.0800\n",
      "Epoch 8/20, Average Loss: 0.0797\n",
      "Epoch 9/20, Average Loss: 0.0795\n",
      "Epoch 10/20, Average Loss: 0.0793\n",
      "Epoch 11/20, Average Loss: 0.0791\n",
      "Epoch 12/20, Average Loss: 0.0789\n",
      "Epoch 13/20, Average Loss: 0.0788\n",
      "Epoch 14/20, Average Loss: 0.0786\n",
      "Epoch 15/20, Average Loss: 0.0785\n",
      "Epoch 16/20, Average Loss: 0.0784\n",
      "Epoch 17/20, Average Loss: 0.0782\n",
      "Epoch 18/20, Average Loss: 0.0781\n",
      "Epoch 19/20, Average Loss: 0.0780\n",
      "Epoch 20/20, Average Loss: 0.0779\n"
     ]
    }
   ],
   "source": [
    "# #train_dataloader = DataLoader(batch_labels[:6], batch_size=2, shuffle=True)\n",
    "\n",
    "# learning_rate = 0.001\n",
    "               \n",
    "# optimizer = optim.Adam(filter(lambda p: p.requires_grad, model.parameters()), lr=learning_rate)\n",
    "                     \n",
    "# loss_fn = nn.SmoothL1Loss()\n",
    "\n",
    "# contact_threshold = 15\n",
    "\n",
    "# num_epochs = 10\n",
    "      \n",
    "# num_iterations = 0     \n",
    "    \n",
    "# for epoch in range(num_epochs):\n",
    "#     model.train()       \n",
    "#     total_loss = 0\n",
    "    \n",
    "#     # Train last layer regression on 100 6015 sequences\n",
    "#     for b in DataLoader(range(350), batch_size=8, shuffle=True):\n",
    "#         batch_labels, batch_strs, batch_tokens = batch_converter([(i, train_dataset[i][\"seq\"]) for i in b])\n",
    "#         inputs = batch_tokens\n",
    "#         targets = [train_dataset[i]['dist'] < contact_threshold for i in b]\n",
    "#         optimizer.zero_grad()\n",
    "#         outputs = model(inputs, return_contacts=True)\n",
    "#         loss = loss_fn(outputs['contacts'], torch.tensor(targets, dtype=torch.float32))\n",
    "#         total_loss += loss.item()\n",
    "#         loss.backward()\n",
    "#         optimizer.step()\n",
    "#         num_iterations += 1\n",
    "    \n",
    "#     average_loss = total_loss / num_iterations\n",
    "#     print(f\"Epoch {epoch+1}/{num_epochs}, Average Loss: {average_loss:.4f}\")"
   ]
  },
  {
   "cell_type": "code",
   "execution_count": 11,
   "id": "c802d387-f55b-483e-bf3c-4e5bb851b41f",
   "metadata": {
    "tags": []
   },
   "outputs": [
    {
     "data": {
      "image/png": "[encoded data removed]",
      "text/plain": [
       "<Figure size 800x300 with 4 Axes>"
      ]
     },
     "metadata": {},
     "output_type": "display_data"
    }
   ],
   "source": [
    "# batch_labels, batch_strs, batch_tokens = batch_converter([(rand_example, rand_target[\"seq\"])])\n",
    "# rand_target_c = rand_target['dist'] < contact_threshold\n",
    "\n",
    "# outputs = model(batch_tokens, return_contacts=True)\n",
    "\n",
    "# N = len(batch_strs[0])\n",
    "# fig, ax = plt.subplots(1, 2, figsize=(8, 3))\n",
    "# im = ax[0].imshow(outputs['contacts'][0].detach().numpy() > 0.5)\n",
    "# fig.colorbar(im)\n",
    "# ax[0].set_title(\"Predicted\")\n",
    "# im = ax[1].imshow(rand_target['dist'] < contact_threshold)\n",
    "# fig.colorbar(im)\n",
    "# ax[1].set_title(\"Real\")\n",
    "# plt.show()"
   ]
  },
  {
   "cell_type": "code",
   "execution_count": null,
   "id": "89c37b2c-14ad-43fc-8ed8-a0862318fefa",
   "metadata": {},
   "outputs": [],
   "source": []
  },
  {
   "cell_type": "code",
   "execution_count": null,
   "id": "2c57dc20-3102-44a1-b4f9-ac13e5b0f2d6",
   "metadata": {},
   "outputs": [],
   "source": []
  },
  {
   "cell_type": "code",
   "execution_count": null,
   "id": "73549445-133c-45d2-934a-92d6e8562a27",
   "metadata": {},
   "outputs": [],
   "source": []
  },
  {
   "cell_type": "code",
   "execution_count": 15,
   "id": "5a4d05b5-3880-4915-9a3d-137290f43bde",
   "metadata": {
    "tags": []
   },
   "outputs": [
    {
     "name": "stdout",
     "output_type": "stream",
     "text": [
      "Epoch 1/10, Average Loss: 0.1098\n",
      "Epoch 2/10, Average Loss: 0.0453\n",
      "Epoch 3/10, Average Loss: 0.0280\n",
      "Epoch 4/10, Average Loss: 0.0203\n",
      "Epoch 5/10, Average Loss: 0.0160\n",
      "Epoch 6/10, Average Loss: 0.0132\n",
      "Epoch 7/10, Average Loss: 0.0113\n",
      "Epoch 8/10, Average Loss: 0.0099\n",
      "Epoch 9/10, Average Loss: 0.0087\n",
      "Epoch 10/10, Average Loss: 0.0078\n"
     ]
    }
   ],
   "source": [
    "#train_dataloader = DataLoader(batch_labels[:6], batch_size=2, shuffle=True)\n",
    "\n",
    "learning_rate = 0.001\n",
    "               \n",
    "optimizer = optim.Adam(filter(lambda p: p.requires_grad, model.parameters()), lr=learning_rate)\n",
    "                     \n",
    "loss_fn = nn.SmoothL1Loss()\n",
    "\n",
    "contact_threshold = 15\n",
    "\n",
    "num_epochs = 10\n",
    "      \n",
    "num_iterations = 0     \n",
    "    \n",
    "for epoch in range(num_epochs):\n",
    "    model.train()       \n",
    "    total_loss = 0\n",
    "    \n",
    "    # Train last layer regression on 100 6015 sequences\n",
    "    for b in DataLoader(range(350), batch_size=1, shuffle=True):\n",
    "        batch_labels, batch_strs, batch_tokens = batch_converter([(i, train_dataset[i][\"seq\"]) for i in b])\n",
    "        inputs = batch_tokens\n",
    "        targets = [train_dataset[i]['dist'] < contact_threshold for i in b]\n",
    "        optimizer.zero_grad()\n",
    "        outputs = model(inputs, return_contacts=True)\n",
    "        loss = loss_fn(outputs['contacts'], torch.tensor(targets, dtype=torch.float32))\n",
    "        total_loss += loss.item()\n",
    "        loss.backward()\n",
    "        optimizer.step()\n",
    "        num_iterations += 1\n",
    "    \n",
    "    average_loss = total_loss / num_iterations\n",
    "    print(f\"Epoch {epoch+1}/{num_epochs}, Average Loss: {average_loss:.4f}\")"
   ]
  },
  {
   "cell_type": "code",
   "execution_count": 16,
   "id": "970c58b5-d475-488f-a519-9820e0722691",
   "metadata": {
    "tags": []
   },
   "outputs": [
    {
     "data": {
      "image/png": "[encoded data removed]",
      "text/plain": [
       "<Figure size 800x300 with 4 Axes>"
      ]
     },
     "metadata": {},
     "output_type": "display_data"
    }
   ],
   "source": [
    "batch_labels, batch_strs, batch_tokens = batch_converter([(rand_example, rand_target[\"seq\"])])\n",
    "rand_target_c = rand_target['dist'] < contact_threshold\n",
    "\n",
    "outputs = model(batch_tokens, return_contacts=True)\n",
    "\n",
    "N = len(batch_strs[0])\n",
    "fig, ax = plt.subplots(1, 2, figsize=(8, 3))\n",
    "im = ax[0].imshow(outputs['contacts'][0].detach().numpy() > 0.5)\n",
    "fig.colorbar(im)\n",
    "ax[0].set_title(\"Predicted\")\n",
    "im = ax[1].imshow(rand_target['dist'] < contact_threshold)\n",
    "fig.colorbar(im)\n",
    "ax[1].set_title(\"Real\")\n",
    "plt.show()"
   ]
  },
  {
   "cell_type": "code",
   "execution_count": null,
   "id": "c539a702-216d-48be-b582-63dd27c59d0c",
   "metadata": {},
   "outputs": [],
   "source": []
  },
  {
   "cell_type": "code",
   "execution_count": null,
   "id": "dca09799-1001-44f9-9c2c-01701944b3af",
   "metadata": {},
   "outputs": [],
   "source": []
  },
  {
   "cell_type": "code",
   "execution_count": null,
   "id": "b7048d99-af1c-4d7c-9235-30718b9b9876",
   "metadata": {},
   "outputs": [],
   "source": []
  },
  {
   "cell_type": "code",
   "execution_count": 18,
   "id": "c0e6b5bd-8cd8-47c5-aeeb-985d9fcb20e1",
   "metadata": {
    "tags": []
   },
   "outputs": [
    {
     "name": "stdout",
     "output_type": "stream",
     "text": [
      "Epoch 1/10, Average Loss: 0.1565\n",
      "Epoch 2/10, Average Loss: 0.0781\n",
      "Epoch 3/10, Average Loss: 0.0519\n",
      "Epoch 4/10, Average Loss: 0.0389\n",
      "Epoch 5/10, Average Loss: 0.0310\n",
      "Epoch 6/10, Average Loss: 0.0258\n",
      "Epoch 7/10, Average Loss: 0.0221\n",
      "Epoch 8/10, Average Loss: 0.0193\n",
      "Epoch 9/10, Average Loss: 0.0171\n",
      "Epoch 10/10, Average Loss: 0.0154\n"
     ]
    }
   ],
   "source": [
    "#train_dataloader = DataLoader(batch_labels[:6], batch_size=2, shuffle=True)\n",
    "\n",
    "learning_rate = 0.001\n",
    "               \n",
    "optimizer = optim.Adam(filter(lambda p: p.requires_grad, model.parameters()), lr=learning_rate)\n",
    "                     \n",
    "loss_fn = nn.MSELoss()\n",
    "\n",
    "contact_threshold = 15\n",
    "\n",
    "num_epochs = 10\n",
    "      \n",
    "num_iterations = 0     \n",
    "    \n",
    "for epoch in range(num_epochs):\n",
    "    model.train()       \n",
    "    total_loss = 0\n",
    "    \n",
    "    # Train last layer regression on 100 6015 sequences\n",
    "    for b in DataLoader(range(350), batch_size=1, shuffle=True):\n",
    "        batch_labels, batch_strs, batch_tokens = batch_converter([(i, train_dataset[i][\"seq\"]) for i in b])\n",
    "        inputs = batch_tokens\n",
    "        targets = [train_dataset[i]['dist'] < contact_threshold for i in b]\n",
    "        optimizer.zero_grad()\n",
    "        outputs = model(inputs, repr_layers=[33], return_contacts=True)\n",
    "        loss = loss_fn(outputs['contacts'], torch.tensor(targets, dtype=torch.float32))\n",
    "        total_loss += loss.item()\n",
    "        loss.backward()\n",
    "        optimizer.step()\n",
    "        num_iterations += 1\n",
    "    \n",
    "    average_loss = total_loss / num_iterations\n",
    "    print(f\"Epoch {epoch+1}/{num_epochs}, Average Loss: {average_loss:.4f}\")"
   ]
  },
  {
   "cell_type": "code",
   "execution_count": 19,
   "id": "439b2d05-573e-406c-98fe-68f623932319",
   "metadata": {
    "tags": []
   },
   "outputs": [
    {
     "data": {
      "image/png": "[encoded data removed]",
      "text/plain": [
       "<Figure size 800x300 with 4 Axes>"
      ]
     },
     "metadata": {},
     "output_type": "display_data"
    }
   ],
   "source": [
    "batch_labels, batch_strs, batch_tokens = batch_converter([(rand_example, rand_target[\"seq\"])])\n",
    "rand_target_c = rand_target['dist'] < contact_threshold\n",
    "\n",
    "outputs = model(batch_tokens, repr_layers=[33], return_contacts=True)\n",
    "\n",
    "N = len(batch_strs[0])\n",
    "fig, ax = plt.subplots(1, 2, figsize=(8, 3))\n",
    "im = ax[0].imshow(outputs['contacts'][0].detach().numpy() > 0.5)\n",
    "fig.colorbar(im)\n",
    "ax[0].set_title(\"Predicted\")\n",
    "im = ax[1].imshow(rand_target['dist'] < contact_threshold)\n",
    "fig.colorbar(im)\n",
    "ax[1].set_title(\"Real\")\n",
    "plt.show()"
   ]
  },
  {
   "cell_type": "code",
   "execution_count": null,
   "id": "20c30aaa-4d66-4afc-a256-252b6f0ecbe8",
   "metadata": {},
   "outputs": [],
   "source": []
  },
  {
   "cell_type": "code",
   "execution_count": 20,
   "id": "4dbfe6c3-de2c-48d4-a707-7bdeaa4f368a",
   "metadata": {
    "tags": []
   },
   "outputs": [
    {
     "name": "stdout",
     "output_type": "stream",
     "text": [
      "Epoch 1/10, Average Loss: 0.1538\n",
      "Epoch 2/10, Average Loss: 0.0768\n",
      "Epoch 3/10, Average Loss: 0.0511\n",
      "Epoch 4/10, Average Loss: 0.0383\n",
      "Epoch 5/10, Average Loss: 0.0306\n",
      "Epoch 6/10, Average Loss: 0.0255\n",
      "Epoch 7/10, Average Loss: 0.0218\n",
      "Epoch 8/10, Average Loss: 0.0191\n",
      "Epoch 9/10, Average Loss: 0.0169\n",
      "Epoch 10/10, Average Loss: 0.0152\n"
     ]
    }
   ],
   "source": [
    "learning_rate = 0.001\n",
    "               \n",
    "optimizer = optim.Adam(filter(lambda p: p.requires_grad, model.parameters()), lr=learning_rate)\n",
    "                     \n",
    "loss_fn = nn.MSELoss()\n",
    "\n",
    "contact_threshold = 15\n",
    "\n",
    "num_epochs = 10\n",
    "      \n",
    "num_iterations = 0     \n",
    "    \n",
    "for epoch in range(num_epochs):\n",
    "    model.train()       \n",
    "    total_loss = 0\n",
    "    \n",
    "    # Train last layer regression on 100 6015 sequences\n",
    "    for b in DataLoader(range(350), batch_size=1, shuffle=True):\n",
    "        batch_labels, batch_strs, batch_tokens = batch_converter([(i, train_dataset[i][\"seq\"]) for i in b])\n",
    "        inputs = batch_tokens\n",
    "        targets = [train_dataset[i]['dist'] < contact_threshold for i in b]\n",
    "        optimizer.zero_grad()\n",
    "        outputs = model(inputs, repr_layers=[33], return_contacts=True)\n",
    "        loss = loss_fn(outputs['contacts'], torch.tensor(targets, dtype=torch.float32))\n",
    "        total_loss += loss.item()\n",
    "        loss.backward()\n",
    "        optimizer.step()\n",
    "        num_iterations += 1\n",
    "    \n",
    "    average_loss = total_loss / num_iterations\n",
    "    print(f\"Epoch {epoch+1}/{num_epochs}, Average Loss: {average_loss:.4f}\")"
   ]
  },
  {
   "cell_type": "code",
   "execution_count": 21,
   "id": "8a195d81-3dc3-4c8e-8bf4-53039c27513c",
   "metadata": {
    "tags": []
   },
   "outputs": [
    {
     "data": {
      "image/png": "[encoded data removed]",
      "text/plain": [
       "<Figure size 800x300 with 4 Axes>"
      ]
     },
     "metadata": {},
     "output_type": "display_data"
    }
   ],
   "source": [
    "batch_labels, batch_strs, batch_tokens = batch_converter([(rand_example, rand_target[\"seq\"])])\n",
    "rand_target_c = rand_target['dist'] < contact_threshold\n",
    "\n",
    "outputs = model(batch_tokens, repr_layers=[33], return_contacts=True)\n",
    "\n",
    "N = len(batch_strs[0])\n",
    "fig, ax = plt.subplots(1, 2, figsize=(8, 3))\n",
    "im = ax[0].imshow(outputs['contacts'][0].detach().numpy() > 0.5)\n",
    "fig.colorbar(im)\n",
    "ax[0].set_title(\"Predicted\")\n",
    "im = ax[1].imshow(rand_target['dist'] < contact_threshold)\n",
    "fig.colorbar(im)\n",
    "ax[1].set_title(\"Real\")\n",
    "plt.show()"
   ]
  },
  {
   "cell_type": "code",
   "execution_count": 22,
   "id": "73b67893-3002-463a-a723-7b36466f29fe",
   "metadata": {
    "tags": []
   },
   "outputs": [
    {
     "name": "stdout",
     "output_type": "stream",
     "text": [
      "Parameter name: embed_tokens.weight, Size: torch.Size([33, 320])\n",
      "Parameter name: layers.0.self_attn.k_proj.weight, Size: torch.Size([320, 320])\n",
      "Parameter name: layers.0.self_attn.k_proj.bias, Size: torch.Size([320])\n",
      "Parameter name: layers.0.self_attn.v_proj.weight, Size: torch.Size([320, 320])\n",
      "Parameter name: layers.0.self_attn.v_proj.bias, Size: torch.Size([320])\n",
      "Parameter name: layers.0.self_attn.q_proj.weight, Size: torch.Size([320, 320])\n",
      "Parameter name: layers.0.self_attn.q_proj.bias, Size: torch.Size([320])\n",
      "Parameter name: layers.0.self_attn.out_proj.weight, Size: torch.Size([320, 320])\n",
      "Parameter name: layers.0.self_attn.out_proj.bias, Size: torch.Size([320])\n",
      "Parameter name: layers.0.self_attn_layer_norm.weight, Size: torch.Size([320])\n",
      "Parameter name: layers.0.self_attn_layer_norm.bias, Size: torch.Size([320])\n",
      "Parameter name: layers.0.fc1.weight, Size: torch.Size([1280, 320])\n",
      "Parameter name: layers.0.fc1.bias, Size: torch.Size([1280])\n",
      "Parameter name: layers.0.fc2.weight, Size: torch.Size([320, 1280])\n",
      "Parameter name: layers.0.fc2.bias, Size: torch.Size([320])\n",
      "Parameter name: layers.0.final_layer_norm.weight, Size: torch.Size([320])\n",
      "Parameter name: layers.0.final_layer_norm.bias, Size: torch.Size([320])\n",
      "Parameter name: layers.1.self_attn.k_proj.weight, Size: torch.Size([320, 320])\n",
      "Parameter name: layers.1.self_attn.k_proj.bias, Size: torch.Size([320])\n",
      "Parameter name: layers.1.self_attn.v_proj.weight, Size: torch.Size([320, 320])\n",
      "Parameter name: layers.1.self_attn.v_proj.bias, Size: torch.Size([320])\n",
      "Parameter name: layers.1.self_attn.q_proj.weight, Size: torch.Size([320, 320])\n",
      "Parameter name: layers.1.self_attn.q_proj.bias, Size: torch.Size([320])\n",
      "Parameter name: layers.1.self_attn.out_proj.weight, Size: torch.Size([320, 320])\n",
      "Parameter name: layers.1.self_attn.out_proj.bias, Size: torch.Size([320])\n",
      "Parameter name: layers.1.self_attn_layer_norm.weight, Size: torch.Size([320])\n",
      "Parameter name: layers.1.self_attn_layer_norm.bias, Size: torch.Size([320])\n",
      "Parameter name: layers.1.fc1.weight, Size: torch.Size([1280, 320])\n",
      "Parameter name: layers.1.fc1.bias, Size: torch.Size([1280])\n",
      "Parameter name: layers.1.fc2.weight, Size: torch.Size([320, 1280])\n",
      "Parameter name: layers.1.fc2.bias, Size: torch.Size([320])\n",
      "Parameter name: layers.1.final_layer_norm.weight, Size: torch.Size([320])\n",
      "Parameter name: layers.1.final_layer_norm.bias, Size: torch.Size([320])\n",
      "Parameter name: layers.2.self_attn.k_proj.weight, Size: torch.Size([320, 320])\n",
      "Parameter name: layers.2.self_attn.k_proj.bias, Size: torch.Size([320])\n",
      "Parameter name: layers.2.self_attn.v_proj.weight, Size: torch.Size([320, 320])\n",
      "Parameter name: layers.2.self_attn.v_proj.bias, Size: torch.Size([320])\n",
      "Parameter name: layers.2.self_attn.q_proj.weight, Size: torch.Size([320, 320])\n",
      "Parameter name: layers.2.self_attn.q_proj.bias, Size: torch.Size([320])\n",
      "Parameter name: layers.2.self_attn.out_proj.weight, Size: torch.Size([320, 320])\n",
      "Parameter name: layers.2.self_attn.out_proj.bias, Size: torch.Size([320])\n",
      "Parameter name: layers.2.self_attn_layer_norm.weight, Size: torch.Size([320])\n",
      "Parameter name: layers.2.self_attn_layer_norm.bias, Size: torch.Size([320])\n",
      "Parameter name: layers.2.fc1.weight, Size: torch.Size([1280, 320])\n",
      "Parameter name: layers.2.fc1.bias, Size: torch.Size([1280])\n",
      "Parameter name: layers.2.fc2.weight, Size: torch.Size([320, 1280])\n",
      "Parameter name: layers.2.fc2.bias, Size: torch.Size([320])\n",
      "Parameter name: layers.2.final_layer_norm.weight, Size: torch.Size([320])\n",
      "Parameter name: layers.2.final_layer_norm.bias, Size: torch.Size([320])\n",
      "Parameter name: layers.3.self_attn.k_proj.weight, Size: torch.Size([320, 320])\n",
      "Parameter name: layers.3.self_attn.k_proj.bias, Size: torch.Size([320])\n",
      "Parameter name: layers.3.self_attn.v_proj.weight, Size: torch.Size([320, 320])\n",
      "Parameter name: layers.3.self_attn.v_proj.bias, Size: torch.Size([320])\n",
      "Parameter name: layers.3.self_attn.q_proj.weight, Size: torch.Size([320, 320])\n",
      "Parameter name: layers.3.self_attn.q_proj.bias, Size: torch.Size([320])\n",
      "Parameter name: layers.3.self_attn.out_proj.weight, Size: torch.Size([320, 320])\n",
      "Parameter name: layers.3.self_attn.out_proj.bias, Size: torch.Size([320])\n",
      "Parameter name: layers.3.self_attn_layer_norm.weight, Size: torch.Size([320])\n",
      "Parameter name: layers.3.self_attn_layer_norm.bias, Size: torch.Size([320])\n",
      "Parameter name: layers.3.fc1.weight, Size: torch.Size([1280, 320])\n",
      "Parameter name: layers.3.fc1.bias, Size: torch.Size([1280])\n",
      "Parameter name: layers.3.fc2.weight, Size: torch.Size([320, 1280])\n",
      "Parameter name: layers.3.fc2.bias, Size: torch.Size([320])\n",
      "Parameter name: layers.3.final_layer_norm.weight, Size: torch.Size([320])\n",
      "Parameter name: layers.3.final_layer_norm.bias, Size: torch.Size([320])\n",
      "Parameter name: layers.4.self_attn.k_proj.weight, Size: torch.Size([320, 320])\n",
      "Parameter name: layers.4.self_attn.k_proj.bias, Size: torch.Size([320])\n",
      "Parameter name: layers.4.self_attn.v_proj.weight, Size: torch.Size([320, 320])\n",
      "Parameter name: layers.4.self_attn.v_proj.bias, Size: torch.Size([320])\n",
      "Parameter name: layers.4.self_attn.q_proj.weight, Size: torch.Size([320, 320])\n",
      "Parameter name: layers.4.self_attn.q_proj.bias, Size: torch.Size([320])\n",
      "Parameter name: layers.4.self_attn.out_proj.weight, Size: torch.Size([320, 320])\n",
      "Parameter name: layers.4.self_attn.out_proj.bias, Size: torch.Size([320])\n",
      "Parameter name: layers.4.self_attn_layer_norm.weight, Size: torch.Size([320])\n",
      "Parameter name: layers.4.self_attn_layer_norm.bias, Size: torch.Size([320])\n",
      "Parameter name: layers.4.fc1.weight, Size: torch.Size([1280, 320])\n",
      "Parameter name: layers.4.fc1.bias, Size: torch.Size([1280])\n",
      "Parameter name: layers.4.fc2.weight, Size: torch.Size([320, 1280])\n",
      "Parameter name: layers.4.fc2.bias, Size: torch.Size([320])\n",
      "Parameter name: layers.4.final_layer_norm.weight, Size: torch.Size([320])\n",
      "Parameter name: layers.4.final_layer_norm.bias, Size: torch.Size([320])\n",
      "Parameter name: layers.5.self_attn.k_proj.weight, Size: torch.Size([320, 320])\n",
      "Parameter name: layers.5.self_attn.k_proj.bias, Size: torch.Size([320])\n",
      "Parameter name: layers.5.self_attn.v_proj.weight, Size: torch.Size([320, 320])\n",
      "Parameter name: layers.5.self_attn.v_proj.bias, Size: torch.Size([320])\n",
      "Parameter name: layers.5.self_attn.q_proj.weight, Size: torch.Size([320, 320])\n",
      "Parameter name: layers.5.self_attn.q_proj.bias, Size: torch.Size([320])\n",
      "Parameter name: layers.5.self_attn.out_proj.weight, Size: torch.Size([320, 320])\n",
      "Parameter name: layers.5.self_attn.out_proj.bias, Size: torch.Size([320])\n",
      "Parameter name: layers.5.self_attn_layer_norm.weight, Size: torch.Size([320])\n",
      "Parameter name: layers.5.self_attn_layer_norm.bias, Size: torch.Size([320])\n",
      "Parameter name: layers.5.fc1.weight, Size: torch.Size([1280, 320])\n",
      "Parameter name: layers.5.fc1.bias, Size: torch.Size([1280])\n",
      "Parameter name: layers.5.fc2.weight, Size: torch.Size([320, 1280])\n",
      "Parameter name: layers.5.fc2.bias, Size: torch.Size([320])\n",
      "Parameter name: layers.5.final_layer_norm.weight, Size: torch.Size([320])\n",
      "Parameter name: layers.5.final_layer_norm.bias, Size: torch.Size([320])\n",
      "Parameter name: contact_head.regression.weight, Size: torch.Size([1, 120])\n",
      "Parameter name: contact_head.regression.bias, Size: torch.Size([1])\n",
      "Parameter name: emb_layer_norm_after.weight, Size: torch.Size([320])\n",
      "Parameter name: emb_layer_norm_after.bias, Size: torch.Size([320])\n",
      "Parameter name: lm_head.bias, Size: torch.Size([33])\n",
      "Parameter name: lm_head.dense.weight, Size: torch.Size([320, 320])\n",
      "Parameter name: lm_head.dense.bias, Size: torch.Size([320])\n",
      "Parameter name: lm_head.layer_norm.weight, Size: torch.Size([320])\n",
      "Parameter name: lm_head.layer_norm.bias, Size: torch.Size([320])\n",
      "Parameter name: final_layer.1.weight, Size: torch.Size([1, 320])\n",
      "Parameter name: final_layer.1.bias, Size: torch.Size([1])\n"
     ]
    }
   ],
   "source": []
  },
  {
   "cell_type": "code",
   "execution_count": null,
   "id": "cc1865eb-d252-4993-b45c-a881c9791585",
   "metadata": {},
   "outputs": [],
   "source": []
  },
  {
   "cell_type": "code",
   "execution_count": null,
   "id": "739f3ec4-03c2-4fb0-bb00-1bc1e276c3d4",
   "metadata": {},
   "outputs": [],
   "source": []
  },
  {
   "cell_type": "code",
   "execution_count": null,
   "id": "195cf5b4-9284-474e-a175-7c052d974eaa",
   "metadata": {},
   "outputs": [],
   "source": []
  },
  {
   "cell_type": "code",
   "execution_count": null,
   "id": "f690888d-5ae6-431b-8aa2-d9e812e8659e",
   "metadata": {},
   "outputs": [],
   "source": []
  },
  {
   "cell_type": "code",
   "execution_count": null,
   "id": "c59baeca-b533-4b3b-8609-388aeb2efb54",
   "metadata": {},
   "outputs": [],
   "source": []
  },
  {
   "cell_type": "code",
   "execution_count": null,
   "id": "851f79d1-34e0-45eb-9ef6-f044a0015e84",
   "metadata": {},
   "outputs": [],
   "source": []
  },
  {
   "cell_type": "code",
   "execution_count": 1,
   "id": "046c1d62-04a1-4066-9279-ea194b4f7865",
   "metadata": {},
   "outputs": [
    {
     "name": "stdout",
     "output_type": "stream",
     "text": [
      "Requirement already satisfied: fair-esm in c:\\users\\neil_\\anaconda3\\envs\\esm_contacts\\lib\\site-packages (2.0.0)\n",
      "Parameter name: embed_tokens.weight, Size: torch.Size([33, 320])\n",
      "Parameter name: layers.0.self_attn.k_proj.weight, Size: torch.Size([320, 320])\n",
      "Parameter name: layers.0.self_attn.k_proj.bias, Size: torch.Size([320])\n",
      "Parameter name: layers.0.self_attn.v_proj.weight, Size: torch.Size([320, 320])\n",
      "Parameter name: layers.0.self_attn.v_proj.bias, Size: torch.Size([320])\n",
      "Parameter name: layers.0.self_attn.q_proj.weight, Size: torch.Size([320, 320])\n",
      "Parameter name: layers.0.self_attn.q_proj.bias, Size: torch.Size([320])\n",
      "Parameter name: layers.0.self_attn.out_proj.weight, Size: torch.Size([320, 320])\n",
      "Parameter name: layers.0.self_attn.out_proj.bias, Size: torch.Size([320])\n",
      "Parameter name: layers.0.self_attn_layer_norm.weight, Size: torch.Size([320])\n",
      "Parameter name: layers.0.self_attn_layer_norm.bias, Size: torch.Size([320])\n",
      "Parameter name: layers.0.fc1.weight, Size: torch.Size([1280, 320])\n",
      "Parameter name: layers.0.fc1.bias, Size: torch.Size([1280])\n",
      "Parameter name: layers.0.fc2.weight, Size: torch.Size([320, 1280])\n",
      "Parameter name: layers.0.fc2.bias, Size: torch.Size([320])\n",
      "Parameter name: layers.0.final_layer_norm.weight, Size: torch.Size([320])\n",
      "Parameter name: layers.0.final_layer_norm.bias, Size: torch.Size([320])\n",
      "Parameter name: layers.1.self_attn.k_proj.weight, Size: torch.Size([320, 320])\n",
      "Parameter name: layers.1.self_attn.k_proj.bias, Size: torch.Size([320])\n",
      "Parameter name: layers.1.self_attn.v_proj.weight, Size: torch.Size([320, 320])\n",
      "Parameter name: layers.1.self_attn.v_proj.bias, Size: torch.Size([320])\n",
      "Parameter name: layers.1.self_attn.q_proj.weight, Size: torch.Size([320, 320])\n",
      "Parameter name: layers.1.self_attn.q_proj.bias, Size: torch.Size([320])\n",
      "Parameter name: layers.1.self_attn.out_proj.weight, Size: torch.Size([320, 320])\n",
      "Parameter name: layers.1.self_attn.out_proj.bias, Size: torch.Size([320])\n",
      "Parameter name: layers.1.self_attn_layer_norm.weight, Size: torch.Size([320])\n",
      "Parameter name: layers.1.self_attn_layer_norm.bias, Size: torch.Size([320])\n",
      "Parameter name: layers.1.fc1.weight, Size: torch.Size([1280, 320])\n",
      "Parameter name: layers.1.fc1.bias, Size: torch.Size([1280])\n",
      "Parameter name: layers.1.fc2.weight, Size: torch.Size([320, 1280])\n",
      "Parameter name: layers.1.fc2.bias, Size: torch.Size([320])\n",
      "Parameter name: layers.1.final_layer_norm.weight, Size: torch.Size([320])\n",
      "Parameter name: layers.1.final_layer_norm.bias, Size: torch.Size([320])\n",
      "Parameter name: layers.2.self_attn.k_proj.weight, Size: torch.Size([320, 320])\n",
      "Parameter name: layers.2.self_attn.k_proj.bias, Size: torch.Size([320])\n",
      "Parameter name: layers.2.self_attn.v_proj.weight, Size: torch.Size([320, 320])\n",
      "Parameter name: layers.2.self_attn.v_proj.bias, Size: torch.Size([320])\n",
      "Parameter name: layers.2.self_attn.q_proj.weight, Size: torch.Size([320, 320])\n",
      "Parameter name: layers.2.self_attn.q_proj.bias, Size: torch.Size([320])\n",
      "Parameter name: layers.2.self_attn.out_proj.weight, Size: torch.Size([320, 320])\n",
      "Parameter name: layers.2.self_attn.out_proj.bias, Size: torch.Size([320])\n",
      "Parameter name: layers.2.self_attn_layer_norm.weight, Size: torch.Size([320])\n",
      "Parameter name: layers.2.self_attn_layer_norm.bias, Size: torch.Size([320])\n",
      "Parameter name: layers.2.fc1.weight, Size: torch.Size([1280, 320])\n",
      "Parameter name: layers.2.fc1.bias, Size: torch.Size([1280])\n",
      "Parameter name: layers.2.fc2.weight, Size: torch.Size([320, 1280])\n",
      "Parameter name: layers.2.fc2.bias, Size: torch.Size([320])\n",
      "Parameter name: layers.2.final_layer_norm.weight, Size: torch.Size([320])\n",
      "Parameter name: layers.2.final_layer_norm.bias, Size: torch.Size([320])\n",
      "Parameter name: layers.3.self_attn.k_proj.weight, Size: torch.Size([320, 320])\n",
      "Parameter name: layers.3.self_attn.k_proj.bias, Size: torch.Size([320])\n",
      "Parameter name: layers.3.self_attn.v_proj.weight, Size: torch.Size([320, 320])\n",
      "Parameter name: layers.3.self_attn.v_proj.bias, Size: torch.Size([320])\n",
      "Parameter name: layers.3.self_attn.q_proj.weight, Size: torch.Size([320, 320])\n",
      "Parameter name: layers.3.self_attn.q_proj.bias, Size: torch.Size([320])\n",
      "Parameter name: layers.3.self_attn.out_proj.weight, Size: torch.Size([320, 320])\n",
      "Parameter name: layers.3.self_attn.out_proj.bias, Size: torch.Size([320])\n",
      "Parameter name: layers.3.self_attn_layer_norm.weight, Size: torch.Size([320])\n",
      "Parameter name: layers.3.self_attn_layer_norm.bias, Size: torch.Size([320])\n",
      "Parameter name: layers.3.fc1.weight, Size: torch.Size([1280, 320])\n",
      "Parameter name: layers.3.fc1.bias, Size: torch.Size([1280])\n",
      "Parameter name: layers.3.fc2.weight, Size: torch.Size([320, 1280])\n",
      "Parameter name: layers.3.fc2.bias, Size: torch.Size([320])\n",
      "Parameter name: layers.3.final_layer_norm.weight, Size: torch.Size([320])\n",
      "Parameter name: layers.3.final_layer_norm.bias, Size: torch.Size([320])\n",
      "Parameter name: layers.4.self_attn.k_proj.weight, Size: torch.Size([320, 320])\n",
      "Parameter name: layers.4.self_attn.k_proj.bias, Size: torch.Size([320])\n",
      "Parameter name: layers.4.self_attn.v_proj.weight, Size: torch.Size([320, 320])\n",
      "Parameter name: layers.4.self_attn.v_proj.bias, Size: torch.Size([320])\n",
      "Parameter name: layers.4.self_attn.q_proj.weight, Size: torch.Size([320, 320])\n",
      "Parameter name: layers.4.self_attn.q_proj.bias, Size: torch.Size([320])\n",
      "Parameter name: layers.4.self_attn.out_proj.weight, Size: torch.Size([320, 320])\n",
      "Parameter name: layers.4.self_attn.out_proj.bias, Size: torch.Size([320])\n",
      "Parameter name: layers.4.self_attn_layer_norm.weight, Size: torch.Size([320])\n",
      "Parameter name: layers.4.self_attn_layer_norm.bias, Size: torch.Size([320])\n",
      "Parameter name: layers.4.fc1.weight, Size: torch.Size([1280, 320])\n",
      "Parameter name: layers.4.fc1.bias, Size: torch.Size([1280])\n",
      "Parameter name: layers.4.fc2.weight, Size: torch.Size([320, 1280])\n",
      "Parameter name: layers.4.fc2.bias, Size: torch.Size([320])\n",
      "Parameter name: layers.4.final_layer_norm.weight, Size: torch.Size([320])\n",
      "Parameter name: layers.4.final_layer_norm.bias, Size: torch.Size([320])\n",
      "Parameter name: layers.5.self_attn.k_proj.weight, Size: torch.Size([320, 320])\n",
      "Parameter name: layers.5.self_attn.k_proj.bias, Size: torch.Size([320])\n",
      "Parameter name: layers.5.self_attn.v_proj.weight, Size: torch.Size([320, 320])\n",
      "Parameter name: layers.5.self_attn.v_proj.bias, Size: torch.Size([320])\n",
      "Parameter name: layers.5.self_attn.q_proj.weight, Size: torch.Size([320, 320])\n",
      "Parameter name: layers.5.self_attn.q_proj.bias, Size: torch.Size([320])\n",
      "Parameter name: layers.5.self_attn.out_proj.weight, Size: torch.Size([320, 320])\n",
      "Parameter name: layers.5.self_attn.out_proj.bias, Size: torch.Size([320])\n",
      "Parameter name: layers.5.self_attn_layer_norm.weight, Size: torch.Size([320])\n",
      "Parameter name: layers.5.self_attn_layer_norm.bias, Size: torch.Size([320])\n",
      "Parameter name: layers.5.fc1.weight, Size: torch.Size([1280, 320])\n",
      "Parameter name: layers.5.fc1.bias, Size: torch.Size([1280])\n",
      "Parameter name: layers.5.fc2.weight, Size: torch.Size([320, 1280])\n",
      "Parameter name: layers.5.fc2.bias, Size: torch.Size([320])\n",
      "Parameter name: layers.5.final_layer_norm.weight, Size: torch.Size([320])\n",
      "Parameter name: layers.5.final_layer_norm.bias, Size: torch.Size([320])\n",
      "Parameter name: contact_head.regression.weight, Size: torch.Size([1, 120])\n",
      "Parameter name: contact_head.regression.bias, Size: torch.Size([1])\n",
      "Parameter name: emb_layer_norm_after.weight, Size: torch.Size([320])\n",
      "Parameter name: emb_layer_norm_after.bias, Size: torch.Size([320])\n",
      "Parameter name: lm_head.bias, Size: torch.Size([33])\n",
      "Parameter name: lm_head.dense.weight, Size: torch.Size([320, 320])\n",
      "Parameter name: lm_head.dense.bias, Size: torch.Size([320])\n",
      "Parameter name: lm_head.layer_norm.weight, Size: torch.Size([320])\n",
      "Parameter name: lm_head.layer_norm.bias, Size: torch.Size([320])\n"
     ]
    },
    {
     "data": {
      "text/plain": [
       "ESM2(\n",
       "  (embed_tokens): Embedding(33, 320, padding_idx=1)\n",
       "  (layers): ModuleList(\n",
       "    (0-5): 6 x TransformerLayer(\n",
       "      (self_attn): MultiheadAttention(\n",
       "        (k_proj): Linear(in_features=320, out_features=320, bias=True)\n",
       "        (v_proj): Linear(in_features=320, out_features=320, bias=True)\n",
       "        (q_proj): Linear(in_features=320, out_features=320, bias=True)\n",
       "        (out_proj): Linear(in_features=320, out_features=320, bias=True)\n",
       "        (rot_emb): RotaryEmbedding()\n",
       "      )\n",
       "      (self_attn_layer_norm): LayerNorm((320,), eps=1e-05, elementwise_affine=True)\n",
       "      (fc1): Linear(in_features=320, out_features=1280, bias=True)\n",
       "      (fc2): Linear(in_features=1280, out_features=320, bias=True)\n",
       "      (final_layer_norm): LayerNorm((320,), eps=1e-05, elementwise_affine=True)\n",
       "    )\n",
       "  )\n",
       "  (contact_head): ContactPredictionHead(\n",
       "    (regression): Linear(in_features=120, out_features=1, bias=True)\n",
       "    (activation): Sigmoid()\n",
       "  )\n",
       "  (emb_layer_norm_after): LayerNorm((320,), eps=1e-05, elementwise_affine=True)\n",
       "  (lm_head): RobertaLMHead(\n",
       "    (dense): Linear(in_features=320, out_features=320, bias=True)\n",
       "    (layer_norm): LayerNorm((320,), eps=1e-05, elementwise_affine=True)\n",
       "  )\n",
       ")"
      ]
     },
     "execution_count": 1,
     "metadata": {},
     "output_type": "execute_result"
    }
   ],
   "source": [
    "!pip install fair-esm\n",
    "\n",
    "import torch\n",
    "import os\n",
    "import gc\n",
    "import esm\n",
    "from esm import pretrained\n",
    "\n",
    "os.environ[\"PYTORCH_CUDA_ALLOC_CONF\"] = \"max_split_size_mb:32\"\n",
    "\n",
    "# Clear cache\n",
    "gc.collect()\n",
    "torch.cuda.empty_cache()\n",
    "\n",
    "# Load pretrained model\n",
    "model, alphabet = esm.pretrained.esm2_t6_8M_UR50D()\n",
    "\n",
    "# Check layers in architecture\n",
    "for name, param in model.named_parameters():\n",
    "    print(f\"Parameter name: {name}, Size: {param.size()}\")\n",
    "\n",
    "# Set device to use GPU\n",
    "device = torch.device(\"cuda\" if torch.cuda.is_available() else \"cpu\")\n",
    "model.to(device)"
   ]
  },
  {
   "cell_type": "code",
   "execution_count": 2,
   "id": "6c804a73-c9dd-437c-a7d5-08f0a4ab9008",
   "metadata": {},
   "outputs": [
    {
     "name": "stdout",
     "output_type": "stream",
     "text": [
      "12031\n",
      "3266\n"
     ]
    }
   ],
   "source": [
    "import numpy as np\n",
    "import pandas as pd\n",
    "from torch.utils.data import DataLoader\n",
    "from torch.utils.data import TensorDataset\n",
    "from torch.cuda.amp import GradScaler, autocast\n",
    "import torch.optim as optim\n",
    "import torch.nn as nn\n",
    "from pathlib import Path\n",
    "from esm.data import ESMStructuralSplitDataset\n",
    "import sklearn\n",
    "from sklearn.metrics import accuracy_score, precision_score, recall_score, f1_score\n",
    "\n",
    "\n",
    "# Download structural holdout datasets (already downloaded)\n",
    "\n",
    "# for split_level in ['family', 'superfamily', 'fold']:\n",
    "#     for cv_partition in ['0', '1', '2', '3', '4']:\n",
    "#         esm_structural_train = ESMStructuralSplitDataset(\n",
    "#             split_level=split_level, \n",
    "#             cv_partition=cv_partition, \n",
    "#             split='train', \n",
    "#             root_path = os.path.expanduser('~/.cache/torch/data/esm'),\n",
    "#             download=True\n",
    "#         )\n",
    "#         esm_structural_valid = ESMStructuralSplitDataset(\n",
    "#             split_level=split_level, \n",
    "#             cv_partition=cv_partition, \n",
    "#             split='valid', \n",
    "#             root_path = os.path.expanduser('~/.cache/torch/data/esm'),\n",
    "#             download=True\n",
    "#         )\n",
    "\n",
    "# Set train and validation datasets from the ESM library\n",
    "esm_structural_train = ESMStructuralSplitDataset(\n",
    "    split_level='superfamily', \n",
    "    cv_partition='0', \n",
    "    split='train', \n",
    "    root_path = os.path.expanduser('~/.cache/torch/data/esm'),\n",
    ")\n",
    "\n",
    "esm_structural_valid = ESMStructuralSplitDataset(\n",
    "    split_level='superfamily', \n",
    "    cv_partition='0', \n",
    "    split='valid', \n",
    "    root_path = os.path.expanduser('~/.cache/torch/data/esm'),\n",
    ")\n",
    "\n",
    "# Check how many entries in dictionary\n",
    "print(len(esm_structural_train))\n",
    "print(len(esm_structural_valid))\n",
    "\n",
    "# Training dataset downloaded from ESMStructuralSplitDataset already split into training and validation sets\n",
    "train_dataset = esm_structural_train\n",
    "valid_dataset = esm_structural_valid"
   ]
  },
  {
   "cell_type": "code",
   "execution_count": 3,
   "id": "ea5ced9d-9d1b-4f1d-9883-85b467384092",
   "metadata": {},
   "outputs": [],
   "source": [
    "# Use ESM-2's batch converter for tokneisation/padding\n",
    "batch_converter = alphabet.get_batch_converter()\n",
    "# Pull only the sequences in entire dataset for conversion\n",
    "train_data = [(i, train_dataset[i][\"seq\"]) for i in range(len(train_dataset))]\n",
    "# Tokenise sequences\n",
    "batch_labels, batch_strs, batch_tokens = batch_converter(train_data)"
   ]
  },
  {
   "cell_type": "code",
   "execution_count": 4,
   "id": "63fd0837-5bf8-4147-a6f8-92d722c010a5",
   "metadata": {
    "tags": []
   },
   "outputs": [],
   "source": [
    "# Put batch token tensor in a tensor dataset object\n",
    "training_dataset = TensorDataset(batch_tokens)"
   ]
  },
  {
   "cell_type": "code",
   "execution_count": 5,
   "id": "db8738a4-e161-4bd8-859e-8c2d0632a2e2",
   "metadata": {
    "tags": []
   },
   "outputs": [
    {
     "name": "stdout",
     "output_type": "stream",
     "text": [
      "tensor([[ 0, 20, 21,  ...,  1,  1,  1],\n",
      "        [ 0,  8, 20,  ...,  1,  1,  1],\n",
      "        [ 0, 20, 16,  ...,  1,  1,  1],\n",
      "        ...,\n",
      "        [ 0, 21, 19,  ...,  1,  1,  1],\n",
      "        [ 0, 20,  6,  ...,  1,  1,  1],\n",
      "        [ 0, 20, 10,  ...,  1,  1,  1]])\n",
      "torch.Size([12031, 884])\n",
      "<class 'torch.Tensor'>\n",
      "12031\n"
     ]
    }
   ],
   "source": [
    "# Check the batch tensor dimensions\n",
    "print(batch_tokens)\n",
    "print(batch_tokens.shape)\n",
    "print(type(batch_tokens))\n",
    "print(len(batch_tokens))"
   ]
  },
  {
   "cell_type": "code",
   "execution_count": 6,
   "id": "bb5e8fce-adba-4781-a093-984c18ece21d",
   "metadata": {
    "tags": []
   },
   "outputs": [
    {
     "name": "stdout",
     "output_type": "stream",
     "text": [
      "<torch.utils.data.dataset.TensorDataset object at 0x00000182DDF5C4F0>\n",
      "<class 'torch.utils.data.dataset.TensorDataset'>\n",
      "12031\n"
     ]
    }
   ],
   "source": [
    "print(training_dataset)\n",
    "print(type(training_dataset))\n",
    "print(len(training_dataset))"
   ]
  },
  {
   "cell_type": "code",
   "execution_count": 7,
   "id": "fb2577c9-6410-429a-bead-6ff68bcb4689",
   "metadata": {
    "tags": []
   },
   "outputs": [],
   "source": [
    "# gc.collect()\n",
    "# torch.cuda.empty_cache()\n",
    "\n",
    "# # Not sure whether to use token_representaions for output in the loss function?\n",
    "# with torch.no_grad():\n",
    "#     results = model(batch_tokens.to(device), repr_layers=[33], return_contacts=True)\n",
    "# token_representations = results[\"representations\"][33].to(device)"
   ]
  },
  {
   "cell_type": "code",
   "execution_count": 7,
   "id": "d6684f32-a8b2-4a3e-9ff7-41aafcd662cf",
   "metadata": {},
   "outputs": [],
   "source": [
    "# Freeze all parameters of the pretrained model\n",
    "for param in model.parameters():\n",
    "    param.requires_grad = False\n",
    "\n",
    "# Last layer output fatures decided from ESM-2's layers, emb_layer_norm_after?\n",
    "hidden_size = 320\n",
    "\n",
    "# Modify last layer for our regression task\n",
    "model.final_layer = nn.Sequential(\n",
    "    nn.Dropout(0.2),\n",
    "    nn.Linear(in_features=hidden_size, out_features=160),\n",
    "    nn.ReLU(),\n",
    "    nn.Linear(in_features=160, out_features=80),\n",
    "    nn.ReLU(),\n",
    "    nn.Linear(in_features=80, out_features=1),\n",
    ")\n",
    "\n",
    "# Enable gradient computation for the parameters in the final_layer\n",
    "for param in model.final_layer.parameters():\n",
    "    param.requires_grad = True"
   ]
  },
  {
   "cell_type": "code",
   "execution_count": null,
   "id": "5901bedf-a524-4581-bd6a-751134d5da8d",
   "metadata": {
    "tags": []
   },
   "outputs": [],
   "source": [
    "# # Removed dataloader due to dictionary and list issues in training loop, not enough memory for CUDA to process full dataset of 12031\n",
    "# # Clear cache\n",
    "# gc.collect()\n",
    "# torch.cuda.empty_cache()\n",
    "\n",
    "# learning_rate = 0.001\n",
    "# optimizer = optim.Adam(model.parameters(), lr=learning_rate)\n",
    "# loss_fn = nn.SmoothL1Loss()\n",
    "\n",
    "# num_epochs = 10\n",
    "\n",
    "# for epoch in range(num_epochs):\n",
    "#     gc.collect()\n",
    "#     torch.cuda.empty_cache()\n",
    "#     model.train()\n",
    "#     total_loss = 0\n",
    "#     running_loss = 0.0\n",
    "#     inputs = batch_tokens.to(device)\n",
    "#     optimizer.zero_grad()\n",
    "#     outputs = model(inputs)\n",
    "#     loss = loss_fn(outputs, inputs)\n",
    "#     loss.backward()\n",
    "#     optimizer.step()\n",
    "#     running_loss += loss.item()\n",
    "#     total_loss += loss.item()\n",
    "#     gc.collect()\n",
    "#     torch.cuda.empty_cache()\n",
    "\n",
    "#     average_loss = total_loss / len(batch_tokens)\n",
    "#     print(f\"Epoch {epoch+1}/{num_epochs}, Average Loss: {average_loss:.4f}\")\n",
    "#     print(f\"Epoch {epoch+1} loss: {running_loss:.4f}\")"
   ]
  },
  {
   "cell_type": "code",
   "execution_count": 8,
   "id": "3a0d7811-d79d-4176-b7d3-45ccbc015f29",
   "metadata": {
    "tags": []
   },
   "outputs": [
    {
     "ename": "OutOfMemoryError",
     "evalue": "CUDA out of memory. Tried to allocate 714.00 MiB (GPU 0; 4.00 GiB total capacity; 2.85 GiB already allocated; 14.15 MiB free; 2.87 GiB reserved in total by PyTorch) If reserved memory is >> allocated memory try setting max_split_size_mb to avoid fragmentation.  See documentation for Memory Management and PYTORCH_CUDA_ALLOC_CONF",
     "output_type": "error",
     "traceback": [
      "\u001b[1;31m---------------------------------------------------------------------------\u001b[0m",
      "\u001b[1;31mOutOfMemoryError\u001b[0m                          Traceback (most recent call last)",
      "Cell \u001b[1;32mIn[8], line 36\u001b[0m\n\u001b[0;32m     34\u001b[0m \u001b[38;5;66;03m# Access contact representations in dictionary for output? \u001b[39;00m\n\u001b[0;32m     35\u001b[0m \u001b[38;5;28;01mwith\u001b[39;00m torch\u001b[38;5;241m.\u001b[39mno_grad():\n\u001b[1;32m---> 36\u001b[0m     results \u001b[38;5;241m=\u001b[39m \u001b[43mmodel\u001b[49m\u001b[43m(\u001b[49m\u001b[43minputs\u001b[49m\u001b[43m,\u001b[49m\u001b[43m \u001b[49m\u001b[43mrepr_layers\u001b[49m\u001b[38;5;241;43m=\u001b[39;49m\u001b[43m[\u001b[49m\u001b[38;5;241;43m33\u001b[39;49m\u001b[43m]\u001b[49m\u001b[43m,\u001b[49m\u001b[43m \u001b[49m\u001b[43mreturn_contacts\u001b[49m\u001b[38;5;241;43m=\u001b[39;49m\u001b[38;5;28;43;01mTrue\u001b[39;49;00m\u001b[43m)\u001b[49m\n\u001b[0;32m     38\u001b[0m outputs \u001b[38;5;241m=\u001b[39m results[\u001b[38;5;124m\"\u001b[39m\u001b[38;5;124mrepresentations\u001b[39m\u001b[38;5;124m\"\u001b[39m][\u001b[38;5;241m33\u001b[39m]\u001b[38;5;241m.\u001b[39mto(device)\n\u001b[0;32m     40\u001b[0m \u001b[38;5;66;03m#outputs = model(inputs)\u001b[39;00m\n\u001b[0;32m     41\u001b[0m \u001b[38;5;66;03m#output_tensor = outputs[\"logits\"] # what tensor to access for loss function, maybe \"logits\"?\u001b[39;00m\n\u001b[0;32m     42\u001b[0m \n\u001b[1;32m   (...)\u001b[0m\n\u001b[0;32m     48\u001b[0m \n\u001b[0;32m     49\u001b[0m \u001b[38;5;66;03m#loss = loss_fn(output_tensor, inputs) # AttributeError: 'dict' object has no attribute 'size' - I accessed logits instead, does this need to be processed i.e. softmax?\u001b[39;00m\n",
      "File \u001b[1;32m~\\anaconda3\\envs\\ESM_contacts\\lib\\site-packages\\torch\\nn\\modules\\module.py:1501\u001b[0m, in \u001b[0;36mModule._call_impl\u001b[1;34m(self, *args, **kwargs)\u001b[0m\n\u001b[0;32m   1496\u001b[0m \u001b[38;5;66;03m# If we don't have any hooks, we want to skip the rest of the logic in\u001b[39;00m\n\u001b[0;32m   1497\u001b[0m \u001b[38;5;66;03m# this function, and just call forward.\u001b[39;00m\n\u001b[0;32m   1498\u001b[0m \u001b[38;5;28;01mif\u001b[39;00m \u001b[38;5;129;01mnot\u001b[39;00m (\u001b[38;5;28mself\u001b[39m\u001b[38;5;241m.\u001b[39m_backward_hooks \u001b[38;5;129;01mor\u001b[39;00m \u001b[38;5;28mself\u001b[39m\u001b[38;5;241m.\u001b[39m_backward_pre_hooks \u001b[38;5;129;01mor\u001b[39;00m \u001b[38;5;28mself\u001b[39m\u001b[38;5;241m.\u001b[39m_forward_hooks \u001b[38;5;129;01mor\u001b[39;00m \u001b[38;5;28mself\u001b[39m\u001b[38;5;241m.\u001b[39m_forward_pre_hooks\n\u001b[0;32m   1499\u001b[0m         \u001b[38;5;129;01mor\u001b[39;00m _global_backward_pre_hooks \u001b[38;5;129;01mor\u001b[39;00m _global_backward_hooks\n\u001b[0;32m   1500\u001b[0m         \u001b[38;5;129;01mor\u001b[39;00m _global_forward_hooks \u001b[38;5;129;01mor\u001b[39;00m _global_forward_pre_hooks):\n\u001b[1;32m-> 1501\u001b[0m     \u001b[38;5;28;01mreturn\u001b[39;00m forward_call(\u001b[38;5;241m*\u001b[39margs, \u001b[38;5;241m*\u001b[39m\u001b[38;5;241m*\u001b[39mkwargs)\n\u001b[0;32m   1502\u001b[0m \u001b[38;5;66;03m# Do not call functions when jit is used\u001b[39;00m\n\u001b[0;32m   1503\u001b[0m full_backward_hooks, non_full_backward_hooks \u001b[38;5;241m=\u001b[39m [], []\n",
      "File \u001b[1;32m~\\anaconda3\\envs\\ESM_contacts\\lib\\site-packages\\esm\\model\\esm2.py:141\u001b[0m, in \u001b[0;36mESM2.forward\u001b[1;34m(self, tokens, repr_layers, need_head_weights, return_contacts)\u001b[0m\n\u001b[0;32m    139\u001b[0m     result[\u001b[38;5;124m\"\u001b[39m\u001b[38;5;124mattentions\u001b[39m\u001b[38;5;124m\"\u001b[39m] \u001b[38;5;241m=\u001b[39m attentions\n\u001b[0;32m    140\u001b[0m     \u001b[38;5;28;01mif\u001b[39;00m return_contacts:\n\u001b[1;32m--> 141\u001b[0m         contacts \u001b[38;5;241m=\u001b[39m \u001b[38;5;28;43mself\u001b[39;49m\u001b[38;5;241;43m.\u001b[39;49m\u001b[43mcontact_head\u001b[49m\u001b[43m(\u001b[49m\u001b[43mtokens\u001b[49m\u001b[43m,\u001b[49m\u001b[43m \u001b[49m\u001b[43mattentions\u001b[49m\u001b[43m)\u001b[49m\n\u001b[0;32m    142\u001b[0m         result[\u001b[38;5;124m\"\u001b[39m\u001b[38;5;124mcontacts\u001b[39m\u001b[38;5;124m\"\u001b[39m] \u001b[38;5;241m=\u001b[39m contacts\n\u001b[0;32m    144\u001b[0m \u001b[38;5;28;01mreturn\u001b[39;00m result\n",
      "File \u001b[1;32m~\\anaconda3\\envs\\ESM_contacts\\lib\\site-packages\\torch\\nn\\modules\\module.py:1501\u001b[0m, in \u001b[0;36mModule._call_impl\u001b[1;34m(self, *args, **kwargs)\u001b[0m\n\u001b[0;32m   1496\u001b[0m \u001b[38;5;66;03m# If we don't have any hooks, we want to skip the rest of the logic in\u001b[39;00m\n\u001b[0;32m   1497\u001b[0m \u001b[38;5;66;03m# this function, and just call forward.\u001b[39;00m\n\u001b[0;32m   1498\u001b[0m \u001b[38;5;28;01mif\u001b[39;00m \u001b[38;5;129;01mnot\u001b[39;00m (\u001b[38;5;28mself\u001b[39m\u001b[38;5;241m.\u001b[39m_backward_hooks \u001b[38;5;129;01mor\u001b[39;00m \u001b[38;5;28mself\u001b[39m\u001b[38;5;241m.\u001b[39m_backward_pre_hooks \u001b[38;5;129;01mor\u001b[39;00m \u001b[38;5;28mself\u001b[39m\u001b[38;5;241m.\u001b[39m_forward_hooks \u001b[38;5;129;01mor\u001b[39;00m \u001b[38;5;28mself\u001b[39m\u001b[38;5;241m.\u001b[39m_forward_pre_hooks\n\u001b[0;32m   1499\u001b[0m         \u001b[38;5;129;01mor\u001b[39;00m _global_backward_pre_hooks \u001b[38;5;129;01mor\u001b[39;00m _global_backward_hooks\n\u001b[0;32m   1500\u001b[0m         \u001b[38;5;129;01mor\u001b[39;00m _global_forward_hooks \u001b[38;5;129;01mor\u001b[39;00m _global_forward_pre_hooks):\n\u001b[1;32m-> 1501\u001b[0m     \u001b[38;5;28;01mreturn\u001b[39;00m forward_call(\u001b[38;5;241m*\u001b[39margs, \u001b[38;5;241m*\u001b[39m\u001b[38;5;241m*\u001b[39mkwargs)\n\u001b[0;32m   1502\u001b[0m \u001b[38;5;66;03m# Do not call functions when jit is used\u001b[39;00m\n\u001b[0;32m   1503\u001b[0m full_backward_hooks, non_full_backward_hooks \u001b[38;5;241m=\u001b[39m [], []\n",
      "File \u001b[1;32m~\\anaconda3\\envs\\ESM_contacts\\lib\\site-packages\\esm\\modules.py:355\u001b[0m, in \u001b[0;36mContactPredictionHead.forward\u001b[1;34m(self, tokens, attentions)\u001b[0m\n\u001b[0;32m    351\u001b[0m \u001b[38;5;66;03m# features: B x C x T x T\u001b[39;00m\n\u001b[0;32m    352\u001b[0m attentions \u001b[38;5;241m=\u001b[39m attentions\u001b[38;5;241m.\u001b[39mto(\n\u001b[0;32m    353\u001b[0m     \u001b[38;5;28mself\u001b[39m\u001b[38;5;241m.\u001b[39mregression\u001b[38;5;241m.\u001b[39mweight\u001b[38;5;241m.\u001b[39mdevice\n\u001b[0;32m    354\u001b[0m )  \u001b[38;5;66;03m# attentions always float32, may need to convert to float16\u001b[39;00m\n\u001b[1;32m--> 355\u001b[0m attentions \u001b[38;5;241m=\u001b[39m \u001b[43mapc\u001b[49m\u001b[43m(\u001b[49m\u001b[43msymmetrize\u001b[49m\u001b[43m(\u001b[49m\u001b[43mattentions\u001b[49m\u001b[43m)\u001b[49m\u001b[43m)\u001b[49m\n\u001b[0;32m    356\u001b[0m attentions \u001b[38;5;241m=\u001b[39m attentions\u001b[38;5;241m.\u001b[39mpermute(\u001b[38;5;241m0\u001b[39m, \u001b[38;5;241m2\u001b[39m, \u001b[38;5;241m3\u001b[39m, \u001b[38;5;241m1\u001b[39m)\n\u001b[0;32m    357\u001b[0m \u001b[38;5;28;01mreturn\u001b[39;00m \u001b[38;5;28mself\u001b[39m\u001b[38;5;241m.\u001b[39mactivation(\u001b[38;5;28mself\u001b[39m\u001b[38;5;241m.\u001b[39mregression(attentions)\u001b[38;5;241m.\u001b[39msqueeze(\u001b[38;5;241m3\u001b[39m))\n",
      "File \u001b[1;32m~\\anaconda3\\envs\\ESM_contacts\\lib\\site-packages\\esm\\modules.py:38\u001b[0m, in \u001b[0;36mapc\u001b[1;34m(x)\u001b[0m\n\u001b[0;32m     35\u001b[0m a2 \u001b[38;5;241m=\u001b[39m x\u001b[38;5;241m.\u001b[39msum(\u001b[38;5;241m-\u001b[39m\u001b[38;5;241m2\u001b[39m, keepdims\u001b[38;5;241m=\u001b[39m\u001b[38;5;28;01mTrue\u001b[39;00m)\n\u001b[0;32m     36\u001b[0m a12 \u001b[38;5;241m=\u001b[39m x\u001b[38;5;241m.\u001b[39msum((\u001b[38;5;241m-\u001b[39m\u001b[38;5;241m1\u001b[39m, \u001b[38;5;241m-\u001b[39m\u001b[38;5;241m2\u001b[39m), keepdims\u001b[38;5;241m=\u001b[39m\u001b[38;5;28;01mTrue\u001b[39;00m)\n\u001b[1;32m---> 38\u001b[0m avg \u001b[38;5;241m=\u001b[39m \u001b[43ma1\u001b[49m\u001b[43m \u001b[49m\u001b[38;5;241;43m*\u001b[39;49m\u001b[43m \u001b[49m\u001b[43ma2\u001b[49m\n\u001b[0;32m     39\u001b[0m avg\u001b[38;5;241m.\u001b[39mdiv_(a12)  \u001b[38;5;66;03m# in-place to reduce memory\u001b[39;00m\n\u001b[0;32m     40\u001b[0m normalized \u001b[38;5;241m=\u001b[39m x \u001b[38;5;241m-\u001b[39m avg\n",
      "\u001b[1;31mOutOfMemoryError\u001b[0m: CUDA out of memory. Tried to allocate 714.00 MiB (GPU 0; 4.00 GiB total capacity; 2.85 GiB already allocated; 14.15 MiB free; 2.87 GiB reserved in total by PyTorch) If reserved memory is >> allocated memory try setting max_split_size_mb to avoid fragmentation.  See documentation for Memory Management and PYTORCH_CUDA_ALLOC_CONF"
     ]
    }
   ],
   "source": [
    "# Clear cache\n",
    "gc.collect()\n",
    "torch.cuda.empty_cache()\n",
    "\n",
    "\n",
    "learning_rate = 0.001\n",
    "optimizer = optim.Adam(model.parameters(), lr=learning_rate)\n",
    "#loss_fn = nn.MSELoss()\n",
    "loss_fn = nn.SmoothL1Loss().to(device)\n",
    "\n",
    "num_epochs = 10\n",
    "\n",
    "# Set a low batch size for memory efficency\n",
    "batch_size = 2\n",
    "\n",
    "train_dataloader = DataLoader(batch_tokens, batch_size=batch_size, shuffle=True)\n",
    "\n",
    "for epoch in range(num_epochs):\n",
    "    gc.collect()\n",
    "    torch.cuda.empty_cache()\n",
    "    model.train()\n",
    "    total_loss = 0\n",
    "    running_loss = 0.0\n",
    "\n",
    "    for batch_tokens in train_dataloader:\n",
    "\n",
    "        #batch_tokens = torch.stack(batch_token_list).to(device) list of tensors issue\n",
    "        \n",
    "        # Reshape tensor to 2D shape [batch_size, sequence_length] to pass assert tokens.ndim == 2\n",
    "        inputs = batch_tokens.reshape(batch_size, -1).to(device)\n",
    "        \n",
    "        optimizer.zero_grad()\n",
    "        \n",
    "        # Access contact representations in dictionary for output? \n",
    "        with torch.no_grad():\n",
    "            results = model(inputs, repr_layers=[33], return_contacts=True)\n",
    "        \n",
    "        outputs = results[\"representations\"][33].to(device)\n",
    "        \n",
    "        #outputs = model(inputs)\n",
    "        #output_tensor = outputs[\"logits\"] # what tensor to access for loss function, maybe \"logits\"?\n",
    "        \n",
    "        # What is the origin of the loss input size (torch.Size([8, 884, 33])) is this from the model embedding or lm_head?\n",
    "        # Parameter name: embed_tokens.weight, Size: torch.Size([33, 320])\n",
    "        # Parameter name: lm_head.bias, Size: torch.Size([33])\n",
    "        # RuntimeError: The size of tensor a (33) must match the size of tensor b (884) at non-singleton dimension 2\n",
    "        # Using a target size (torch.Size([8, 884]))\n",
    "        \n",
    "        #loss = loss_fn(output_tensor, inputs) # AttributeError: 'dict' object has no attribute 'size' - I accessed logits instead, does this need to be processed i.e. softmax?\n",
    "        \n",
    "        loss = loss_fn(outputs, inputs)\n",
    "        loss.backward()\n",
    "        optimizer.step()\n",
    "        running_loss += loss.item()\n",
    "        total_loss += loss.item()\n",
    "        gc.collect()\n",
    "        torch.cuda.empty_cache()\n",
    "\n",
    "    average_loss = total_loss / len(train_dataloader)\n",
    "    print(f\"Epoch {epoch+1}/{num_epochs}, Average Loss: {average_loss:.4f}\")\n",
    "    print(f\"Epoch {epoch+1} loss: {running_loss:.4f}\")\n",
    "    \n",
    "gc.collect()\n",
    "torch.cuda.empty_cache()"
   ]
  },
  {
   "cell_type": "markdown",
   "id": "2183c612-a50c-44ab-98bf-d8c62ccf5c78",
   "metadata": {},
   "source": [
    "### Testing AMP for memory efficency"
   ]
  },
  {
   "cell_type": "code",
   "execution_count": 9,
   "id": "380cfff8-5661-403e-b7f5-3c45f5e00045",
   "metadata": {
    "tags": []
   },
   "outputs": [
    {
     "ename": "OutOfMemoryError",
     "evalue": "CUDA out of memory. Tried to allocate 60.00 MiB (GPU 0; 4.00 GiB total capacity; 3.50 GiB already allocated; 0 bytes free; 3.51 GiB reserved in total by PyTorch) If reserved memory is >> allocated memory try setting max_split_size_mb to avoid fragmentation.  See documentation for Memory Management and PYTORCH_CUDA_ALLOC_CONF",
     "output_type": "error",
     "traceback": [
      "\u001b[1;31m---------------------------------------------------------------------------\u001b[0m",
      "\u001b[1;31mOutOfMemoryError\u001b[0m                          Traceback (most recent call last)",
      "Cell \u001b[1;32mIn[9], line 31\u001b[0m\n\u001b[0;32m     29\u001b[0m \u001b[38;5;66;03m# Train with AMP autocast to use less memory\u001b[39;00m\n\u001b[0;32m     30\u001b[0m \u001b[38;5;28;01mwith\u001b[39;00m autocast():\n\u001b[1;32m---> 31\u001b[0m     results \u001b[38;5;241m=\u001b[39m \u001b[43mmodel\u001b[49m\u001b[43m(\u001b[49m\u001b[43minputs\u001b[49m\u001b[43m,\u001b[49m\u001b[43m \u001b[49m\u001b[43mrepr_layers\u001b[49m\u001b[38;5;241;43m=\u001b[39;49m\u001b[43m[\u001b[49m\u001b[38;5;241;43m33\u001b[39;49m\u001b[43m]\u001b[49m\u001b[43m,\u001b[49m\u001b[43m \u001b[49m\u001b[43mreturn_contacts\u001b[49m\u001b[38;5;241;43m=\u001b[39;49m\u001b[38;5;28;43;01mTrue\u001b[39;49;00m\u001b[43m)\u001b[49m\n\u001b[0;32m     32\u001b[0m     outputs \u001b[38;5;241m=\u001b[39m results[\u001b[38;5;124m\"\u001b[39m\u001b[38;5;124mrepresentations\u001b[39m\u001b[38;5;124m\"\u001b[39m][\u001b[38;5;241m33\u001b[39m]\u001b[38;5;241m.\u001b[39mto(device)\n\u001b[0;32m     33\u001b[0m     loss \u001b[38;5;241m=\u001b[39m loss_fn(outputs, inputs)\n",
      "File \u001b[1;32m~\\anaconda3\\envs\\ESM_contacts\\lib\\site-packages\\torch\\nn\\modules\\module.py:1501\u001b[0m, in \u001b[0;36mModule._call_impl\u001b[1;34m(self, *args, **kwargs)\u001b[0m\n\u001b[0;32m   1496\u001b[0m \u001b[38;5;66;03m# If we don't have any hooks, we want to skip the rest of the logic in\u001b[39;00m\n\u001b[0;32m   1497\u001b[0m \u001b[38;5;66;03m# this function, and just call forward.\u001b[39;00m\n\u001b[0;32m   1498\u001b[0m \u001b[38;5;28;01mif\u001b[39;00m \u001b[38;5;129;01mnot\u001b[39;00m (\u001b[38;5;28mself\u001b[39m\u001b[38;5;241m.\u001b[39m_backward_hooks \u001b[38;5;129;01mor\u001b[39;00m \u001b[38;5;28mself\u001b[39m\u001b[38;5;241m.\u001b[39m_backward_pre_hooks \u001b[38;5;129;01mor\u001b[39;00m \u001b[38;5;28mself\u001b[39m\u001b[38;5;241m.\u001b[39m_forward_hooks \u001b[38;5;129;01mor\u001b[39;00m \u001b[38;5;28mself\u001b[39m\u001b[38;5;241m.\u001b[39m_forward_pre_hooks\n\u001b[0;32m   1499\u001b[0m         \u001b[38;5;129;01mor\u001b[39;00m _global_backward_pre_hooks \u001b[38;5;129;01mor\u001b[39;00m _global_backward_hooks\n\u001b[0;32m   1500\u001b[0m         \u001b[38;5;129;01mor\u001b[39;00m _global_forward_hooks \u001b[38;5;129;01mor\u001b[39;00m _global_forward_pre_hooks):\n\u001b[1;32m-> 1501\u001b[0m     \u001b[38;5;28;01mreturn\u001b[39;00m forward_call(\u001b[38;5;241m*\u001b[39margs, \u001b[38;5;241m*\u001b[39m\u001b[38;5;241m*\u001b[39mkwargs)\n\u001b[0;32m   1502\u001b[0m \u001b[38;5;66;03m# Do not call functions when jit is used\u001b[39;00m\n\u001b[0;32m   1503\u001b[0m full_backward_hooks, non_full_backward_hooks \u001b[38;5;241m=\u001b[39m [], []\n",
      "File \u001b[1;32m~\\anaconda3\\envs\\ESM_contacts\\lib\\site-packages\\esm\\model\\esm2.py:112\u001b[0m, in \u001b[0;36mESM2.forward\u001b[1;34m(self, tokens, repr_layers, need_head_weights, return_contacts)\u001b[0m\n\u001b[0;32m    109\u001b[0m     padding_mask \u001b[38;5;241m=\u001b[39m \u001b[38;5;28;01mNone\u001b[39;00m\n\u001b[0;32m    111\u001b[0m \u001b[38;5;28;01mfor\u001b[39;00m layer_idx, layer \u001b[38;5;129;01min\u001b[39;00m \u001b[38;5;28menumerate\u001b[39m(\u001b[38;5;28mself\u001b[39m\u001b[38;5;241m.\u001b[39mlayers):\n\u001b[1;32m--> 112\u001b[0m     x, attn \u001b[38;5;241m=\u001b[39m \u001b[43mlayer\u001b[49m\u001b[43m(\u001b[49m\n\u001b[0;32m    113\u001b[0m \u001b[43m        \u001b[49m\u001b[43mx\u001b[49m\u001b[43m,\u001b[49m\n\u001b[0;32m    114\u001b[0m \u001b[43m        \u001b[49m\u001b[43mself_attn_padding_mask\u001b[49m\u001b[38;5;241;43m=\u001b[39;49m\u001b[43mpadding_mask\u001b[49m\u001b[43m,\u001b[49m\n\u001b[0;32m    115\u001b[0m \u001b[43m        \u001b[49m\u001b[43mneed_head_weights\u001b[49m\u001b[38;5;241;43m=\u001b[39;49m\u001b[43mneed_head_weights\u001b[49m\u001b[43m,\u001b[49m\n\u001b[0;32m    116\u001b[0m \u001b[43m    \u001b[49m\u001b[43m)\u001b[49m\n\u001b[0;32m    117\u001b[0m     \u001b[38;5;28;01mif\u001b[39;00m (layer_idx \u001b[38;5;241m+\u001b[39m \u001b[38;5;241m1\u001b[39m) \u001b[38;5;129;01min\u001b[39;00m repr_layers:\n\u001b[0;32m    118\u001b[0m         hidden_representations[layer_idx \u001b[38;5;241m+\u001b[39m \u001b[38;5;241m1\u001b[39m] \u001b[38;5;241m=\u001b[39m x\u001b[38;5;241m.\u001b[39mtranspose(\u001b[38;5;241m0\u001b[39m, \u001b[38;5;241m1\u001b[39m)\n",
      "File \u001b[1;32m~\\anaconda3\\envs\\ESM_contacts\\lib\\site-packages\\torch\\nn\\modules\\module.py:1501\u001b[0m, in \u001b[0;36mModule._call_impl\u001b[1;34m(self, *args, **kwargs)\u001b[0m\n\u001b[0;32m   1496\u001b[0m \u001b[38;5;66;03m# If we don't have any hooks, we want to skip the rest of the logic in\u001b[39;00m\n\u001b[0;32m   1497\u001b[0m \u001b[38;5;66;03m# this function, and just call forward.\u001b[39;00m\n\u001b[0;32m   1498\u001b[0m \u001b[38;5;28;01mif\u001b[39;00m \u001b[38;5;129;01mnot\u001b[39;00m (\u001b[38;5;28mself\u001b[39m\u001b[38;5;241m.\u001b[39m_backward_hooks \u001b[38;5;129;01mor\u001b[39;00m \u001b[38;5;28mself\u001b[39m\u001b[38;5;241m.\u001b[39m_backward_pre_hooks \u001b[38;5;129;01mor\u001b[39;00m \u001b[38;5;28mself\u001b[39m\u001b[38;5;241m.\u001b[39m_forward_hooks \u001b[38;5;129;01mor\u001b[39;00m \u001b[38;5;28mself\u001b[39m\u001b[38;5;241m.\u001b[39m_forward_pre_hooks\n\u001b[0;32m   1499\u001b[0m         \u001b[38;5;129;01mor\u001b[39;00m _global_backward_pre_hooks \u001b[38;5;129;01mor\u001b[39;00m _global_backward_hooks\n\u001b[0;32m   1500\u001b[0m         \u001b[38;5;129;01mor\u001b[39;00m _global_forward_hooks \u001b[38;5;129;01mor\u001b[39;00m _global_forward_pre_hooks):\n\u001b[1;32m-> 1501\u001b[0m     \u001b[38;5;28;01mreturn\u001b[39;00m forward_call(\u001b[38;5;241m*\u001b[39margs, \u001b[38;5;241m*\u001b[39m\u001b[38;5;241m*\u001b[39mkwargs)\n\u001b[0;32m   1502\u001b[0m \u001b[38;5;66;03m# Do not call functions when jit is used\u001b[39;00m\n\u001b[0;32m   1503\u001b[0m full_backward_hooks, non_full_backward_hooks \u001b[38;5;241m=\u001b[39m [], []\n",
      "File \u001b[1;32m~\\anaconda3\\envs\\ESM_contacts\\lib\\site-packages\\esm\\modules.py:125\u001b[0m, in \u001b[0;36mTransformerLayer.forward\u001b[1;34m(self, x, self_attn_mask, self_attn_padding_mask, need_head_weights)\u001b[0m\n\u001b[0;32m    123\u001b[0m residual \u001b[38;5;241m=\u001b[39m x\n\u001b[0;32m    124\u001b[0m x \u001b[38;5;241m=\u001b[39m \u001b[38;5;28mself\u001b[39m\u001b[38;5;241m.\u001b[39mself_attn_layer_norm(x)\n\u001b[1;32m--> 125\u001b[0m x, attn \u001b[38;5;241m=\u001b[39m \u001b[38;5;28;43mself\u001b[39;49m\u001b[38;5;241;43m.\u001b[39;49m\u001b[43mself_attn\u001b[49m\u001b[43m(\u001b[49m\n\u001b[0;32m    126\u001b[0m \u001b[43m    \u001b[49m\u001b[43mquery\u001b[49m\u001b[38;5;241;43m=\u001b[39;49m\u001b[43mx\u001b[49m\u001b[43m,\u001b[49m\n\u001b[0;32m    127\u001b[0m \u001b[43m    \u001b[49m\u001b[43mkey\u001b[49m\u001b[38;5;241;43m=\u001b[39;49m\u001b[43mx\u001b[49m\u001b[43m,\u001b[49m\n\u001b[0;32m    128\u001b[0m \u001b[43m    \u001b[49m\u001b[43mvalue\u001b[49m\u001b[38;5;241;43m=\u001b[39;49m\u001b[43mx\u001b[49m\u001b[43m,\u001b[49m\n\u001b[0;32m    129\u001b[0m \u001b[43m    \u001b[49m\u001b[43mkey_padding_mask\u001b[49m\u001b[38;5;241;43m=\u001b[39;49m\u001b[43mself_attn_padding_mask\u001b[49m\u001b[43m,\u001b[49m\n\u001b[0;32m    130\u001b[0m \u001b[43m    \u001b[49m\u001b[43mneed_weights\u001b[49m\u001b[38;5;241;43m=\u001b[39;49m\u001b[38;5;28;43;01mTrue\u001b[39;49;00m\u001b[43m,\u001b[49m\n\u001b[0;32m    131\u001b[0m \u001b[43m    \u001b[49m\u001b[43mneed_head_weights\u001b[49m\u001b[38;5;241;43m=\u001b[39;49m\u001b[43mneed_head_weights\u001b[49m\u001b[43m,\u001b[49m\n\u001b[0;32m    132\u001b[0m \u001b[43m    \u001b[49m\u001b[43mattn_mask\u001b[49m\u001b[38;5;241;43m=\u001b[39;49m\u001b[43mself_attn_mask\u001b[49m\u001b[43m,\u001b[49m\n\u001b[0;32m    133\u001b[0m \u001b[43m\u001b[49m\u001b[43m)\u001b[49m\n\u001b[0;32m    134\u001b[0m x \u001b[38;5;241m=\u001b[39m residual \u001b[38;5;241m+\u001b[39m x\n\u001b[0;32m    136\u001b[0m residual \u001b[38;5;241m=\u001b[39m x\n",
      "File \u001b[1;32m~\\anaconda3\\envs\\ESM_contacts\\lib\\site-packages\\torch\\nn\\modules\\module.py:1501\u001b[0m, in \u001b[0;36mModule._call_impl\u001b[1;34m(self, *args, **kwargs)\u001b[0m\n\u001b[0;32m   1496\u001b[0m \u001b[38;5;66;03m# If we don't have any hooks, we want to skip the rest of the logic in\u001b[39;00m\n\u001b[0;32m   1497\u001b[0m \u001b[38;5;66;03m# this function, and just call forward.\u001b[39;00m\n\u001b[0;32m   1498\u001b[0m \u001b[38;5;28;01mif\u001b[39;00m \u001b[38;5;129;01mnot\u001b[39;00m (\u001b[38;5;28mself\u001b[39m\u001b[38;5;241m.\u001b[39m_backward_hooks \u001b[38;5;129;01mor\u001b[39;00m \u001b[38;5;28mself\u001b[39m\u001b[38;5;241m.\u001b[39m_backward_pre_hooks \u001b[38;5;129;01mor\u001b[39;00m \u001b[38;5;28mself\u001b[39m\u001b[38;5;241m.\u001b[39m_forward_hooks \u001b[38;5;129;01mor\u001b[39;00m \u001b[38;5;28mself\u001b[39m\u001b[38;5;241m.\u001b[39m_forward_pre_hooks\n\u001b[0;32m   1499\u001b[0m         \u001b[38;5;129;01mor\u001b[39;00m _global_backward_pre_hooks \u001b[38;5;129;01mor\u001b[39;00m _global_backward_hooks\n\u001b[0;32m   1500\u001b[0m         \u001b[38;5;129;01mor\u001b[39;00m _global_forward_hooks \u001b[38;5;129;01mor\u001b[39;00m _global_forward_pre_hooks):\n\u001b[1;32m-> 1501\u001b[0m     \u001b[38;5;28;01mreturn\u001b[39;00m forward_call(\u001b[38;5;241m*\u001b[39margs, \u001b[38;5;241m*\u001b[39m\u001b[38;5;241m*\u001b[39mkwargs)\n\u001b[0;32m   1502\u001b[0m \u001b[38;5;66;03m# Do not call functions when jit is used\u001b[39;00m\n\u001b[0;32m   1503\u001b[0m full_backward_hooks, non_full_backward_hooks \u001b[38;5;241m=\u001b[39m [], []\n",
      "File \u001b[1;32m~\\anaconda3\\envs\\ESM_contacts\\lib\\site-packages\\esm\\multihead_attention.py:380\u001b[0m, in \u001b[0;36mMultiheadAttention.forward\u001b[1;34m(self, query, key, value, key_padding_mask, incremental_state, need_weights, static_kv, attn_mask, before_softmax, need_head_weights)\u001b[0m\n\u001b[0;32m    377\u001b[0m     \u001b[38;5;28;01mreturn\u001b[39;00m attn_weights, v\n\u001b[0;32m    379\u001b[0m attn_weights_float \u001b[38;5;241m=\u001b[39m utils_softmax(attn_weights, dim\u001b[38;5;241m=\u001b[39m\u001b[38;5;241m-\u001b[39m\u001b[38;5;241m1\u001b[39m, onnx_trace\u001b[38;5;241m=\u001b[39m\u001b[38;5;28mself\u001b[39m\u001b[38;5;241m.\u001b[39monnx_trace)\n\u001b[1;32m--> 380\u001b[0m attn_weights \u001b[38;5;241m=\u001b[39m \u001b[43mattn_weights_float\u001b[49m\u001b[38;5;241;43m.\u001b[39;49m\u001b[43mtype_as\u001b[49m\u001b[43m(\u001b[49m\u001b[43mattn_weights\u001b[49m\u001b[43m)\u001b[49m\n\u001b[0;32m    381\u001b[0m attn_probs \u001b[38;5;241m=\u001b[39m F\u001b[38;5;241m.\u001b[39mdropout(\n\u001b[0;32m    382\u001b[0m     attn_weights_float\u001b[38;5;241m.\u001b[39mtype_as(attn_weights),\n\u001b[0;32m    383\u001b[0m     p\u001b[38;5;241m=\u001b[39m\u001b[38;5;28mself\u001b[39m\u001b[38;5;241m.\u001b[39mdropout,\n\u001b[0;32m    384\u001b[0m     training\u001b[38;5;241m=\u001b[39m\u001b[38;5;28mself\u001b[39m\u001b[38;5;241m.\u001b[39mtraining,\n\u001b[0;32m    385\u001b[0m )\n\u001b[0;32m    386\u001b[0m \u001b[38;5;28;01massert\u001b[39;00m v \u001b[38;5;129;01mis\u001b[39;00m \u001b[38;5;129;01mnot\u001b[39;00m \u001b[38;5;28;01mNone\u001b[39;00m\n",
      "\u001b[1;31mOutOfMemoryError\u001b[0m: CUDA out of memory. Tried to allocate 60.00 MiB (GPU 0; 4.00 GiB total capacity; 3.50 GiB already allocated; 0 bytes free; 3.51 GiB reserved in total by PyTorch) If reserved memory is >> allocated memory try setting max_split_size_mb to avoid fragmentation.  See documentation for Memory Management and PYTORCH_CUDA_ALLOC_CONF"
     ]
    }
   ],
   "source": [
    "gc.collect()\n",
    "torch.cuda.empty_cache()\n",
    "\n",
    "learning_rate = 0.001\n",
    "optimizer = optim.Adam(model.parameters(), lr=learning_rate)\n",
    "loss_fn = nn.SmoothL1Loss().to(device)\n",
    "\n",
    "num_epochs = 10\n",
    "\n",
    "batch_size = 2\n",
    "\n",
    "train_dataloader = DataLoader(batch_tokens, batch_size=batch_size, shuffle=True)\n",
    "\n",
    "# Set automatic mixed precision - gradient scaler to help with memory issues\n",
    "scaler = GradScaler()\n",
    "\n",
    "for epoch in range(num_epochs):\n",
    "    gc.collect()\n",
    "    torch.cuda.empty_cache()\n",
    "    model.train()\n",
    "    total_loss = 0\n",
    "    running_loss = 0.0\n",
    "\n",
    "    for batch_tokens in train_dataloader:\n",
    "        inputs = batch_tokens.reshape(batch_size, -1).to(device)\n",
    "\n",
    "        optimizer.zero_grad()\n",
    "        \n",
    "        # Train with AMP autocast to use less memory\n",
    "        with autocast():\n",
    "            results = model(inputs, repr_layers=[33], return_contacts=True)\n",
    "            outputs = results[\"representations\"][33].to(device)\n",
    "            #outputs = results[\"contacts\"][33].to(device)\n",
    "            loss = loss_fn(outputs, inputs)\n",
    "\n",
    "        scaler.scale(loss).backward()\n",
    "        scaler.step(optimizer)\n",
    "        scaler.update()\n",
    "\n",
    "        running_loss += loss.item()\n",
    "        total_loss += loss.item()\n",
    "        gc.collect()\n",
    "        torch.cuda.empty_cache()\n",
    "\n",
    "    average_loss = total_loss / len(train_dataloader)\n",
    "    print(f\"Epoch {epoch+1}/{num_epochs}, Average Loss: {average_loss:.4f}\")\n",
    "    print(f\"Epoch {epoch+1} loss: {running_loss:.4f}\")\n",
    "    \n",
    "gc.collect()\n",
    "torch.cuda.empty_cache()"
   ]
  },
  {
   "cell_type": "code",
   "execution_count": 9,
   "id": "e179caae-33d7-4faf-9f4a-8df56487305d",
   "metadata": {
    "tags": []
   },
   "outputs": [
    {
     "data": {
      "text/plain": [
       "'|===========================================================================|\\n|                  PyTorch CUDA memory summary, device ID 0                 |\\n|---------------------------------------------------------------------------|\\n|            CUDA OOMs: 1            |        cudaMalloc retries: 1         |\\n|===========================================================================|\\n|        Metric         | Cur Usage  | Peak Usage | Tot Alloc  | Tot Freed  |\\n|---------------------------------------------------------------------------|\\n| Allocated memory      |   2917 MiB |   2917 MiB |   5704 MiB |   2786 MiB |\\n|       from large pool |   2905 MiB |   2905 MiB |   5690 MiB |   2785 MiB |\\n|       from small pool |     12 MiB |     12 MiB |     13 MiB |      1 MiB |\\n|---------------------------------------------------------------------------|\\n| Active memory         |   2917 MiB |   2917 MiB |   5704 MiB |   2786 MiB |\\n|       from large pool |   2905 MiB |   2905 MiB |   5690 MiB |   2785 MiB |\\n|       from small pool |     12 MiB |     12 MiB |     13 MiB |      1 MiB |\\n|---------------------------------------------------------------------------|\\n| Requested memory      |   2909 MiB |   2909 MiB |   5685 MiB |   2775 MiB |\\n|       from large pool |   2897 MiB |   2897 MiB |   5671 MiB |   2774 MiB |\\n|       from small pool |     12 MiB |     12 MiB |     13 MiB |      1 MiB |\\n|---------------------------------------------------------------------------|\\n| GPU reserved memory   |   2940 MiB |   3080 MiB |   3080 MiB | 143360 KiB |\\n|       from large pool |   2926 MiB |   3066 MiB |   3066 MiB | 143360 KiB |\\n|       from small pool |     14 MiB |     14 MiB |     14 MiB |      0 KiB |\\n|---------------------------------------------------------------------------|\\n| Non-releasable memory |  22790 KiB |  32085 KiB |    830 MiB |    808 MiB |\\n|       from large pool |  21184 KiB |  30090 KiB |    818 MiB |    797 MiB |\\n|       from small pool |   1605 KiB |   2433 KiB |     12 MiB |     10 MiB |\\n|---------------------------------------------------------------------------|\\n| Allocations           |     144    |     144    |     414    |     270    |\\n|       from large pool |      24    |      27    |     226    |     202    |\\n|       from small pool |     120    |     120    |     188    |      68    |\\n|---------------------------------------------------------------------------|\\n| Active allocs         |     144    |     144    |     414    |     270    |\\n|       from large pool |      24    |      27    |     226    |     202    |\\n|       from small pool |     120    |     120    |     188    |      68    |\\n|---------------------------------------------------------------------------|\\n| GPU reserved segments |      19    |      21    |      21    |       2    |\\n|       from large pool |      12    |      14    |      14    |       2    |\\n|       from small pool |       7    |       7    |       7    |       0    |\\n|---------------------------------------------------------------------------|\\n| Non-releasable allocs |      12    |      15    |     162    |     150    |\\n|       from large pool |       3    |       7    |     127    |     124    |\\n|       from small pool |       9    |      10    |      35    |      26    |\\n|---------------------------------------------------------------------------|\\n| Oversize allocations  |       9    |       9    |      22    |      13    |\\n|---------------------------------------------------------------------------|\\n| Oversize GPU segments |       9    |      10    |      10    |       1    |\\n|===========================================================================|\\n'"
      ]
     },
     "execution_count": 9,
     "metadata": {},
     "output_type": "execute_result"
    }
   ],
   "source": [
    "torch.cuda.memory_summary(device=None, abbreviated=False)"
   ]
  },
  {
   "cell_type": "code",
   "execution_count": 11,
   "id": "932f5c39-fde5-420b-89bb-a5c7745790ca",
   "metadata": {
    "tags": []
   },
   "outputs": [
    {
     "name": "stdout",
     "output_type": "stream",
     "text": [
      "<class 'torch.Tensor'>\n"
     ]
    }
   ],
   "source": [
    "print(type(batch_tokens))"
   ]
  },
  {
   "cell_type": "code",
   "execution_count": 12,
   "id": "98dfb1b1-4a85-4b7c-9018-a0f195dc4acd",
   "metadata": {
    "tags": []
   },
   "outputs": [
    {
     "name": "stdout",
     "output_type": "stream",
     "text": [
      "tensor([[ 0, 17, 15,  ...,  1,  1,  1],\n",
      "        [ 0, 16, 20,  ...,  1,  1,  1],\n",
      "        [ 0, 14, 16,  ...,  1,  1,  1],\n",
      "        ...,\n",
      "        [ 0, 20, 19,  ...,  1,  1,  1],\n",
      "        [ 0, 12,  7,  ...,  1,  1,  1],\n",
      "        [ 0, 11, 12,  ...,  1,  1,  1]], device='cuda:0')\n"
     ]
    }
   ],
   "source": [
    "print(inputs)"
   ]
  },
  {
   "cell_type": "code",
   "execution_count": 13,
   "id": "8fc9b1a3-d919-4ae4-b19b-ee7f58147d48",
   "metadata": {
    "tags": []
   },
   "outputs": [
    {
     "name": "stdout",
     "output_type": "stream",
     "text": [
      "<class 'torch.Tensor'>\n"
     ]
    }
   ],
   "source": [
    "print(type(inputs))"
   ]
  },
  {
   "cell_type": "code",
   "execution_count": 14,
   "id": "84baf49b-64ea-41c8-9001-e775e2c11a28",
   "metadata": {
    "tags": []
   },
   "outputs": [
    {
     "name": "stdout",
     "output_type": "stream",
     "text": [
      "torch.Size([8, 884])\n"
     ]
    }
   ],
   "source": [
    "print(inputs.shape)"
   ]
  },
  {
   "cell_type": "code",
   "execution_count": 17,
   "id": "6247ed13-3547-406d-84a0-96b372cf5659",
   "metadata": {
    "tags": []
   },
   "outputs": [
    {
     "name": "stdout",
     "output_type": "stream",
     "text": [
      "<class 'dict'>\n"
     ]
    }
   ],
   "source": [
    "print(type(outputs))"
   ]
  },
  {
   "cell_type": "code",
   "execution_count": 14,
   "id": "063c0d67-376e-4b77-aad0-8eb43695603a",
   "metadata": {
    "tags": []
   },
   "outputs": [
    {
     "name": "stdout",
     "output_type": "stream",
     "text": [
      "torch.Size([8, 884, 33])\n"
     ]
    }
   ],
   "source": [
    "print(outputs[\"logits\"].shape)"
   ]
  },
  {
   "cell_type": "code",
   "execution_count": 15,
   "id": "903a1300-a20f-49f9-bc07-86335400fbf3",
   "metadata": {
    "tags": []
   },
   "outputs": [
    {
     "name": "stdout",
     "output_type": "stream",
     "text": [
      "{'logits': tensor([[[ 14.2351,  -7.3852,  -6.2489,  ..., -15.6001, -15.7696,  -7.3804],\n",
      "         [ -7.4059, -15.0762,  -7.7357,  ..., -15.8675, -16.0993, -15.0751],\n",
      "         [-11.7911, -19.6771, -10.7796,  ..., -16.2037, -16.2054, -19.6660],\n",
      "         ...,\n",
      "         [-10.3239, -17.0342, -10.4923,  ..., -16.2025, -16.2505, -17.0353],\n",
      "         [-10.8626, -18.0419, -11.0570,  ..., -16.2881, -16.3453, -18.0377],\n",
      "         [-10.8497, -18.7546, -11.6085,  ..., -16.3317, -16.3946, -18.7504]],\n",
      "\n",
      "        [[ 15.3661,  -8.9175,  -6.0069,  ..., -15.3930, -15.5476,  -8.9246],\n",
      "         [ -7.3944, -15.1793,  -6.9476,  ..., -15.6827, -15.9010, -15.1780],\n",
      "         [-11.0365, -21.0386, -11.8327,  ..., -16.4465, -16.4803, -21.0372],\n",
      "         ...,\n",
      "         [-10.7051, -22.7104, -10.0268,  ..., -16.1865, -16.0903, -22.6981],\n",
      "         [-12.1272, -23.1866, -11.0768,  ..., -16.1650, -16.1004, -23.1894],\n",
      "         [-11.4274, -20.6906, -11.0352,  ..., -16.3272, -16.3195, -20.6995]],\n",
      "\n",
      "        [[ 15.1409,  -7.3800,  -6.3392,  ..., -15.7751, -15.9175,  -7.3630],\n",
      "         [ -7.0562, -17.2873,  -7.4785,  ..., -15.4599, -15.8634, -17.2807],\n",
      "         [-12.1553, -20.7590, -12.1886,  ..., -16.2713, -16.4757, -20.7458],\n",
      "         ...,\n",
      "         [ -9.1377, -18.2674,  -9.8503,  ..., -16.3767, -16.3937, -18.2594],\n",
      "         [ -9.1375, -18.2942,  -9.5004,  ..., -16.3589, -16.3910, -18.2750],\n",
      "         [-11.3009, -20.4799, -10.5267,  ..., -16.3222, -16.3355, -20.4549]],\n",
      "\n",
      "        ...,\n",
      "\n",
      "        [[ 14.9447,  -8.2206,  -6.3125,  ..., -15.6045, -15.7326,  -8.2256],\n",
      "         [ -6.8806, -14.7277,  -7.6904,  ..., -15.8295, -16.0558, -14.7268],\n",
      "         [-11.3938, -20.7254, -11.7880,  ..., -16.6348, -16.6909, -20.7199],\n",
      "         ...,\n",
      "         [-11.2966, -19.9130, -11.0983,  ..., -16.2725, -16.2737, -19.9082],\n",
      "         [-11.6034, -20.1539, -11.3951,  ..., -16.2327, -16.2585, -20.1485],\n",
      "         [-11.2236, -20.2068, -11.3057,  ..., -16.2854, -16.3019, -20.2066]],\n",
      "\n",
      "        [[ 15.4551,  -5.7811,  -5.2220,  ..., -15.3973, -15.5893,  -5.7694],\n",
      "         [ -8.9538, -14.4900,  -9.0114,  ..., -15.8785, -16.0705, -14.4804],\n",
      "         [-11.8573, -20.1112,  -9.6548,  ..., -16.4026, -16.4960, -20.0951],\n",
      "         ...,\n",
      "         [-11.5615, -19.0621, -10.5073,  ..., -16.1311, -16.2332, -19.0541],\n",
      "         [-10.1884, -18.4736, -10.8202,  ..., -15.6633, -15.6830, -18.4628],\n",
      "         [-11.7326, -18.8199, -10.5263,  ..., -15.9494, -16.0477, -18.8187]],\n",
      "\n",
      "        [[ 16.3267,  -8.9463,  -7.2571,  ..., -15.1161, -15.3325,  -8.9337],\n",
      "         [ -7.7886, -15.4909,  -7.1368,  ..., -15.5989, -15.8357, -15.5024],\n",
      "         [-12.6288, -23.1090, -12.2002,  ..., -16.1703, -16.1098, -23.0935],\n",
      "         ...,\n",
      "         [-13.2199, -25.3788, -13.0310,  ..., -16.5294, -16.5059, -25.3985],\n",
      "         [-12.1629, -24.7392, -11.9712,  ..., -16.4177, -16.4165, -24.7534],\n",
      "         [-11.6075, -24.6721, -12.0428,  ..., -16.3596, -16.3572, -24.6889]]],\n",
      "       device='cuda:0'), 'representations': {}}\n"
     ]
    }
   ],
   "source": [
    "print(outputs)"
   ]
  },
  {
   "cell_type": "code",
   "execution_count": null,
   "id": "5649555b-31ff-40bf-9d98-784d5aee8c5f",
   "metadata": {},
   "outputs": [],
   "source": [
    "# ESM-2 tokeniser for data\n",
    "batch_size = 4\n",
    "\n",
    "valid_data = [(i, valid_dataset[i][\"seq\"]) for i in range(len(valid_dataset))]\n",
    "v_batch_labels, v_batch_strs, v_batch_tokens = batch_converter(valid_data)\n",
    "valid_dataloader = DataLoader(v_batch_tokens, batch_size=batch_size, shuffle=True)\n",
    "\n",
    "# Set evaluation mode for dropout and batch normalisation\n",
    "model.eval()\n",
    "\n",
    "# Initialise lists   \n",
    "predictions = []\n",
    "true_contacts = []\n",
    "\n",
    "# Turn off gradients for evaluation\n",
    "with torch.no_grad():\n",
    "    for batch in valid_dataloader:\n",
    "        inputs = v_batch_tokens.to(device)  # Move batch to the specified device\n",
    "        outputs = model(inputs)\n",
    "        predictions.extend(outputs.tolist())\n",
    "\n",
    "# Convert predictions and contact lists into tensors\n",
    "predictions = torch.tensor(predictions)\n",
    "true_contacts = torch.tensor(targets)\n",
    "\n",
    "# Evaluation metrics\n",
    "accuracy = accuracy_score(true_contacts, predictions)\n",
    "precision = precision_score(true_contacts, predictions)\n",
    "recall = recall_score(true_contacts, predictions)\n",
    "f1 = f1_score(true_contacts, predictions)\n",
    "\n",
    "print(f\"Accuracy: {accuracy:.4f}\")\n",
    "print(f\"Precision: {precision:.4f}\")\n",
    "print(f\"Recall: {recall:.4f}\")\n",
    "print(f\"F1-Score: {f1:.4f}\")"
   ]
  }
 ],
 "metadata": {
  "kernelspec": {
   "display_name": "Python 3 (ipykernel)",
   "language": "python",
   "name": "python3"
  },
  "language_info": {
   "codemirror_mode": {
    "name": "ipython",
    "version": 3
   },
   "file_extension": ".py",
   "mimetype": "text/x-python",
   "name": "python",
   "nbconvert_exporter": "python",
   "pygments_lexer": "ipython3",
   "version": "3.9.16"
  }
 },
 "nbformat": 4,
 "nbformat_minor": 5
}
